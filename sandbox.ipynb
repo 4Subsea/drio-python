{
 "cells": [
  {
   "cell_type": "code",
   "execution_count": 1,
   "metadata": {},
   "outputs": [],
   "source": [
    "import datareservoirio as drio\n",
    "import logging\n",
    "import pandas as pd"
   ]
  },
  {
   "cell_type": "code",
   "execution_count": 2,
   "metadata": {},
   "outputs": [],
   "source": [
    "logger = logging.getLogger('datareservoirio')\n",
    "handler = logging.StreamHandler()\n",
    "formatter = logging.Formatter('%(asctime)s %(name)-20s %(levelname)-5s %(message)s')\n",
    "handler.setFormatter(formatter)\n",
    "logger.addHandler(handler)\n",
    "logger.setLevel(logging.DEBUG)"
   ]
  },
  {
   "cell_type": "code",
   "execution_count": 3,
   "metadata": {},
   "outputs": [
    {
     "name": "stderr",
     "output_type": "stream",
     "text": [
      "2023-10-31 11:25:27,610 datareservoirio.storage.storage DEBUG Current cache disk usage (estimate): 1067674658 of 1073741824\n"
     ]
    }
   ],
   "source": [
    "auth = drio.Authenticator()\n",
    "client = drio.Client(auth, cache=True)"
   ]
  },
  {
   "cell_type": "code",
   "execution_count": 4,
   "metadata": {},
   "outputs": [
    {
     "name": "stderr",
     "output_type": "stream",
     "text": [
      "2023-10-31 11:25:38,842 datareservoirio.client INFO  Retrying datareservoirio.client.Client.get in 0.1 seconds as it raised ConnectionError: HTTPSConnectionPool(host='reservoir-api.4subsea.net', port=443): Max retries exceeded with url: /api/timeseries/d1633b39-18fd-4882-8e97-4c65dc649a00/data/days?start=1665878400000000000&end=1665964799999999999 (Caused by NewConnectionError('<urllib3.connection.HTTPSConnection object at 0x00000163B9E61810>: Failed to establish a new connection: [WinError 10061] No connection could be made because the target machine actively refused it')).\n",
      "2023-10-31 11:25:50,183 datareservoirio.client INFO  Retrying datareservoirio.client.Client.get in 0.5 seconds as it raised ConnectionError: HTTPSConnectionPool(host='reservoir-api.4subsea.net', port=443): Max retries exceeded with url: /api/timeseries/d1633b39-18fd-4882-8e97-4c65dc649a00/data/days?start=1665878400000000000&end=1665964799999999999 (Caused by NewConnectionError('<urllib3.connection.HTTPSConnection object at 0x00000163B9E63970>: Failed to establish a new connection: [WinError 10061] No connection could be made because the target machine actively refused it')).\n",
      "2023-10-31 11:26:01,912 datareservoirio.client INFO  Retrying datareservoirio.client.Client.get in 30.0 seconds as it raised ConnectionError: HTTPSConnectionPool(host='reservoir-api.4subsea.net', port=443): Max retries exceeded with url: /api/timeseries/d1633b39-18fd-4882-8e97-4c65dc649a00/data/days?start=1665878400000000000&end=1665964799999999999 (Caused by NewConnectionError('<urllib3.connection.HTTPSConnection object at 0x00000163B9EAC070>: Failed to establish a new connection: [WinError 10061] No connection could be made because the target machine actively refused it')).\n",
      "2023-10-31 11:26:32,673 datareservoirio._logging_exception_logger ERROR RetryError[<Future at 0x163b9e62ef0 state=finished raised ValueError>]\n",
      "Traceback (most recent call last):\n",
      "  File \"c:\\Code\\drio-python\\.venv\\lib\\site-packages\\tenacity\\__init__.py\", line 382, in __call__\n",
      "    result = fn(*args, **kwargs)\n",
      "  File \"c:\\Code\\drio-python\\datareservoirio\\client.py\", line 409, in get\n",
      "    raise ValueError(\"can't find data in the given interval\")\n",
      "ValueError: can't find data in the given interval\n",
      "\n",
      "The above exception was the direct cause of the following exception:\n",
      "\n",
      "Traceback (most recent call last):\n",
      "  File \"c:\\Code\\drio-python\\datareservoirio\\_logging.py\", line 29, in wrapper\n",
      "    return func(self, *args, **kwargs)\n",
      "  File \"c:\\Code\\drio-python\\datareservoirio\\client.py\", line 294, in wrapper\n",
      "    result = func(self, series_id, start=start, end=end, **kwargs)\n",
      "  File \"c:\\Code\\drio-python\\.venv\\lib\\site-packages\\tenacity\\__init__.py\", line 289, in wrapped_f\n",
      "    return self(f, *args, **kw)\n",
      "  File \"c:\\Code\\drio-python\\.venv\\lib\\site-packages\\tenacity\\__init__.py\", line 379, in __call__\n",
      "    do = self.iter(retry_state=retry_state)\n",
      "  File \"c:\\Code\\drio-python\\.venv\\lib\\site-packages\\tenacity\\__init__.py\", line 326, in iter\n",
      "    raise retry_exc from fut.exception()\n",
      "tenacity.RetryError: RetryError[<Future at 0x163b9e62ef0 state=finished raised ValueError>]\n"
     ]
    },
    {
     "ename": "RetryError",
     "evalue": "RetryError[<Future at 0x163b9e62ef0 state=finished raised ValueError>]",
     "output_type": "error",
     "traceback": [
      "\u001b[1;31m---------------------------------------------------------------------------\u001b[0m",
      "\u001b[1;31mValueError\u001b[0m                                Traceback (most recent call last)",
      "File \u001b[1;32mc:\\Code\\drio-python\\.venv\\lib\\site-packages\\tenacity\\__init__.py:382\u001b[0m, in \u001b[0;36mRetrying.__call__\u001b[1;34m(self, fn, *args, **kwargs)\u001b[0m\n\u001b[0;32m    381\u001b[0m \u001b[39mtry\u001b[39;00m:\n\u001b[1;32m--> 382\u001b[0m     result \u001b[39m=\u001b[39m fn(\u001b[39m*\u001b[39margs, \u001b[39m*\u001b[39m\u001b[39m*\u001b[39mkwargs)\n\u001b[0;32m    383\u001b[0m \u001b[39mexcept\u001b[39;00m \u001b[39mBaseException\u001b[39;00m:  \u001b[39m# noqa: B902\u001b[39;00m\n",
      "File \u001b[1;32mc:\\Code\\drio-python\\datareservoirio\\client.py:409\u001b[0m, in \u001b[0;36mClient.get\u001b[1;34m(self, series_id, start, end, convert_date, raise_empty)\u001b[0m\n\u001b[0;32m    408\u001b[0m \u001b[39mif\u001b[39;00m series\u001b[39m.\u001b[39mempty \u001b[39mand\u001b[39;00m raise_empty:  \u001b[39m# may become empty after slicing\u001b[39;00m\n\u001b[1;32m--> 409\u001b[0m     \u001b[39mraise\u001b[39;00m \u001b[39mValueError\u001b[39;00m(\u001b[39m\"\u001b[39m\u001b[39mcan\u001b[39m\u001b[39m'\u001b[39m\u001b[39mt find data in the given interval\u001b[39m\u001b[39m\"\u001b[39m)\n\u001b[0;32m    411\u001b[0m \u001b[39mif\u001b[39;00m convert_date:\n",
      "\u001b[1;31mValueError\u001b[0m: can't find data in the given interval",
      "\nThe above exception was the direct cause of the following exception:\n",
      "\u001b[1;31mRetryError\u001b[0m                                Traceback (most recent call last)",
      "\u001b[1;32mc:\\Code\\drio-python\\sandbox.ipynb Cell 4\u001b[0m line \u001b[0;36m7\n\u001b[0;32m      <a href='vscode-notebook-cell:/c%3A/Code/drio-python/sandbox.ipynb#W3sZmlsZQ%3D%3D?line=4'>5</a>\u001b[0m series_id \u001b[39m=\u001b[39m \u001b[39m\"\u001b[39m\u001b[39md1633b39-18fd-4882-8e97-4c65dc649a00\u001b[39m\u001b[39m\"\u001b[39m\n\u001b[0;32m      <a href='vscode-notebook-cell:/c%3A/Code/drio-python/sandbox.ipynb#W3sZmlsZQ%3D%3D?line=5'>6</a>\u001b[0m \u001b[39mfor\u001b[39;00m start, end \u001b[39min\u001b[39;00m start_end_iter:\n\u001b[1;32m----> <a href='vscode-notebook-cell:/c%3A/Code/drio-python/sandbox.ipynb#W3sZmlsZQ%3D%3D?line=6'>7</a>\u001b[0m     timeseries \u001b[39m=\u001b[39m client\u001b[39m.\u001b[39;49mget(series_id, start\u001b[39m=\u001b[39;49mstart, end\u001b[39m=\u001b[39;49mend, raise_empty \u001b[39m=\u001b[39;49m \u001b[39mTrue\u001b[39;49;00m)\n",
      "File \u001b[1;32mc:\\Code\\drio-python\\datareservoirio\\_logging.py:37\u001b[0m, in \u001b[0;36mlog_exception.<locals>.wrapper\u001b[1;34m(self, *args, **kwargs)\u001b[0m\n\u001b[0;32m     31\u001b[0m properties \u001b[39m=\u001b[39m {\n\u001b[0;32m     32\u001b[0m     \u001b[39m\"\u001b[39m\u001b[39mcustom_dimensions\u001b[39m\u001b[39m\"\u001b[39m: {\n\u001b[0;32m     33\u001b[0m         \u001b[39m\"\u001b[39m\u001b[39mdrio_package\u001b[39m\u001b[39m\"\u001b[39m: \u001b[39mf\u001b[39m\u001b[39m\"\u001b[39m\u001b[39mpython-datareservoirio/\u001b[39m\u001b[39m{\u001b[39;00mdrio\u001b[39m.\u001b[39m__version__\u001b[39m}\u001b[39;00m\u001b[39m\"\u001b[39m\n\u001b[0;32m     34\u001b[0m     }\n\u001b[0;32m     35\u001b[0m }\n\u001b[0;32m     36\u001b[0m exceptions_logger\u001b[39m.\u001b[39mexception(e, extra\u001b[39m=\u001b[39mproperties)\n\u001b[1;32m---> 37\u001b[0m \u001b[39mraise\u001b[39;00m e\n",
      "File \u001b[1;32mc:\\Code\\drio-python\\datareservoirio\\_logging.py:29\u001b[0m, in \u001b[0;36mlog_exception.<locals>.wrapper\u001b[1;34m(self, *args, **kwargs)\u001b[0m\n\u001b[0;32m     26\u001b[0m \u001b[39m@wraps\u001b[39m(func)\n\u001b[0;32m     27\u001b[0m \u001b[39mdef\u001b[39;00m \u001b[39mwrapper\u001b[39m(\u001b[39mself\u001b[39m, \u001b[39m*\u001b[39margs, \u001b[39m*\u001b[39m\u001b[39m*\u001b[39mkwargs):\n\u001b[0;32m     28\u001b[0m     \u001b[39mtry\u001b[39;00m:\n\u001b[1;32m---> 29\u001b[0m         \u001b[39mreturn\u001b[39;00m func(\u001b[39mself\u001b[39m, \u001b[39m*\u001b[39margs, \u001b[39m*\u001b[39m\u001b[39m*\u001b[39mkwargs)\n\u001b[0;32m     30\u001b[0m     \u001b[39mexcept\u001b[39;00m \u001b[39mException\u001b[39;00m \u001b[39mas\u001b[39;00m e:\n\u001b[0;32m     31\u001b[0m         properties \u001b[39m=\u001b[39m {\n\u001b[0;32m     32\u001b[0m             \u001b[39m\"\u001b[39m\u001b[39mcustom_dimensions\u001b[39m\u001b[39m\"\u001b[39m: {\n\u001b[0;32m     33\u001b[0m                 \u001b[39m\"\u001b[39m\u001b[39mdrio_package\u001b[39m\u001b[39m\"\u001b[39m: \u001b[39mf\u001b[39m\u001b[39m\"\u001b[39m\u001b[39mpython-datareservoirio/\u001b[39m\u001b[39m{\u001b[39;00mdrio\u001b[39m.\u001b[39m__version__\u001b[39m}\u001b[39;00m\u001b[39m\"\u001b[39m\n\u001b[0;32m     34\u001b[0m             }\n\u001b[0;32m     35\u001b[0m         }\n",
      "File \u001b[1;32mc:\\Code\\drio-python\\datareservoirio\\client.py:294\u001b[0m, in \u001b[0;36mClient._timer.<locals>.wrapper\u001b[1;34m(self, series_id, start, end, **kwargs)\u001b[0m\n\u001b[0;32m    291\u001b[0m \u001b[39m@wraps\u001b[39m(func)\n\u001b[0;32m    292\u001b[0m \u001b[39mdef\u001b[39;00m \u001b[39mwrapper\u001b[39m(\u001b[39mself\u001b[39m, series_id, start\u001b[39m=\u001b[39m\u001b[39mNone\u001b[39;00m, end\u001b[39m=\u001b[39m\u001b[39mNone\u001b[39;00m, \u001b[39m*\u001b[39m\u001b[39m*\u001b[39mkwargs):\n\u001b[0;32m    293\u001b[0m     start_time \u001b[39m=\u001b[39m time\u001b[39m.\u001b[39mperf_counter()\n\u001b[1;32m--> 294\u001b[0m     result \u001b[39m=\u001b[39m func(\u001b[39mself\u001b[39m, series_id, start\u001b[39m=\u001b[39mstart, end\u001b[39m=\u001b[39mend, \u001b[39m*\u001b[39m\u001b[39m*\u001b[39mkwargs)\n\u001b[0;32m    295\u001b[0m     end_time \u001b[39m=\u001b[39m time\u001b[39m.\u001b[39mperf_counter()\n\u001b[0;32m    296\u001b[0m     elapsed_time \u001b[39m=\u001b[39m end_time \u001b[39m-\u001b[39m start_time\n",
      "File \u001b[1;32mc:\\Code\\drio-python\\.venv\\lib\\site-packages\\tenacity\\__init__.py:289\u001b[0m, in \u001b[0;36mBaseRetrying.wraps.<locals>.wrapped_f\u001b[1;34m(*args, **kw)\u001b[0m\n\u001b[0;32m    287\u001b[0m \u001b[39m@functools\u001b[39m\u001b[39m.\u001b[39mwraps(f)\n\u001b[0;32m    288\u001b[0m \u001b[39mdef\u001b[39;00m \u001b[39mwrapped_f\u001b[39m(\u001b[39m*\u001b[39margs: t\u001b[39m.\u001b[39mAny, \u001b[39m*\u001b[39m\u001b[39m*\u001b[39mkw: t\u001b[39m.\u001b[39mAny) \u001b[39m-\u001b[39m\u001b[39m>\u001b[39m t\u001b[39m.\u001b[39mAny:\n\u001b[1;32m--> 289\u001b[0m     \u001b[39mreturn\u001b[39;00m \u001b[39mself\u001b[39m(f, \u001b[39m*\u001b[39margs, \u001b[39m*\u001b[39m\u001b[39m*\u001b[39mkw)\n",
      "File \u001b[1;32mc:\\Code\\drio-python\\.venv\\lib\\site-packages\\tenacity\\__init__.py:379\u001b[0m, in \u001b[0;36mRetrying.__call__\u001b[1;34m(self, fn, *args, **kwargs)\u001b[0m\n\u001b[0;32m    377\u001b[0m retry_state \u001b[39m=\u001b[39m RetryCallState(retry_object\u001b[39m=\u001b[39m\u001b[39mself\u001b[39m, fn\u001b[39m=\u001b[39mfn, args\u001b[39m=\u001b[39margs, kwargs\u001b[39m=\u001b[39mkwargs)\n\u001b[0;32m    378\u001b[0m \u001b[39mwhile\u001b[39;00m \u001b[39mTrue\u001b[39;00m:\n\u001b[1;32m--> 379\u001b[0m     do \u001b[39m=\u001b[39m \u001b[39mself\u001b[39;49m\u001b[39m.\u001b[39;49miter(retry_state\u001b[39m=\u001b[39;49mretry_state)\n\u001b[0;32m    380\u001b[0m     \u001b[39mif\u001b[39;00m \u001b[39misinstance\u001b[39m(do, DoAttempt):\n\u001b[0;32m    381\u001b[0m         \u001b[39mtry\u001b[39;00m:\n",
      "File \u001b[1;32mc:\\Code\\drio-python\\.venv\\lib\\site-packages\\tenacity\\__init__.py:326\u001b[0m, in \u001b[0;36mBaseRetrying.iter\u001b[1;34m(self, retry_state)\u001b[0m\n\u001b[0;32m    324\u001b[0m     \u001b[39mif\u001b[39;00m \u001b[39mself\u001b[39m\u001b[39m.\u001b[39mreraise:\n\u001b[0;32m    325\u001b[0m         \u001b[39mraise\u001b[39;00m retry_exc\u001b[39m.\u001b[39mreraise()\n\u001b[1;32m--> 326\u001b[0m     \u001b[39mraise\u001b[39;00m retry_exc \u001b[39mfrom\u001b[39;00m \u001b[39mfut\u001b[39;00m\u001b[39m.\u001b[39;00m\u001b[39mexception\u001b[39;00m()\n\u001b[0;32m    328\u001b[0m \u001b[39mif\u001b[39;00m \u001b[39mself\u001b[39m\u001b[39m.\u001b[39mwait:\n\u001b[0;32m    329\u001b[0m     sleep \u001b[39m=\u001b[39m \u001b[39mself\u001b[39m\u001b[39m.\u001b[39mwait(retry_state)\n",
      "\u001b[1;31mRetryError\u001b[0m: RetryError[<Future at 0x163b9e62ef0 state=finished raised ValueError>]"
     ]
    }
   ],
   "source": [
    "start_date = \"2022-10-16 00:00:00\"\n",
    "end_date = \"2022-10-18 00:00:00\"\n",
    "date_range = pd.date_range(start_date, end_date, freq='1D')\n",
    "start_end_iter = zip(date_range[:-1], date_range[1:])\n",
    "series_id = \"d1633b39-18fd-4882-8e97-4c65dc649a00\"\n",
    "for start, end in start_end_iter:\n",
    "    timeseries = client.get(series_id, start=start, end=end, raise_empty = True)"
   ]
  },
  {
   "cell_type": "markdown",
   "metadata": {},
   "source": []
  }
 ],
 "metadata": {
  "kernelspec": {
   "display_name": ".venv",
   "language": "python",
   "name": "python3"
  },
  "language_info": {
   "codemirror_mode": {
    "name": "ipython",
    "version": 3
   },
   "file_extension": ".py",
   "mimetype": "text/x-python",
   "name": "python",
   "nbconvert_exporter": "python",
   "pygments_lexer": "ipython3",
   "version": "3.10.5"
  }
 },
 "nbformat": 4,
 "nbformat_minor": 2
}
