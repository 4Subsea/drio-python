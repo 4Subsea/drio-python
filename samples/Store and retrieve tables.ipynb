{
 "cells": [
  {
   "cell_type": "code",
   "execution_count": 1,
   "metadata": {
    "collapsed": false
   },
   "outputs": [],
   "source": [
    "import numpy as np\n",
    "import pandas as pd\n",
    "import matplotlib.pyplot as plt\n",
    "\n",
    "%matplotlib notebook\n",
    "\n",
    "import datareservoirio as drio"
   ]
  },
  {
   "cell_type": "code",
   "execution_count": 2,
   "metadata": {
    "collapsed": true
   },
   "outputs": [],
   "source": [
    "drio.globalsettings.environment.set_test()  # Work with test environment"
   ]
  },
  {
   "cell_type": "markdown",
   "metadata": {},
   "source": [
    "# Create table\n",
    "Lets create a table in Pandas -> DataFrame. "
   ]
  },
  {
   "cell_type": "code",
   "execution_count": 3,
   "metadata": {
    "collapsed": false
   },
   "outputs": [],
   "source": [
    "table_dummy = pd.DataFrame(\n",
    "    {\n",
    "        \"temp\": 20.0 + np.random.randn(100),\n",
    "        \"strain\": np.linspace(0.001, 0.01, num=100),\n",
    "        \"stress\": np.linspace(10.0, 359.0, num=100),\n",
    "    }\n",
    ")"
   ]
  },
  {
   "cell_type": "code",
   "execution_count": 4,
   "metadata": {
    "collapsed": false
   },
   "outputs": [
    {
     "data": {
      "text/html": [
       "<div>\n",
       "<style>\n",
       "    .dataframe thead tr:only-child th {\n",
       "        text-align: right;\n",
       "    }\n",
       "\n",
       "    .dataframe thead th {\n",
       "        text-align: left;\n",
       "    }\n",
       "\n",
       "    .dataframe tbody tr th {\n",
       "        vertical-align: top;\n",
       "    }\n",
       "</style>\n",
       "<table border=\"1\" class=\"dataframe\">\n",
       "  <thead>\n",
       "    <tr style=\"text-align: right;\">\n",
       "      <th></th>\n",
       "      <th>strain</th>\n",
       "      <th>stress</th>\n",
       "      <th>temp</th>\n",
       "    </tr>\n",
       "  </thead>\n",
       "  <tbody>\n",
       "    <tr>\n",
       "      <th>0</th>\n",
       "      <td>0.001000</td>\n",
       "      <td>10.000000</td>\n",
       "      <td>20.555778</td>\n",
       "    </tr>\n",
       "    <tr>\n",
       "      <th>1</th>\n",
       "      <td>0.001091</td>\n",
       "      <td>13.525253</td>\n",
       "      <td>21.085800</td>\n",
       "    </tr>\n",
       "    <tr>\n",
       "      <th>2</th>\n",
       "      <td>0.001182</td>\n",
       "      <td>17.050505</td>\n",
       "      <td>20.291327</td>\n",
       "    </tr>\n",
       "    <tr>\n",
       "      <th>3</th>\n",
       "      <td>0.001273</td>\n",
       "      <td>20.575758</td>\n",
       "      <td>18.878574</td>\n",
       "    </tr>\n",
       "    <tr>\n",
       "      <th>4</th>\n",
       "      <td>0.001364</td>\n",
       "      <td>24.101010</td>\n",
       "      <td>21.370149</td>\n",
       "    </tr>\n",
       "    <tr>\n",
       "      <th>5</th>\n",
       "      <td>0.001455</td>\n",
       "      <td>27.626263</td>\n",
       "      <td>20.397454</td>\n",
       "    </tr>\n",
       "    <tr>\n",
       "      <th>6</th>\n",
       "      <td>0.001545</td>\n",
       "      <td>31.151515</td>\n",
       "      <td>20.818865</td>\n",
       "    </tr>\n",
       "    <tr>\n",
       "      <th>7</th>\n",
       "      <td>0.001636</td>\n",
       "      <td>34.676768</td>\n",
       "      <td>19.783192</td>\n",
       "    </tr>\n",
       "    <tr>\n",
       "      <th>8</th>\n",
       "      <td>0.001727</td>\n",
       "      <td>38.202020</td>\n",
       "      <td>19.190838</td>\n",
       "    </tr>\n",
       "    <tr>\n",
       "      <th>9</th>\n",
       "      <td>0.001818</td>\n",
       "      <td>41.727273</td>\n",
       "      <td>19.519266</td>\n",
       "    </tr>\n",
       "  </tbody>\n",
       "</table>\n",
       "</div>"
      ],
      "text/plain": [
       "     strain     stress       temp\n",
       "0  0.001000  10.000000  20.555778\n",
       "1  0.001091  13.525253  21.085800\n",
       "2  0.001182  17.050505  20.291327\n",
       "3  0.001273  20.575758  18.878574\n",
       "4  0.001364  24.101010  21.370149\n",
       "5  0.001455  27.626263  20.397454\n",
       "6  0.001545  31.151515  20.818865\n",
       "7  0.001636  34.676768  19.783192\n",
       "8  0.001727  38.202020  19.190838\n",
       "9  0.001818  41.727273  19.519266"
      ]
     },
     "execution_count": 4,
     "metadata": {},
     "output_type": "execute_result"
    }
   ],
   "source": [
    "table_dummy.head(10)"
   ]
  },
  {
   "cell_type": "markdown",
   "metadata": {},
   "source": [
    "# Simple table uploader"
   ]
  },
  {
   "cell_type": "code",
   "execution_count": 5,
   "metadata": {
    "collapsed": true
   },
   "outputs": [],
   "source": [
    "def table_uploader(auth, table, table_name):\n",
    "    client = drio.Client(auth)\n",
    "    \n",
    "    table_summary = {'name': table_name,\n",
    "                     'columns': {}}\n",
    "    for col in table:\n",
    "        print col\n",
    "        response = client.create(pd.Series(table[col]))\n",
    "        table_summary['columns'][col] = response['TimeSeriesId']\n",
    "    return table_summary"
   ]
  },
  {
   "cell_type": "markdown",
   "metadata": {},
   "source": [
    "# Upload to the reservoir"
   ]
  },
  {
   "cell_type": "markdown",
   "metadata": {},
   "source": [
    "First, authenticate yourself towards the reservoir."
   ]
  },
  {
   "cell_type": "code",
   "execution_count": 6,
   "metadata": {
    "collapsed": false
   },
   "outputs": [
    {
     "name": "stdout",
     "output_type": "stream",
     "text": [
      "Password: ········\n"
     ]
    }
   ],
   "source": [
    "auth_key = drio.Authenticator(\"reservoir-integrationtest@4subsea.com\")"
   ]
  },
  {
   "cell_type": "markdown",
   "metadata": {},
   "source": [
    "Then initiate a client and use the authentication key."
   ]
  },
  {
   "cell_type": "code",
   "execution_count": 7,
   "metadata": {
    "collapsed": false
   },
   "outputs": [
    {
     "name": "stdout",
     "output_type": "stream",
     "text": [
      "strain\n",
      "stress\n",
      "temp\n"
     ]
    }
   ],
   "source": [
    "table_summary = table_uploader(auth_key, table_dummy, \"SuperDuperTable\")"
   ]
  },
  {
   "cell_type": "markdown",
   "metadata": {},
   "source": [
    "Upload the DataFrame and store the response from the reservoir."
   ]
  },
  {
   "cell_type": "code",
   "execution_count": 8,
   "metadata": {
    "collapsed": false
   },
   "outputs": [
    {
     "data": {
      "text/plain": [
       "{'columns': {'strain': u'd01d55c7-ca11-4913-9ec0-fbab5b09833d',\n",
       "  'stress': u'890a72e5-97fd-4bf9-ae07-149195bfc434',\n",
       "  'temp': u'69e69ecc-2843-417b-8473-bd54f56c6c7f'},\n",
       " 'name': 'SuperDuperTable'}"
      ]
     },
     "execution_count": 8,
     "metadata": {},
     "output_type": "execute_result"
    }
   ],
   "source": [
    "table_summary"
   ]
  },
  {
   "cell_type": "markdown",
   "metadata": {},
   "source": [
    "The reservoir assigns a unique id - TimeSeriesId. This id can be used to make requests towards the reservoir."
   ]
  },
  {
   "cell_type": "markdown",
   "metadata": {},
   "source": [
    "# Retrieve data back from the reservoir\n",
    "You can download data from the reservoir. Data is presented as Pandas Series object. The index is by default kept as integers."
   ]
  },
  {
   "cell_type": "markdown",
   "metadata": {},
   "source": [
    "## Simple table downloader"
   ]
  },
  {
   "cell_type": "code",
   "execution_count": 11,
   "metadata": {
    "collapsed": true
   },
   "outputs": [],
   "source": [
    "def table_download(auth, table_summary):\n",
    "    client = drio.Client(auth)\n",
    "    table = {}\n",
    "    \n",
    "    for col in table_summary['columns']:\n",
    "        print col\n",
    "        table[col] = client.get(table_summary['columns'][col])\n",
    "    df = pd.DataFrame(table)\n",
    "    df.index.name = None\n",
    "    return df"
   ]
  },
  {
   "cell_type": "code",
   "execution_count": 12,
   "metadata": {
    "collapsed": false
   },
   "outputs": [
    {
     "name": "stdout",
     "output_type": "stream",
     "text": [
      "strain\n",
      "stress\n",
      "temp\n"
     ]
    }
   ],
   "source": [
    "table = table_download(auth_key, table_summary)"
   ]
  },
  {
   "cell_type": "code",
   "execution_count": 13,
   "metadata": {
    "collapsed": false
   },
   "outputs": [
    {
     "data": {
      "text/html": [
       "<div>\n",
       "<style>\n",
       "    .dataframe thead tr:only-child th {\n",
       "        text-align: right;\n",
       "    }\n",
       "\n",
       "    .dataframe thead th {\n",
       "        text-align: left;\n",
       "    }\n",
       "\n",
       "    .dataframe tbody tr th {\n",
       "        vertical-align: top;\n",
       "    }\n",
       "</style>\n",
       "<table border=\"1\" class=\"dataframe\">\n",
       "  <thead>\n",
       "    <tr style=\"text-align: right;\">\n",
       "      <th></th>\n",
       "      <th>strain</th>\n",
       "      <th>stress</th>\n",
       "      <th>temp</th>\n",
       "    </tr>\n",
       "  </thead>\n",
       "  <tbody>\n",
       "    <tr>\n",
       "      <th>0</th>\n",
       "      <td>0.001000</td>\n",
       "      <td>10.000000</td>\n",
       "      <td>20.555778</td>\n",
       "    </tr>\n",
       "    <tr>\n",
       "      <th>1</th>\n",
       "      <td>0.001091</td>\n",
       "      <td>13.525253</td>\n",
       "      <td>21.085800</td>\n",
       "    </tr>\n",
       "    <tr>\n",
       "      <th>2</th>\n",
       "      <td>0.001182</td>\n",
       "      <td>17.050505</td>\n",
       "      <td>20.291327</td>\n",
       "    </tr>\n",
       "    <tr>\n",
       "      <th>3</th>\n",
       "      <td>0.001273</td>\n",
       "      <td>20.575758</td>\n",
       "      <td>18.878574</td>\n",
       "    </tr>\n",
       "    <tr>\n",
       "      <th>4</th>\n",
       "      <td>0.001364</td>\n",
       "      <td>24.101010</td>\n",
       "      <td>21.370149</td>\n",
       "    </tr>\n",
       "    <tr>\n",
       "      <th>5</th>\n",
       "      <td>0.001455</td>\n",
       "      <td>27.626263</td>\n",
       "      <td>20.397454</td>\n",
       "    </tr>\n",
       "    <tr>\n",
       "      <th>6</th>\n",
       "      <td>0.001545</td>\n",
       "      <td>31.151515</td>\n",
       "      <td>20.818865</td>\n",
       "    </tr>\n",
       "    <tr>\n",
       "      <th>7</th>\n",
       "      <td>0.001636</td>\n",
       "      <td>34.676768</td>\n",
       "      <td>19.783192</td>\n",
       "    </tr>\n",
       "    <tr>\n",
       "      <th>8</th>\n",
       "      <td>0.001727</td>\n",
       "      <td>38.202020</td>\n",
       "      <td>19.190838</td>\n",
       "    </tr>\n",
       "    <tr>\n",
       "      <th>9</th>\n",
       "      <td>0.001818</td>\n",
       "      <td>41.727273</td>\n",
       "      <td>19.519266</td>\n",
       "    </tr>\n",
       "  </tbody>\n",
       "</table>\n",
       "</div>"
      ],
      "text/plain": [
       "     strain     stress       temp\n",
       "0  0.001000  10.000000  20.555778\n",
       "1  0.001091  13.525253  21.085800\n",
       "2  0.001182  17.050505  20.291327\n",
       "3  0.001273  20.575758  18.878574\n",
       "4  0.001364  24.101010  21.370149\n",
       "5  0.001455  27.626263  20.397454\n",
       "6  0.001545  31.151515  20.818865\n",
       "7  0.001636  34.676768  19.783192\n",
       "8  0.001727  38.202020  19.190838\n",
       "9  0.001818  41.727273  19.519266"
      ]
     },
     "execution_count": 13,
     "metadata": {},
     "output_type": "execute_result"
    }
   ],
   "source": [
    "table.head(10)"
   ]
  },
  {
   "cell_type": "markdown",
   "metadata": {},
   "source": [
    "# Delete data in the reservoir"
   ]
  },
  {
   "cell_type": "code",
   "execution_count": 14,
   "metadata": {
    "collapsed": true
   },
   "outputs": [],
   "source": [
    "def table_delete(auth, table_summary):\n",
    "    client = tsc.TimeSeriesClient(auth)\n",
    "\n",
    "    for col in table_summary['columns']:\n",
    "        print col\n",
    "        table[col] = client.delete(table_summary['columns'][col])"
   ]
  }
 ],
 "metadata": {
  "anaconda-cloud": {},
  "kernelspec": {
   "display_name": "Python [default]",
   "language": "python",
   "name": "python2"
  },
  "language_info": {
   "codemirror_mode": {
    "name": "ipython",
    "version": 2
   },
   "file_extension": ".py",
   "mimetype": "text/x-python",
   "name": "python",
   "nbconvert_exporter": "python",
   "pygments_lexer": "ipython2",
   "version": "2.7.13"
  }
 },
 "nbformat": 4,
 "nbformat_minor": 1
}
