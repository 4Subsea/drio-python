{
 "cells": [
  {
   "cell_type": "code",
   "execution_count": 3,
   "metadata": {
    "collapsed": false
   },
   "outputs": [],
   "source": [
    "import numpy as np\n",
    "import pandas as pd\n",
    "import matplotlib.pyplot as plt\n",
    "%matplotlib notebook\n",
    "\n",
    "import timeseriesclient as tsc"
   ]
  },
  {
   "cell_type": "code",
   "execution_count": 4,
   "metadata": {
    "collapsed": true
   },
   "outputs": [],
   "source": [
    "tsc.globalsettings.environment.set_qa()  # Work with test environment"
   ]
  },
  {
   "cell_type": "markdown",
   "metadata": {},
   "source": [
    "# Create table\n",
    "Lets create a table in Pandas -> DataFrame. "
   ]
  },
  {
   "cell_type": "code",
   "execution_count": 5,
   "metadata": {
    "collapsed": false
   },
   "outputs": [],
   "source": [
    "table_dummy = pd.DataFrame({'temp': 20. + np.random.randn(100),\n",
    "                           'strain': np.linspace(0.001, 0.01, num=100),\n",
    "                           'stress': np.linspace(10.0, 359.0, num=100)})"
   ]
  },
  {
   "cell_type": "code",
   "execution_count": 6,
   "metadata": {
    "collapsed": false
   },
   "outputs": [
    {
     "data": {
      "text/html": [
       "<div>\n",
       "<table border=\"1\" class=\"dataframe\">\n",
       "  <thead>\n",
       "    <tr style=\"text-align: right;\">\n",
       "      <th></th>\n",
       "      <th>strain</th>\n",
       "      <th>stress</th>\n",
       "      <th>temp</th>\n",
       "    </tr>\n",
       "  </thead>\n",
       "  <tbody>\n",
       "    <tr>\n",
       "      <th>0</th>\n",
       "      <td>0.001000</td>\n",
       "      <td>10.000000</td>\n",
       "      <td>19.580254</td>\n",
       "    </tr>\n",
       "    <tr>\n",
       "      <th>1</th>\n",
       "      <td>0.001091</td>\n",
       "      <td>13.525253</td>\n",
       "      <td>19.110092</td>\n",
       "    </tr>\n",
       "    <tr>\n",
       "      <th>2</th>\n",
       "      <td>0.001182</td>\n",
       "      <td>17.050505</td>\n",
       "      <td>20.280230</td>\n",
       "    </tr>\n",
       "    <tr>\n",
       "      <th>3</th>\n",
       "      <td>0.001273</td>\n",
       "      <td>20.575758</td>\n",
       "      <td>20.353088</td>\n",
       "    </tr>\n",
       "    <tr>\n",
       "      <th>4</th>\n",
       "      <td>0.001364</td>\n",
       "      <td>24.101010</td>\n",
       "      <td>20.818352</td>\n",
       "    </tr>\n",
       "    <tr>\n",
       "      <th>5</th>\n",
       "      <td>0.001455</td>\n",
       "      <td>27.626263</td>\n",
       "      <td>19.236020</td>\n",
       "    </tr>\n",
       "    <tr>\n",
       "      <th>6</th>\n",
       "      <td>0.001545</td>\n",
       "      <td>31.151515</td>\n",
       "      <td>19.946317</td>\n",
       "    </tr>\n",
       "    <tr>\n",
       "      <th>7</th>\n",
       "      <td>0.001636</td>\n",
       "      <td>34.676768</td>\n",
       "      <td>18.861846</td>\n",
       "    </tr>\n",
       "    <tr>\n",
       "      <th>8</th>\n",
       "      <td>0.001727</td>\n",
       "      <td>38.202020</td>\n",
       "      <td>20.601047</td>\n",
       "    </tr>\n",
       "    <tr>\n",
       "      <th>9</th>\n",
       "      <td>0.001818</td>\n",
       "      <td>41.727273</td>\n",
       "      <td>19.211711</td>\n",
       "    </tr>\n",
       "  </tbody>\n",
       "</table>\n",
       "</div>"
      ],
      "text/plain": [
       "     strain     stress       temp\n",
       "0  0.001000  10.000000  19.580254\n",
       "1  0.001091  13.525253  19.110092\n",
       "2  0.001182  17.050505  20.280230\n",
       "3  0.001273  20.575758  20.353088\n",
       "4  0.001364  24.101010  20.818352\n",
       "5  0.001455  27.626263  19.236020\n",
       "6  0.001545  31.151515  19.946317\n",
       "7  0.001636  34.676768  18.861846\n",
       "8  0.001727  38.202020  20.601047\n",
       "9  0.001818  41.727273  19.211711"
      ]
     },
     "execution_count": 6,
     "metadata": {},
     "output_type": "execute_result"
    }
   ],
   "source": [
    "table_dummy.head(10)"
   ]
  },
  {
   "cell_type": "markdown",
   "metadata": {},
   "source": [
    "# Simple table uploader"
   ]
  },
  {
   "cell_type": "code",
   "execution_count": 7,
   "metadata": {
    "collapsed": true
   },
   "outputs": [],
   "source": [
    "def table_uploader(auth, table, table_name):\n",
    "    client = tsc.TimeSeriesClient(auth)\n",
    "    \n",
    "    table_summary = {'name': table_name,\n",
    "                     'columns': {}}\n",
    "    for col in table:\n",
    "        print col\n",
    "        response = client.create(pd.DataFrame(table[col]))\n",
    "        table_summary['columns'][col] = response['TimeSeriesId']\n",
    "    return table_summary"
   ]
  },
  {
   "cell_type": "markdown",
   "metadata": {},
   "source": [
    "# Upload to the reservoir"
   ]
  },
  {
   "cell_type": "markdown",
   "metadata": {},
   "source": [
    "First, authenticate yourself towards the reservoir."
   ]
  },
  {
   "cell_type": "code",
   "execution_count": 8,
   "metadata": {
    "collapsed": false
   },
   "outputs": [
    {
     "name": "stdout",
     "output_type": "stream",
     "text": [
      "Password: ········\n"
     ]
    }
   ],
   "source": [
    "auth_key = tsc.Authenticator('reservoir-integrationtest@4subsea.com')"
   ]
  },
  {
   "cell_type": "markdown",
   "metadata": {},
   "source": [
    "Then initiate a client and use the authentication key."
   ]
  },
  {
   "cell_type": "code",
   "execution_count": 9,
   "metadata": {
    "collapsed": false
   },
   "outputs": [
    {
     "name": "stdout",
     "output_type": "stream",
     "text": [
      "strain\n",
      "stress\n",
      "temp\n"
     ]
    }
   ],
   "source": [
    "table_summary = table_uploader(auth_key, table_dummy, 'SuperDuperTable')"
   ]
  },
  {
   "cell_type": "markdown",
   "metadata": {},
   "source": [
    "Upload the DataFrame and store the response from the reservoir."
   ]
  },
  {
   "cell_type": "code",
   "execution_count": 10,
   "metadata": {
    "collapsed": false
   },
   "outputs": [
    {
     "data": {
      "text/plain": [
       "{'columns': {'strain': u'c45733ed-70ec-4dd1-aa1b-2ec5736637f9',\n",
       "  'stress': u'c27d34d5-b274-4c43-b602-660c28adc65c',\n",
       "  'temp': u'87a9a5b0-107f-4c67-b467-3a9a49ebe707'},\n",
       " 'name': 'SuperDuperTable'}"
      ]
     },
     "execution_count": 10,
     "metadata": {},
     "output_type": "execute_result"
    }
   ],
   "source": [
    "table_summary"
   ]
  },
  {
   "cell_type": "markdown",
   "metadata": {},
   "source": [
    "The reservoir assigns a unique id - TimeSeriesId. This id can be used to make requests towards the reservoir."
   ]
  },
  {
   "cell_type": "markdown",
   "metadata": {},
   "source": [
    "# Retrieve data back from the reservoir\n",
    "You can download data from the reservoir. Data is presented as Pandas Series object. The index is by default kept as integers."
   ]
  },
  {
   "cell_type": "markdown",
   "metadata": {},
   "source": [
    "## Simple table downloader"
   ]
  },
  {
   "cell_type": "code",
   "execution_count": 11,
   "metadata": {
    "collapsed": true
   },
   "outputs": [],
   "source": [
    "def table_download(auth, table_summary):\n",
    "    client = tsc.TimeSeriesClient(auth)\n",
    "    table = {}\n",
    "    \n",
    "    for col in table_summary['columns']:\n",
    "        print col\n",
    "        table[col] = client.get(table_summary['columns'][col])\n",
    "    df = pd.DataFrame(table)\n",
    "    df.index.name = None\n",
    "    return df"
   ]
  },
  {
   "cell_type": "code",
   "execution_count": 12,
   "metadata": {
    "collapsed": false
   },
   "outputs": [
    {
     "name": "stdout",
     "output_type": "stream",
     "text": [
      "strain\n",
      "stress\n",
      "temp\n"
     ]
    }
   ],
   "source": [
    "table = table_download(auth_key, table_summary)"
   ]
  },
  {
   "cell_type": "code",
   "execution_count": 13,
   "metadata": {
    "collapsed": false
   },
   "outputs": [
    {
     "data": {
      "text/html": [
       "<div>\n",
       "<table border=\"1\" class=\"dataframe\">\n",
       "  <thead>\n",
       "    <tr style=\"text-align: right;\">\n",
       "      <th></th>\n",
       "      <th>strain</th>\n",
       "      <th>stress</th>\n",
       "      <th>temp</th>\n",
       "    </tr>\n",
       "  </thead>\n",
       "  <tbody>\n",
       "    <tr>\n",
       "      <th>0</th>\n",
       "      <td>0.001000</td>\n",
       "      <td>10.000000</td>\n",
       "      <td>19.580254</td>\n",
       "    </tr>\n",
       "    <tr>\n",
       "      <th>1</th>\n",
       "      <td>0.001091</td>\n",
       "      <td>13.525253</td>\n",
       "      <td>19.110092</td>\n",
       "    </tr>\n",
       "    <tr>\n",
       "      <th>2</th>\n",
       "      <td>0.001182</td>\n",
       "      <td>17.050505</td>\n",
       "      <td>20.280230</td>\n",
       "    </tr>\n",
       "    <tr>\n",
       "      <th>3</th>\n",
       "      <td>0.001273</td>\n",
       "      <td>20.575758</td>\n",
       "      <td>20.353088</td>\n",
       "    </tr>\n",
       "    <tr>\n",
       "      <th>4</th>\n",
       "      <td>0.001364</td>\n",
       "      <td>24.101010</td>\n",
       "      <td>20.818352</td>\n",
       "    </tr>\n",
       "    <tr>\n",
       "      <th>5</th>\n",
       "      <td>0.001455</td>\n",
       "      <td>27.626263</td>\n",
       "      <td>19.236020</td>\n",
       "    </tr>\n",
       "    <tr>\n",
       "      <th>6</th>\n",
       "      <td>0.001545</td>\n",
       "      <td>31.151515</td>\n",
       "      <td>19.946317</td>\n",
       "    </tr>\n",
       "    <tr>\n",
       "      <th>7</th>\n",
       "      <td>0.001636</td>\n",
       "      <td>34.676768</td>\n",
       "      <td>18.861846</td>\n",
       "    </tr>\n",
       "    <tr>\n",
       "      <th>8</th>\n",
       "      <td>0.001727</td>\n",
       "      <td>38.202020</td>\n",
       "      <td>20.601047</td>\n",
       "    </tr>\n",
       "    <tr>\n",
       "      <th>9</th>\n",
       "      <td>0.001818</td>\n",
       "      <td>41.727273</td>\n",
       "      <td>19.211711</td>\n",
       "    </tr>\n",
       "  </tbody>\n",
       "</table>\n",
       "</div>"
      ],
      "text/plain": [
       "     strain     stress       temp\n",
       "0  0.001000  10.000000  19.580254\n",
       "1  0.001091  13.525253  19.110092\n",
       "2  0.001182  17.050505  20.280230\n",
       "3  0.001273  20.575758  20.353088\n",
       "4  0.001364  24.101010  20.818352\n",
       "5  0.001455  27.626263  19.236020\n",
       "6  0.001545  31.151515  19.946317\n",
       "7  0.001636  34.676768  18.861846\n",
       "8  0.001727  38.202020  20.601047\n",
       "9  0.001818  41.727273  19.211711"
      ]
     },
     "execution_count": 13,
     "metadata": {},
     "output_type": "execute_result"
    }
   ],
   "source": [
    "table.head(10)"
   ]
  },
  {
   "cell_type": "markdown",
   "metadata": {},
   "source": [
    "# Delete data in the reservoir"
   ]
  },
  {
   "cell_type": "code",
   "execution_count": 19,
   "metadata": {
    "collapsed": true
   },
   "outputs": [],
   "source": [
    "def table_delete(auth, table_summary):\n",
    "    client = tsc.TimeSeriesClient(auth)\n",
    "\n",
    "    for col in table_summary['columns']:\n",
    "        print col\n",
    "        table[col] = client.delete(table_summary['columns'][col])"
   ]
  }
 ],
 "metadata": {
  "anaconda-cloud": {},
  "kernelspec": {
   "display_name": "Python [default]",
   "language": "python",
   "name": "python2"
  },
  "language_info": {
   "codemirror_mode": {
    "name": "ipython",
    "version": 2
   },
   "file_extension": ".py",
   "mimetype": "text/x-python",
   "name": "python",
   "nbconvert_exporter": "python",
   "pygments_lexer": "ipython2",
   "version": "2.7.13"
  }
 },
 "nbformat": 4,
 "nbformat_minor": 1
}
