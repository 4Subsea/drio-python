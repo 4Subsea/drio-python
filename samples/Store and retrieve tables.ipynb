{
 "cells": [
  {
   "cell_type": "code",
   "execution_count": 1,
   "metadata": {
    "collapsed": false
   },
   "outputs": [],
   "source": [
    "import numpy as np\n",
    "import pandas as pd\n",
    "import matplotlib.pyplot as plt\n",
    "%matplotlib notebook\n",
    "\n",
    "import timeseriesclient as tsc"
   ]
  },
  {
   "cell_type": "code",
   "execution_count": 2,
   "metadata": {
    "collapsed": true
   },
   "outputs": [],
   "source": [
    "tsc.globalsettings.environment.set_test()  # Work with test environment"
   ]
  },
  {
   "cell_type": "markdown",
   "metadata": {},
   "source": [
    "# Create series data\n",
    "The `timeseriesclient` work with Pandas Dataframe and Series object. Let's create a dummy series. "
   ]
  },
  {
   "cell_type": "code",
   "execution_count": 3,
   "metadata": {
    "collapsed": false
   },
   "outputs": [],
   "source": [
    "index = pd.date_range('2016-01-03', freq='min', periods=100)\n",
    "df_dummy = pd.DataFrame({'temp': 20. + np.random.randn(100)}, index=index)"
   ]
  },
  {
   "cell_type": "code",
   "execution_count": 4,
   "metadata": {
    "collapsed": false
   },
   "outputs": [
    {
     "data": {
      "text/html": [
       "<div>\n",
       "<table border=\"1\" class=\"dataframe\">\n",
       "  <thead>\n",
       "    <tr style=\"text-align: right;\">\n",
       "      <th></th>\n",
       "      <th>temp</th>\n",
       "    </tr>\n",
       "  </thead>\n",
       "  <tbody>\n",
       "    <tr>\n",
       "      <th>2016-01-03 00:00:00</th>\n",
       "      <td>20.884794</td>\n",
       "    </tr>\n",
       "    <tr>\n",
       "      <th>2016-01-03 00:01:00</th>\n",
       "      <td>21.818247</td>\n",
       "    </tr>\n",
       "    <tr>\n",
       "      <th>2016-01-03 00:02:00</th>\n",
       "      <td>21.431019</td>\n",
       "    </tr>\n",
       "    <tr>\n",
       "      <th>2016-01-03 00:03:00</th>\n",
       "      <td>19.151664</td>\n",
       "    </tr>\n",
       "    <tr>\n",
       "      <th>2016-01-03 00:04:00</th>\n",
       "      <td>19.178654</td>\n",
       "    </tr>\n",
       "  </tbody>\n",
       "</table>\n",
       "</div>"
      ],
      "text/plain": [
       "                          temp\n",
       "2016-01-03 00:00:00  20.884794\n",
       "2016-01-03 00:01:00  21.818247\n",
       "2016-01-03 00:02:00  21.431019\n",
       "2016-01-03 00:03:00  19.151664\n",
       "2016-01-03 00:04:00  19.178654"
      ]
     },
     "execution_count": 4,
     "metadata": {},
     "output_type": "execute_result"
    }
   ],
   "source": [
    "df_dummy.head()"
   ]
  },
  {
   "cell_type": "markdown",
   "metadata": {},
   "source": [
    "# Upload to the reservoir"
   ]
  },
  {
   "cell_type": "markdown",
   "metadata": {},
   "source": [
    "First, authenticate yourself towards the reservoir."
   ]
  },
  {
   "cell_type": "code",
   "execution_count": 6,
   "metadata": {
    "collapsed": false
   },
   "outputs": [
    {
     "name": "stdout",
     "output_type": "stream",
     "text": [
      "Password: ········\n"
     ]
    }
   ],
   "source": [
    "auth_key = tsc.Authenticator('reservoir-integrationtest@4subsea.com')"
   ]
  },
  {
   "cell_type": "markdown",
   "metadata": {},
   "source": [
    "Then initiate a client and use the authentication key."
   ]
  },
  {
   "cell_type": "code",
   "execution_count": 7,
   "metadata": {
    "collapsed": true
   },
   "outputs": [],
   "source": [
    "client = tsc.TimeSeriesClient(auth_key)"
   ]
  },
  {
   "cell_type": "markdown",
   "metadata": {},
   "source": [
    "Upload the DataFrame and store the response from the reservoir."
   ]
  },
  {
   "cell_type": "code",
   "execution_count": 8,
   "metadata": {
    "collapsed": true
   },
   "outputs": [],
   "source": [
    "response = client.create(df_dummy)"
   ]
  },
  {
   "cell_type": "code",
   "execution_count": 9,
   "metadata": {
    "collapsed": false
   },
   "outputs": [
    {
     "data": {
      "text/plain": [
       "{u'FileId': u'92ad7548-5c9e-47b6-a47f-e3bb84156ba9',\n",
       " u'TimeOfFirstSample': 1451779200000000000L,\n",
       " u'TimeOfLastSample': 1451785140000000000L,\n",
       " u'TimeSeriesId': u'1fb8fe17-027e-40df-b640-28d1b4af67ca'}"
      ]
     },
     "execution_count": 9,
     "metadata": {},
     "output_type": "execute_result"
    }
   ],
   "source": [
    "response"
   ]
  },
  {
   "cell_type": "markdown",
   "metadata": {},
   "source": [
    "The reservoir assigns a unique id - TimeSeriesId. This id can be used to make requests towards the reservoir."
   ]
  },
  {
   "cell_type": "markdown",
   "metadata": {},
   "source": [
    "# Series information"
   ]
  },
  {
   "cell_type": "markdown",
   "metadata": {},
   "source": [
    "Lets ask the reservoir about the newly created series data."
   ]
  },
  {
   "cell_type": "code",
   "execution_count": 10,
   "metadata": {
    "collapsed": true
   },
   "outputs": [],
   "source": [
    "info = client.info(response['TimeSeriesId'])"
   ]
  },
  {
   "cell_type": "code",
   "execution_count": 11,
   "metadata": {
    "collapsed": false
   },
   "outputs": [
    {
     "data": {
      "text/plain": [
       "{u'Created': u'2017-01-20T12:21:11.2710383+00:00',\n",
       " u'CreatedByEmail': u'reservoir-integrationtest@4subsea.com',\n",
       " u'LastModified': u'2017-01-20T12:21:11.2710383+00:00',\n",
       " u'LastModifiedByEmail': u'reservoir-integrationtest@4subsea.com',\n",
       " u'Metadata': [],\n",
       " u'TimeOfFirstSample': 1451779200000000000L,\n",
       " u'TimeOfLastSample': 1451785140000000000L,\n",
       " u'TimeSeriesId': u'1fb8fe17-027e-40df-b640-28d1b4af67ca'}"
      ]
     },
     "execution_count": 11,
     "metadata": {},
     "output_type": "execute_result"
    }
   ],
   "source": [
    "info"
   ]
  },
  {
   "cell_type": "markdown",
   "metadata": {},
   "source": [
    "Note that the `TimeOfFirstSample` and `TimeOfLastSample` is stored as nanoseconds since POSIX epoch."
   ]
  },
  {
   "cell_type": "markdown",
   "metadata": {},
   "source": [
    "# Append more data"
   ]
  },
  {
   "cell_type": "markdown",
   "metadata": {},
   "source": [
    "You can always append more data to the same timeseries entry. The data may even overlap, which in that case the most recent entry overwrites."
   ]
  },
  {
   "cell_type": "code",
   "execution_count": 12,
   "metadata": {
    "collapsed": true
   },
   "outputs": [],
   "source": [
    "index = pd.date_range('2016-01-05', freq='min', periods=100)\n",
    "df_dummy_append = pd.DataFrame({'temp': 23. + np.random.randn(100)}, index=index)"
   ]
  },
  {
   "cell_type": "code",
   "execution_count": 13,
   "metadata": {
    "collapsed": false
   },
   "outputs": [
    {
     "data": {
      "text/plain": [
       "{u'FileId': u'ecb8f09a-5fa7-4045-a28c-61d25cf7b695',\n",
       " u'TimeOfFirstSample': 1451952000000000000L,\n",
       " u'TimeOfLastSample': 1451957940000000000L,\n",
       " u'TimeSeriesId': u'1fb8fe17-027e-40df-b640-28d1b4af67ca'}"
      ]
     },
     "execution_count": 13,
     "metadata": {},
     "output_type": "execute_result"
    }
   ],
   "source": [
    "client.append(df_dummy_append, response['TimeSeriesId'])"
   ]
  },
  {
   "cell_type": "markdown",
   "metadata": {},
   "source": [
    "# Retrieve data back from the reservoir\n",
    "You can download data from the reservoir. Data is presented as Pandas Series object. The index is by default kept as integers."
   ]
  },
  {
   "cell_type": "code",
   "execution_count": 14,
   "metadata": {
    "collapsed": true
   },
   "outputs": [],
   "source": [
    "data = client.get(response['TimeSeriesId'])"
   ]
  },
  {
   "cell_type": "code",
   "execution_count": 15,
   "metadata": {
    "collapsed": false
   },
   "outputs": [
    {
     "data": {
      "text/plain": [
       "time\n",
       "1451779200000000000    20.884794\n",
       "1451779260000000000    21.818247\n",
       "1451779320000000000    21.431019\n",
       "1451779380000000000    19.151664\n",
       "1451779440000000000    19.178654\n",
       "Name: values, dtype: float64"
      ]
     },
     "execution_count": 15,
     "metadata": {},
     "output_type": "execute_result"
    }
   ],
   "source": [
    "data.head()"
   ]
  },
  {
   "cell_type": "markdown",
   "metadata": {},
   "source": [
    "But the index can be converted to date-time if desired."
   ]
  },
  {
   "cell_type": "code",
   "execution_count": 16,
   "metadata": {
    "collapsed": true
   },
   "outputs": [],
   "source": [
    "data_datetime = client.get(response['TimeSeriesId'], convert_date=True)"
   ]
  },
  {
   "cell_type": "code",
   "execution_count": 17,
   "metadata": {
    "collapsed": false
   },
   "outputs": [
    {
     "data": {
      "text/plain": [
       "time\n",
       "2016-01-03 00:00:00    20.884794\n",
       "2016-01-03 00:01:00    21.818247\n",
       "2016-01-03 00:02:00    21.431019\n",
       "2016-01-03 00:03:00    19.151664\n",
       "2016-01-03 00:04:00    19.178654\n",
       "Name: values, dtype: float64"
      ]
     },
     "execution_count": 17,
     "metadata": {},
     "output_type": "execute_result"
    }
   ],
   "source": [
    "data_datetime.head()"
   ]
  },
  {
   "cell_type": "markdown",
   "metadata": {},
   "source": [
    "## Work with data"
   ]
  },
  {
   "cell_type": "code",
   "execution_count": 18,
   "metadata": {
    "collapsed": false
   },
   "outputs": [
    {
     "data": {
      "application/javascript": [
       "/* Put everything inside the global mpl namespace */\n",
       "window.mpl = {};\n",
       "\n",
       "mpl.get_websocket_type = function() {\n",
       "    if (typeof(WebSocket) !== 'undefined') {\n",
       "        return WebSocket;\n",
       "    } else if (typeof(MozWebSocket) !== 'undefined') {\n",
       "        return MozWebSocket;\n",
       "    } else {\n",
       "        alert('Your browser does not have WebSocket support.' +\n",
       "              'Please try Chrome, Safari or Firefox ≥ 6. ' +\n",
       "              'Firefox 4 and 5 are also supported but you ' +\n",
       "              'have to enable WebSockets in about:config.');\n",
       "    };\n",
       "}\n",
       "\n",
       "mpl.figure = function(figure_id, websocket, ondownload, parent_element) {\n",
       "    this.id = figure_id;\n",
       "\n",
       "    this.ws = websocket;\n",
       "\n",
       "    this.supports_binary = (this.ws.binaryType != undefined);\n",
       "\n",
       "    if (!this.supports_binary) {\n",
       "        var warnings = document.getElementById(\"mpl-warnings\");\n",
       "        if (warnings) {\n",
       "            warnings.style.display = 'block';\n",
       "            warnings.textContent = (\n",
       "                \"This browser does not support binary websocket messages. \" +\n",
       "                    \"Performance may be slow.\");\n",
       "        }\n",
       "    }\n",
       "\n",
       "    this.imageObj = new Image();\n",
       "\n",
       "    this.context = undefined;\n",
       "    this.message = undefined;\n",
       "    this.canvas = undefined;\n",
       "    this.rubberband_canvas = undefined;\n",
       "    this.rubberband_context = undefined;\n",
       "    this.format_dropdown = undefined;\n",
       "\n",
       "    this.image_mode = 'full';\n",
       "\n",
       "    this.root = $('<div/>');\n",
       "    this._root_extra_style(this.root)\n",
       "    this.root.attr('style', 'display: inline-block');\n",
       "\n",
       "    $(parent_element).append(this.root);\n",
       "\n",
       "    this._init_header(this);\n",
       "    this._init_canvas(this);\n",
       "    this._init_toolbar(this);\n",
       "\n",
       "    var fig = this;\n",
       "\n",
       "    this.waiting = false;\n",
       "\n",
       "    this.ws.onopen =  function () {\n",
       "            fig.send_message(\"supports_binary\", {value: fig.supports_binary});\n",
       "            fig.send_message(\"send_image_mode\", {});\n",
       "            fig.send_message(\"refresh\", {});\n",
       "        }\n",
       "\n",
       "    this.imageObj.onload = function() {\n",
       "            if (fig.image_mode == 'full') {\n",
       "                // Full images could contain transparency (where diff images\n",
       "                // almost always do), so we need to clear the canvas so that\n",
       "                // there is no ghosting.\n",
       "                fig.context.clearRect(0, 0, fig.canvas.width, fig.canvas.height);\n",
       "            }\n",
       "            fig.context.drawImage(fig.imageObj, 0, 0);\n",
       "        };\n",
       "\n",
       "    this.imageObj.onunload = function() {\n",
       "        this.ws.close();\n",
       "    }\n",
       "\n",
       "    this.ws.onmessage = this._make_on_message_function(this);\n",
       "\n",
       "    this.ondownload = ondownload;\n",
       "}\n",
       "\n",
       "mpl.figure.prototype._init_header = function() {\n",
       "    var titlebar = $(\n",
       "        '<div class=\"ui-dialog-titlebar ui-widget-header ui-corner-all ' +\n",
       "        'ui-helper-clearfix\"/>');\n",
       "    var titletext = $(\n",
       "        '<div class=\"ui-dialog-title\" style=\"width: 100%; ' +\n",
       "        'text-align: center; padding: 3px;\"/>');\n",
       "    titlebar.append(titletext)\n",
       "    this.root.append(titlebar);\n",
       "    this.header = titletext[0];\n",
       "}\n",
       "\n",
       "\n",
       "\n",
       "mpl.figure.prototype._canvas_extra_style = function(canvas_div) {\n",
       "\n",
       "}\n",
       "\n",
       "\n",
       "mpl.figure.prototype._root_extra_style = function(canvas_div) {\n",
       "\n",
       "}\n",
       "\n",
       "mpl.figure.prototype._init_canvas = function() {\n",
       "    var fig = this;\n",
       "\n",
       "    var canvas_div = $('<div/>');\n",
       "\n",
       "    canvas_div.attr('style', 'position: relative; clear: both; outline: 0');\n",
       "\n",
       "    function canvas_keyboard_event(event) {\n",
       "        return fig.key_event(event, event['data']);\n",
       "    }\n",
       "\n",
       "    canvas_div.keydown('key_press', canvas_keyboard_event);\n",
       "    canvas_div.keyup('key_release', canvas_keyboard_event);\n",
       "    this.canvas_div = canvas_div\n",
       "    this._canvas_extra_style(canvas_div)\n",
       "    this.root.append(canvas_div);\n",
       "\n",
       "    var canvas = $('<canvas/>');\n",
       "    canvas.addClass('mpl-canvas');\n",
       "    canvas.attr('style', \"left: 0; top: 0; z-index: 0; outline: 0\")\n",
       "\n",
       "    this.canvas = canvas[0];\n",
       "    this.context = canvas[0].getContext(\"2d\");\n",
       "\n",
       "    var rubberband = $('<canvas/>');\n",
       "    rubberband.attr('style', \"position: absolute; left: 0; top: 0; z-index: 1;\")\n",
       "\n",
       "    var pass_mouse_events = true;\n",
       "\n",
       "    canvas_div.resizable({\n",
       "        start: function(event, ui) {\n",
       "            pass_mouse_events = false;\n",
       "        },\n",
       "        resize: function(event, ui) {\n",
       "            fig.request_resize(ui.size.width, ui.size.height);\n",
       "        },\n",
       "        stop: function(event, ui) {\n",
       "            pass_mouse_events = true;\n",
       "            fig.request_resize(ui.size.width, ui.size.height);\n",
       "        },\n",
       "    });\n",
       "\n",
       "    function mouse_event_fn(event) {\n",
       "        if (pass_mouse_events)\n",
       "            return fig.mouse_event(event, event['data']);\n",
       "    }\n",
       "\n",
       "    rubberband.mousedown('button_press', mouse_event_fn);\n",
       "    rubberband.mouseup('button_release', mouse_event_fn);\n",
       "    // Throttle sequential mouse events to 1 every 20ms.\n",
       "    rubberband.mousemove('motion_notify', mouse_event_fn);\n",
       "\n",
       "    rubberband.mouseenter('figure_enter', mouse_event_fn);\n",
       "    rubberband.mouseleave('figure_leave', mouse_event_fn);\n",
       "\n",
       "    canvas_div.on(\"wheel\", function (event) {\n",
       "        event = event.originalEvent;\n",
       "        event['data'] = 'scroll'\n",
       "        if (event.deltaY < 0) {\n",
       "            event.step = 1;\n",
       "        } else {\n",
       "            event.step = -1;\n",
       "        }\n",
       "        mouse_event_fn(event);\n",
       "    });\n",
       "\n",
       "    canvas_div.append(canvas);\n",
       "    canvas_div.append(rubberband);\n",
       "\n",
       "    this.rubberband = rubberband;\n",
       "    this.rubberband_canvas = rubberband[0];\n",
       "    this.rubberband_context = rubberband[0].getContext(\"2d\");\n",
       "    this.rubberband_context.strokeStyle = \"#000000\";\n",
       "\n",
       "    this._resize_canvas = function(width, height) {\n",
       "        // Keep the size of the canvas, canvas container, and rubber band\n",
       "        // canvas in synch.\n",
       "        canvas_div.css('width', width)\n",
       "        canvas_div.css('height', height)\n",
       "\n",
       "        canvas.attr('width', width);\n",
       "        canvas.attr('height', height);\n",
       "\n",
       "        rubberband.attr('width', width);\n",
       "        rubberband.attr('height', height);\n",
       "    }\n",
       "\n",
       "    // Set the figure to an initial 600x600px, this will subsequently be updated\n",
       "    // upon first draw.\n",
       "    this._resize_canvas(600, 600);\n",
       "\n",
       "    // Disable right mouse context menu.\n",
       "    $(this.rubberband_canvas).bind(\"contextmenu\",function(e){\n",
       "        return false;\n",
       "    });\n",
       "\n",
       "    function set_focus () {\n",
       "        canvas.focus();\n",
       "        canvas_div.focus();\n",
       "    }\n",
       "\n",
       "    window.setTimeout(set_focus, 100);\n",
       "}\n",
       "\n",
       "mpl.figure.prototype._init_toolbar = function() {\n",
       "    var fig = this;\n",
       "\n",
       "    var nav_element = $('<div/>')\n",
       "    nav_element.attr('style', 'width: 100%');\n",
       "    this.root.append(nav_element);\n",
       "\n",
       "    // Define a callback function for later on.\n",
       "    function toolbar_event(event) {\n",
       "        return fig.toolbar_button_onclick(event['data']);\n",
       "    }\n",
       "    function toolbar_mouse_event(event) {\n",
       "        return fig.toolbar_button_onmouseover(event['data']);\n",
       "    }\n",
       "\n",
       "    for(var toolbar_ind in mpl.toolbar_items) {\n",
       "        var name = mpl.toolbar_items[toolbar_ind][0];\n",
       "        var tooltip = mpl.toolbar_items[toolbar_ind][1];\n",
       "        var image = mpl.toolbar_items[toolbar_ind][2];\n",
       "        var method_name = mpl.toolbar_items[toolbar_ind][3];\n",
       "\n",
       "        if (!name) {\n",
       "            // put a spacer in here.\n",
       "            continue;\n",
       "        }\n",
       "        var button = $('<button/>');\n",
       "        button.addClass('ui-button ui-widget ui-state-default ui-corner-all ' +\n",
       "                        'ui-button-icon-only');\n",
       "        button.attr('role', 'button');\n",
       "        button.attr('aria-disabled', 'false');\n",
       "        button.click(method_name, toolbar_event);\n",
       "        button.mouseover(tooltip, toolbar_mouse_event);\n",
       "\n",
       "        var icon_img = $('<span/>');\n",
       "        icon_img.addClass('ui-button-icon-primary ui-icon');\n",
       "        icon_img.addClass(image);\n",
       "        icon_img.addClass('ui-corner-all');\n",
       "\n",
       "        var tooltip_span = $('<span/>');\n",
       "        tooltip_span.addClass('ui-button-text');\n",
       "        tooltip_span.html(tooltip);\n",
       "\n",
       "        button.append(icon_img);\n",
       "        button.append(tooltip_span);\n",
       "\n",
       "        nav_element.append(button);\n",
       "    }\n",
       "\n",
       "    var fmt_picker_span = $('<span/>');\n",
       "\n",
       "    var fmt_picker = $('<select/>');\n",
       "    fmt_picker.addClass('mpl-toolbar-option ui-widget ui-widget-content');\n",
       "    fmt_picker_span.append(fmt_picker);\n",
       "    nav_element.append(fmt_picker_span);\n",
       "    this.format_dropdown = fmt_picker[0];\n",
       "\n",
       "    for (var ind in mpl.extensions) {\n",
       "        var fmt = mpl.extensions[ind];\n",
       "        var option = $(\n",
       "            '<option/>', {selected: fmt === mpl.default_extension}).html(fmt);\n",
       "        fmt_picker.append(option)\n",
       "    }\n",
       "\n",
       "    // Add hover states to the ui-buttons\n",
       "    $( \".ui-button\" ).hover(\n",
       "        function() { $(this).addClass(\"ui-state-hover\");},\n",
       "        function() { $(this).removeClass(\"ui-state-hover\");}\n",
       "    );\n",
       "\n",
       "    var status_bar = $('<span class=\"mpl-message\"/>');\n",
       "    nav_element.append(status_bar);\n",
       "    this.message = status_bar[0];\n",
       "}\n",
       "\n",
       "mpl.figure.prototype.request_resize = function(x_pixels, y_pixels) {\n",
       "    // Request matplotlib to resize the figure. Matplotlib will then trigger a resize in the client,\n",
       "    // which will in turn request a refresh of the image.\n",
       "    this.send_message('resize', {'width': x_pixels, 'height': y_pixels});\n",
       "}\n",
       "\n",
       "mpl.figure.prototype.send_message = function(type, properties) {\n",
       "    properties['type'] = type;\n",
       "    properties['figure_id'] = this.id;\n",
       "    this.ws.send(JSON.stringify(properties));\n",
       "}\n",
       "\n",
       "mpl.figure.prototype.send_draw_message = function() {\n",
       "    if (!this.waiting) {\n",
       "        this.waiting = true;\n",
       "        this.ws.send(JSON.stringify({type: \"draw\", figure_id: this.id}));\n",
       "    }\n",
       "}\n",
       "\n",
       "\n",
       "mpl.figure.prototype.handle_save = function(fig, msg) {\n",
       "    var format_dropdown = fig.format_dropdown;\n",
       "    var format = format_dropdown.options[format_dropdown.selectedIndex].value;\n",
       "    fig.ondownload(fig, format);\n",
       "}\n",
       "\n",
       "\n",
       "mpl.figure.prototype.handle_resize = function(fig, msg) {\n",
       "    var size = msg['size'];\n",
       "    if (size[0] != fig.canvas.width || size[1] != fig.canvas.height) {\n",
       "        fig._resize_canvas(size[0], size[1]);\n",
       "        fig.send_message(\"refresh\", {});\n",
       "    };\n",
       "}\n",
       "\n",
       "mpl.figure.prototype.handle_rubberband = function(fig, msg) {\n",
       "    var x0 = msg['x0'];\n",
       "    var y0 = fig.canvas.height - msg['y0'];\n",
       "    var x1 = msg['x1'];\n",
       "    var y1 = fig.canvas.height - msg['y1'];\n",
       "    x0 = Math.floor(x0) + 0.5;\n",
       "    y0 = Math.floor(y0) + 0.5;\n",
       "    x1 = Math.floor(x1) + 0.5;\n",
       "    y1 = Math.floor(y1) + 0.5;\n",
       "    var min_x = Math.min(x0, x1);\n",
       "    var min_y = Math.min(y0, y1);\n",
       "    var width = Math.abs(x1 - x0);\n",
       "    var height = Math.abs(y1 - y0);\n",
       "\n",
       "    fig.rubberband_context.clearRect(\n",
       "        0, 0, fig.canvas.width, fig.canvas.height);\n",
       "\n",
       "    fig.rubberband_context.strokeRect(min_x, min_y, width, height);\n",
       "}\n",
       "\n",
       "mpl.figure.prototype.handle_figure_label = function(fig, msg) {\n",
       "    // Updates the figure title.\n",
       "    fig.header.textContent = msg['label'];\n",
       "}\n",
       "\n",
       "mpl.figure.prototype.handle_cursor = function(fig, msg) {\n",
       "    var cursor = msg['cursor'];\n",
       "    switch(cursor)\n",
       "    {\n",
       "    case 0:\n",
       "        cursor = 'pointer';\n",
       "        break;\n",
       "    case 1:\n",
       "        cursor = 'default';\n",
       "        break;\n",
       "    case 2:\n",
       "        cursor = 'crosshair';\n",
       "        break;\n",
       "    case 3:\n",
       "        cursor = 'move';\n",
       "        break;\n",
       "    }\n",
       "    fig.rubberband_canvas.style.cursor = cursor;\n",
       "}\n",
       "\n",
       "mpl.figure.prototype.handle_message = function(fig, msg) {\n",
       "    fig.message.textContent = msg['message'];\n",
       "}\n",
       "\n",
       "mpl.figure.prototype.handle_draw = function(fig, msg) {\n",
       "    // Request the server to send over a new figure.\n",
       "    fig.send_draw_message();\n",
       "}\n",
       "\n",
       "mpl.figure.prototype.handle_image_mode = function(fig, msg) {\n",
       "    fig.image_mode = msg['mode'];\n",
       "}\n",
       "\n",
       "mpl.figure.prototype.updated_canvas_event = function() {\n",
       "    // Called whenever the canvas gets updated.\n",
       "    this.send_message(\"ack\", {});\n",
       "}\n",
       "\n",
       "// A function to construct a web socket function for onmessage handling.\n",
       "// Called in the figure constructor.\n",
       "mpl.figure.prototype._make_on_message_function = function(fig) {\n",
       "    return function socket_on_message(evt) {\n",
       "        if (evt.data instanceof Blob) {\n",
       "            /* FIXME: We get \"Resource interpreted as Image but\n",
       "             * transferred with MIME type text/plain:\" errors on\n",
       "             * Chrome.  But how to set the MIME type?  It doesn't seem\n",
       "             * to be part of the websocket stream */\n",
       "            evt.data.type = \"image/png\";\n",
       "\n",
       "            /* Free the memory for the previous frames */\n",
       "            if (fig.imageObj.src) {\n",
       "                (window.URL || window.webkitURL).revokeObjectURL(\n",
       "                    fig.imageObj.src);\n",
       "            }\n",
       "\n",
       "            fig.imageObj.src = (window.URL || window.webkitURL).createObjectURL(\n",
       "                evt.data);\n",
       "            fig.updated_canvas_event();\n",
       "            fig.waiting = false;\n",
       "            return;\n",
       "        }\n",
       "        else if (typeof evt.data === 'string' && evt.data.slice(0, 21) == \"data:image/png;base64\") {\n",
       "            fig.imageObj.src = evt.data;\n",
       "            fig.updated_canvas_event();\n",
       "            fig.waiting = false;\n",
       "            return;\n",
       "        }\n",
       "\n",
       "        var msg = JSON.parse(evt.data);\n",
       "        var msg_type = msg['type'];\n",
       "\n",
       "        // Call the  \"handle_{type}\" callback, which takes\n",
       "        // the figure and JSON message as its only arguments.\n",
       "        try {\n",
       "            var callback = fig[\"handle_\" + msg_type];\n",
       "        } catch (e) {\n",
       "            console.log(\"No handler for the '\" + msg_type + \"' message type: \", msg);\n",
       "            return;\n",
       "        }\n",
       "\n",
       "        if (callback) {\n",
       "            try {\n",
       "                // console.log(\"Handling '\" + msg_type + \"' message: \", msg);\n",
       "                callback(fig, msg);\n",
       "            } catch (e) {\n",
       "                console.log(\"Exception inside the 'handler_\" + msg_type + \"' callback:\", e, e.stack, msg);\n",
       "            }\n",
       "        }\n",
       "    };\n",
       "}\n",
       "\n",
       "// from http://stackoverflow.com/questions/1114465/getting-mouse-location-in-canvas\n",
       "mpl.findpos = function(e) {\n",
       "    //this section is from http://www.quirksmode.org/js/events_properties.html\n",
       "    var targ;\n",
       "    if (!e)\n",
       "        e = window.event;\n",
       "    if (e.target)\n",
       "        targ = e.target;\n",
       "    else if (e.srcElement)\n",
       "        targ = e.srcElement;\n",
       "    if (targ.nodeType == 3) // defeat Safari bug\n",
       "        targ = targ.parentNode;\n",
       "\n",
       "    // jQuery normalizes the pageX and pageY\n",
       "    // pageX,Y are the mouse positions relative to the document\n",
       "    // offset() returns the position of the element relative to the document\n",
       "    var x = e.pageX - $(targ).offset().left;\n",
       "    var y = e.pageY - $(targ).offset().top;\n",
       "\n",
       "    return {\"x\": x, \"y\": y};\n",
       "};\n",
       "\n",
       "/*\n",
       " * return a copy of an object with only non-object keys\n",
       " * we need this to avoid circular references\n",
       " * http://stackoverflow.com/a/24161582/3208463\n",
       " */\n",
       "function simpleKeys (original) {\n",
       "  return Object.keys(original).reduce(function (obj, key) {\n",
       "    if (typeof original[key] !== 'object')\n",
       "        obj[key] = original[key]\n",
       "    return obj;\n",
       "  }, {});\n",
       "}\n",
       "\n",
       "mpl.figure.prototype.mouse_event = function(event, name) {\n",
       "    var canvas_pos = mpl.findpos(event)\n",
       "\n",
       "    if (name === 'button_press')\n",
       "    {\n",
       "        this.canvas.focus();\n",
       "        this.canvas_div.focus();\n",
       "    }\n",
       "\n",
       "    var x = canvas_pos.x;\n",
       "    var y = canvas_pos.y;\n",
       "\n",
       "    this.send_message(name, {x: x, y: y, button: event.button,\n",
       "                             step: event.step,\n",
       "                             guiEvent: simpleKeys(event)});\n",
       "\n",
       "    /* This prevents the web browser from automatically changing to\n",
       "     * the text insertion cursor when the button is pressed.  We want\n",
       "     * to control all of the cursor setting manually through the\n",
       "     * 'cursor' event from matplotlib */\n",
       "    event.preventDefault();\n",
       "    return false;\n",
       "}\n",
       "\n",
       "mpl.figure.prototype._key_event_extra = function(event, name) {\n",
       "    // Handle any extra behaviour associated with a key event\n",
       "}\n",
       "\n",
       "mpl.figure.prototype.key_event = function(event, name) {\n",
       "\n",
       "    // Prevent repeat events\n",
       "    if (name == 'key_press')\n",
       "    {\n",
       "        if (event.which === this._key)\n",
       "            return;\n",
       "        else\n",
       "            this._key = event.which;\n",
       "    }\n",
       "    if (name == 'key_release')\n",
       "        this._key = null;\n",
       "\n",
       "    var value = '';\n",
       "    if (event.ctrlKey && event.which != 17)\n",
       "        value += \"ctrl+\";\n",
       "    if (event.altKey && event.which != 18)\n",
       "        value += \"alt+\";\n",
       "    if (event.shiftKey && event.which != 16)\n",
       "        value += \"shift+\";\n",
       "\n",
       "    value += 'k';\n",
       "    value += event.which.toString();\n",
       "\n",
       "    this._key_event_extra(event, name);\n",
       "\n",
       "    this.send_message(name, {key: value,\n",
       "                             guiEvent: simpleKeys(event)});\n",
       "    return false;\n",
       "}\n",
       "\n",
       "mpl.figure.prototype.toolbar_button_onclick = function(name) {\n",
       "    if (name == 'download') {\n",
       "        this.handle_save(this, null);\n",
       "    } else {\n",
       "        this.send_message(\"toolbar_button\", {name: name});\n",
       "    }\n",
       "};\n",
       "\n",
       "mpl.figure.prototype.toolbar_button_onmouseover = function(tooltip) {\n",
       "    this.message.textContent = tooltip;\n",
       "};\n",
       "mpl.toolbar_items = [[\"Home\", \"Reset original view\", \"fa fa-home icon-home\", \"home\"], [\"Back\", \"Back to  previous view\", \"fa fa-arrow-left icon-arrow-left\", \"back\"], [\"Forward\", \"Forward to next view\", \"fa fa-arrow-right icon-arrow-right\", \"forward\"], [\"\", \"\", \"\", \"\"], [\"Pan\", \"Pan axes with left mouse, zoom with right\", \"fa fa-arrows icon-move\", \"pan\"], [\"Zoom\", \"Zoom to rectangle\", \"fa fa-square-o icon-check-empty\", \"zoom\"], [\"\", \"\", \"\", \"\"], [\"Download\", \"Download plot\", \"fa fa-floppy-o icon-save\", \"download\"]];\n",
       "\n",
       "mpl.extensions = [\"eps\", \"jpeg\", \"pdf\", \"png\", \"ps\", \"raw\", \"svg\", \"tif\"];\n",
       "\n",
       "mpl.default_extension = \"png\";var comm_websocket_adapter = function(comm) {\n",
       "    // Create a \"websocket\"-like object which calls the given IPython comm\n",
       "    // object with the appropriate methods. Currently this is a non binary\n",
       "    // socket, so there is still some room for performance tuning.\n",
       "    var ws = {};\n",
       "\n",
       "    ws.close = function() {\n",
       "        comm.close()\n",
       "    };\n",
       "    ws.send = function(m) {\n",
       "        //console.log('sending', m);\n",
       "        comm.send(m);\n",
       "    };\n",
       "    // Register the callback with on_msg.\n",
       "    comm.on_msg(function(msg) {\n",
       "        //console.log('receiving', msg['content']['data'], msg);\n",
       "        // Pass the mpl event to the overriden (by mpl) onmessage function.\n",
       "        ws.onmessage(msg['content']['data'])\n",
       "    });\n",
       "    return ws;\n",
       "}\n",
       "\n",
       "mpl.mpl_figure_comm = function(comm, msg) {\n",
       "    // This is the function which gets called when the mpl process\n",
       "    // starts-up an IPython Comm through the \"matplotlib\" channel.\n",
       "\n",
       "    var id = msg.content.data.id;\n",
       "    // Get hold of the div created by the display call when the Comm\n",
       "    // socket was opened in Python.\n",
       "    var element = $(\"#\" + id);\n",
       "    var ws_proxy = comm_websocket_adapter(comm)\n",
       "\n",
       "    function ondownload(figure, format) {\n",
       "        window.open(figure.imageObj.src);\n",
       "    }\n",
       "\n",
       "    var fig = new mpl.figure(id, ws_proxy,\n",
       "                           ondownload,\n",
       "                           element.get(0));\n",
       "\n",
       "    // Call onopen now - mpl needs it, as it is assuming we've passed it a real\n",
       "    // web socket which is closed, not our websocket->open comm proxy.\n",
       "    ws_proxy.onopen();\n",
       "\n",
       "    fig.parent_element = element.get(0);\n",
       "    fig.cell_info = mpl.find_output_cell(\"<div id='\" + id + \"'></div>\");\n",
       "    if (!fig.cell_info) {\n",
       "        console.error(\"Failed to find cell for figure\", id, fig);\n",
       "        return;\n",
       "    }\n",
       "\n",
       "    var output_index = fig.cell_info[2]\n",
       "    var cell = fig.cell_info[0];\n",
       "\n",
       "};\n",
       "\n",
       "mpl.figure.prototype.handle_close = function(fig, msg) {\n",
       "    fig.root.unbind('remove')\n",
       "\n",
       "    // Update the output cell to use the data from the current canvas.\n",
       "    fig.push_to_output();\n",
       "    var dataURL = fig.canvas.toDataURL();\n",
       "    // Re-enable the keyboard manager in IPython - without this line, in FF,\n",
       "    // the notebook keyboard shortcuts fail.\n",
       "    IPython.keyboard_manager.enable()\n",
       "    $(fig.parent_element).html('<img src=\"' + dataURL + '\">');\n",
       "    fig.close_ws(fig, msg);\n",
       "}\n",
       "\n",
       "mpl.figure.prototype.close_ws = function(fig, msg){\n",
       "    fig.send_message('closing', msg);\n",
       "    // fig.ws.close()\n",
       "}\n",
       "\n",
       "mpl.figure.prototype.push_to_output = function(remove_interactive) {\n",
       "    // Turn the data on the canvas into data in the output cell.\n",
       "    var dataURL = this.canvas.toDataURL();\n",
       "    this.cell_info[1]['text/html'] = '<img src=\"' + dataURL + '\">';\n",
       "}\n",
       "\n",
       "mpl.figure.prototype.updated_canvas_event = function() {\n",
       "    // Tell IPython that the notebook contents must change.\n",
       "    IPython.notebook.set_dirty(true);\n",
       "    this.send_message(\"ack\", {});\n",
       "    var fig = this;\n",
       "    // Wait a second, then push the new image to the DOM so\n",
       "    // that it is saved nicely (might be nice to debounce this).\n",
       "    setTimeout(function () { fig.push_to_output() }, 1000);\n",
       "}\n",
       "\n",
       "mpl.figure.prototype._init_toolbar = function() {\n",
       "    var fig = this;\n",
       "\n",
       "    var nav_element = $('<div/>')\n",
       "    nav_element.attr('style', 'width: 100%');\n",
       "    this.root.append(nav_element);\n",
       "\n",
       "    // Define a callback function for later on.\n",
       "    function toolbar_event(event) {\n",
       "        return fig.toolbar_button_onclick(event['data']);\n",
       "    }\n",
       "    function toolbar_mouse_event(event) {\n",
       "        return fig.toolbar_button_onmouseover(event['data']);\n",
       "    }\n",
       "\n",
       "    for(var toolbar_ind in mpl.toolbar_items){\n",
       "        var name = mpl.toolbar_items[toolbar_ind][0];\n",
       "        var tooltip = mpl.toolbar_items[toolbar_ind][1];\n",
       "        var image = mpl.toolbar_items[toolbar_ind][2];\n",
       "        var method_name = mpl.toolbar_items[toolbar_ind][3];\n",
       "\n",
       "        if (!name) { continue; };\n",
       "\n",
       "        var button = $('<button class=\"btn btn-default\" href=\"#\" title=\"' + name + '\"><i class=\"fa ' + image + ' fa-lg\"></i></button>');\n",
       "        button.click(method_name, toolbar_event);\n",
       "        button.mouseover(tooltip, toolbar_mouse_event);\n",
       "        nav_element.append(button);\n",
       "    }\n",
       "\n",
       "    // Add the status bar.\n",
       "    var status_bar = $('<span class=\"mpl-message\" style=\"text-align:right; float: right;\"/>');\n",
       "    nav_element.append(status_bar);\n",
       "    this.message = status_bar[0];\n",
       "\n",
       "    // Add the close button to the window.\n",
       "    var buttongrp = $('<div class=\"btn-group inline pull-right\"></div>');\n",
       "    var button = $('<button class=\"btn btn-mini btn-primary\" href=\"#\" title=\"Stop Interaction\"><i class=\"fa fa-power-off icon-remove icon-large\"></i></button>');\n",
       "    button.click(function (evt) { fig.handle_close(fig, {}); } );\n",
       "    button.mouseover('Stop Interaction', toolbar_mouse_event);\n",
       "    buttongrp.append(button);\n",
       "    var titlebar = this.root.find($('.ui-dialog-titlebar'));\n",
       "    titlebar.prepend(buttongrp);\n",
       "}\n",
       "\n",
       "mpl.figure.prototype._root_extra_style = function(el){\n",
       "    var fig = this\n",
       "    el.on(\"remove\", function(){\n",
       "\tfig.close_ws(fig, {});\n",
       "    });\n",
       "}\n",
       "\n",
       "mpl.figure.prototype._canvas_extra_style = function(el){\n",
       "    // this is important to make the div 'focusable\n",
       "    el.attr('tabindex', 0)\n",
       "    // reach out to IPython and tell the keyboard manager to turn it's self\n",
       "    // off when our div gets focus\n",
       "\n",
       "    // location in version 3\n",
       "    if (IPython.notebook.keyboard_manager) {\n",
       "        IPython.notebook.keyboard_manager.register_events(el);\n",
       "    }\n",
       "    else {\n",
       "        // location in version 2\n",
       "        IPython.keyboard_manager.register_events(el);\n",
       "    }\n",
       "\n",
       "}\n",
       "\n",
       "mpl.figure.prototype._key_event_extra = function(event, name) {\n",
       "    var manager = IPython.notebook.keyboard_manager;\n",
       "    if (!manager)\n",
       "        manager = IPython.keyboard_manager;\n",
       "\n",
       "    // Check for shift+enter\n",
       "    if (event.shiftKey && event.which == 13) {\n",
       "        this.canvas_div.blur();\n",
       "        // select the cell after this one\n",
       "        var index = IPython.notebook.find_cell_index(this.cell_info[0]);\n",
       "        IPython.notebook.select(index + 1);\n",
       "    }\n",
       "}\n",
       "\n",
       "mpl.figure.prototype.handle_save = function(fig, msg) {\n",
       "    fig.ondownload(fig, null);\n",
       "}\n",
       "\n",
       "\n",
       "mpl.find_output_cell = function(html_output) {\n",
       "    // Return the cell and output element which can be found *uniquely* in the notebook.\n",
       "    // Note - this is a bit hacky, but it is done because the \"notebook_saving.Notebook\"\n",
       "    // IPython event is triggered only after the cells have been serialised, which for\n",
       "    // our purposes (turning an active figure into a static one), is too late.\n",
       "    var cells = IPython.notebook.get_cells();\n",
       "    var ncells = cells.length;\n",
       "    for (var i=0; i<ncells; i++) {\n",
       "        var cell = cells[i];\n",
       "        if (cell.cell_type === 'code'){\n",
       "            for (var j=0; j<cell.output_area.outputs.length; j++) {\n",
       "                var data = cell.output_area.outputs[j];\n",
       "                if (data.data) {\n",
       "                    // IPython >= 3 moved mimebundle to data attribute of output\n",
       "                    data = data.data;\n",
       "                }\n",
       "                if (data['text/html'] == html_output) {\n",
       "                    return [cell, data, j];\n",
       "                }\n",
       "            }\n",
       "        }\n",
       "    }\n",
       "}\n",
       "\n",
       "// Register the function which deals with the matplotlib target/channel.\n",
       "// The kernel may be null if the page has been refreshed.\n",
       "if (IPython.notebook.kernel != null) {\n",
       "    IPython.notebook.kernel.comm_manager.register_target('matplotlib', mpl.mpl_figure_comm);\n",
       "}\n"
      ],
      "text/plain": [
       "<IPython.core.display.Javascript object>"
      ]
     },
     "metadata": {},
     "output_type": "display_data"
    },
    {
     "data": {
      "text/html": [
       "<img src=\"data:image/png;base64,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\">"
      ],
      "text/plain": [
       "<IPython.core.display.HTML object>"
      ]
     },
     "metadata": {},
     "output_type": "display_data"
    },
    {
     "data": {
      "text/plain": [
       "[<matplotlib.lines.Line2D at 0xb575128>]"
      ]
     },
     "execution_count": 18,
     "metadata": {},
     "output_type": "execute_result"
    }
   ],
   "source": [
    "plt.figure()\n",
    "plt.plot(data_datetime, 'x')"
   ]
  },
  {
   "cell_type": "markdown",
   "metadata": {},
   "source": [
    "# Delete data in the reservoir"
   ]
  },
  {
   "cell_type": "code",
   "execution_count": 19,
   "metadata": {
    "collapsed": true
   },
   "outputs": [],
   "source": [
    "client.delete(response['TimeSeriesId'])"
   ]
  },
  {
   "cell_type": "code",
   "execution_count": null,
   "metadata": {
    "collapsed": true
   },
   "outputs": [],
   "source": []
  }
 ],
 "metadata": {
  "anaconda-cloud": {},
  "kernelspec": {
   "display_name": "Python [default]",
   "language": "python",
   "name": "python2"
  },
  "language_info": {
   "codemirror_mode": {
    "name": "ipython",
    "version": 2
   },
   "file_extension": ".py",
   "mimetype": "text/x-python",
   "name": "python",
   "nbconvert_exporter": "python",
   "pygments_lexer": "ipython2",
   "version": "2.7.13"
  }
 },
 "nbformat": 4,
 "nbformat_minor": 1
}
