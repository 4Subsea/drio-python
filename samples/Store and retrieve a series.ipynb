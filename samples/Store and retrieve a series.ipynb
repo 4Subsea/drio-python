{
 "cells": [
  {
   "cell_type": "code",
   "execution_count": 1,
   "metadata": {
    "collapsed": false
   },
   "outputs": [],
   "source": [
    "import numpy as np\n",
    "import pandas as pd\n",
    "import matplotlib.pyplot as plt\n",
    "import matplotlib as mpl\n",
    "\n",
    "%matplotlib notebook\n",
    "mpl.style.use(r\"\\\\fil-ask-004\\python\\mplstyle\\4subsea.mplstyle\")"
   ]
  },
  {
   "cell_type": "code",
   "execution_count": 2,
   "metadata": {
    "collapsed": true
   },
   "outputs": [],
   "source": [
    "import datareservoirio as drio"
   ]
  },
  {
   "cell_type": "code",
   "execution_count": 3,
   "metadata": {
    "collapsed": true
   },
   "outputs": [],
   "source": [
    "drio.globalsettings.environment.set_test()  # Work with test environment"
   ]
  },
  {
   "cell_type": "markdown",
   "metadata": {},
   "source": [
    "# Create series data\n",
    "The `datareservoirio` work with Pandas Series object. Let's create a dummy series. "
   ]
  },
  {
   "cell_type": "code",
   "execution_count": 4,
   "metadata": {
    "collapsed": false
   },
   "outputs": [],
   "source": [
    "index = pd.date_range(\"2016-01-03 00:00:00\", freq=\"min\", periods=100)\n",
    "series_dummy = pd.Series(20.0 + np.random.randn(100), index=index)\n",
    "series_dummy.name = \"Temp\""
   ]
  },
  {
   "cell_type": "code",
   "execution_count": 5,
   "metadata": {
    "collapsed": false
   },
   "outputs": [
    {
     "data": {
      "text/plain": [
       "2016-01-03 00:00:00    19.731047\n",
       "2016-01-03 00:01:00    19.322152\n",
       "2016-01-03 00:02:00    18.885401\n",
       "2016-01-03 00:03:00    19.210741\n",
       "2016-01-03 00:04:00    19.320680\n",
       "Freq: T, Name: Temp, dtype: float64"
      ]
     },
     "execution_count": 5,
     "metadata": {},
     "output_type": "execute_result"
    }
   ],
   "source": [
    "series_dummy.head()"
   ]
  },
  {
   "cell_type": "markdown",
   "metadata": {},
   "source": [
    "# Upload to the reservoir"
   ]
  },
  {
   "cell_type": "markdown",
   "metadata": {},
   "source": [
    "First, authenticate yourself towards the reservoir."
   ]
  },
  {
   "cell_type": "code",
   "execution_count": 6,
   "metadata": {
    "collapsed": false
   },
   "outputs": [
    {
     "name": "stdout",
     "output_type": "stream",
     "text": [
      "Password: ········\n"
     ]
    }
   ],
   "source": [
    "auth_key = drio.Authenticator(\"reservoir-integrationtest@4subsea.com\")"
   ]
  },
  {
   "cell_type": "markdown",
   "metadata": {},
   "source": [
    "Then initiate a client and use the authentication key."
   ]
  },
  {
   "cell_type": "code",
   "execution_count": 7,
   "metadata": {
    "collapsed": true
   },
   "outputs": [],
   "source": [
    "client = drio.Client(auth_key)"
   ]
  },
  {
   "cell_type": "markdown",
   "metadata": {},
   "source": [
    "Upload the Series and store the response from the reservoir."
   ]
  },
  {
   "cell_type": "code",
   "execution_count": 8,
   "metadata": {
    "collapsed": false
   },
   "outputs": [],
   "source": [
    "response = client.create(series_dummy)"
   ]
  },
  {
   "cell_type": "code",
   "execution_count": 9,
   "metadata": {
    "collapsed": false
   },
   "outputs": [
    {
     "data": {
      "text/plain": [
       "{u'FileId': u'83559335-6eae-4cc5-bc0d-5239a3d778c0',\n",
       " u'TimeOfFirstSample': 1451779200000000000L,\n",
       " u'TimeOfLastSample': 1451785140000000000L,\n",
       " u'TimeSeriesId': u'5a57ec52-2559-4ad5-b292-5f5e48daab9a'}"
      ]
     },
     "execution_count": 9,
     "metadata": {},
     "output_type": "execute_result"
    }
   ],
   "source": [
    "response"
   ]
  },
  {
   "cell_type": "markdown",
   "metadata": {},
   "source": [
    "The reservoir assigns a unique id - TimeSeriesId. This id can be used to make requests towards the reservoir."
   ]
  },
  {
   "cell_type": "markdown",
   "metadata": {},
   "source": [
    "# Series information"
   ]
  },
  {
   "cell_type": "markdown",
   "metadata": {},
   "source": [
    "Lets ask the reservoir about the newly created series data."
   ]
  },
  {
   "cell_type": "code",
   "execution_count": 10,
   "metadata": {
    "collapsed": true
   },
   "outputs": [],
   "source": [
    "info = client.info(response[\"TimeSeriesId\"])"
   ]
  },
  {
   "cell_type": "code",
   "execution_count": 11,
   "metadata": {
    "collapsed": false
   },
   "outputs": [
    {
     "data": {
      "text/plain": [
       "{u'Created': u'2017-06-14T16:37:07.7145329+00:00',\n",
       " u'CreatedByEmail': u'reservoir-integrationtest@4subsea.com',\n",
       " u'LastModified': u'2017-06-14T16:37:07.7145329+00:00',\n",
       " u'LastModifiedByEmail': u'reservoir-integrationtest@4subsea.com',\n",
       " u'Metadata': [],\n",
       " u'TimeOfFirstSample': 1451779200000000000L,\n",
       " u'TimeOfLastSample': 1451785140000000000L,\n",
       " u'TimeSeriesId': u'5a57ec52-2559-4ad5-b292-5f5e48daab9a'}"
      ]
     },
     "execution_count": 11,
     "metadata": {},
     "output_type": "execute_result"
    }
   ],
   "source": [
    "info"
   ]
  },
  {
   "cell_type": "markdown",
   "metadata": {},
   "source": [
    "Note that the `TimeOfFirstSample` and `TimeOfLastSample` is stored as nanoseconds since POSIX epoch."
   ]
  },
  {
   "cell_type": "markdown",
   "metadata": {},
   "source": [
    "# Append more data"
   ]
  },
  {
   "cell_type": "markdown",
   "metadata": {},
   "source": [
    "You can always append more data to the same timeseries entry. The data may even overlap, which in that case the most recent entry overwrites."
   ]
  },
  {
   "cell_type": "code",
   "execution_count": 12,
   "metadata": {
    "collapsed": true
   },
   "outputs": [],
   "source": [
    "index = pd.date_range(\"2016-01-03 00:00:50\", freq=\"min\", periods=100)\n",
    "series_dummy_append = pd.Series(23.0 + np.random.randn(100), index=index)\n",
    "series_dummy_append.name = \"Temp\""
   ]
  },
  {
   "cell_type": "code",
   "execution_count": 13,
   "metadata": {
    "collapsed": false
   },
   "outputs": [
    {
     "data": {
      "text/plain": [
       "{u'FileId': u'3e08803a-2763-4906-a53c-de614a5d62f2',\n",
       " u'TimeOfFirstSample': 1451779250000000000L,\n",
       " u'TimeOfLastSample': 1451785190000000000L,\n",
       " u'TimeSeriesId': u'5a57ec52-2559-4ad5-b292-5f5e48daab9a'}"
      ]
     },
     "execution_count": 13,
     "metadata": {},
     "output_type": "execute_result"
    }
   ],
   "source": [
    "client.append(series_dummy_append, response[\"TimeSeriesId\"])"
   ]
  },
  {
   "cell_type": "markdown",
   "metadata": {},
   "source": [
    "# Retrieve data back from the reservoir\n",
    "You can download data from the reservoir. Data is presented as Pandas Series object. The index is by default kept as integers."
   ]
  },
  {
   "cell_type": "code",
   "execution_count": 14,
   "metadata": {
    "collapsed": true
   },
   "outputs": [],
   "source": [
    "data = client.get(response[\"TimeSeriesId\"])"
   ]
  },
  {
   "cell_type": "code",
   "execution_count": 15,
   "metadata": {
    "collapsed": false
   },
   "outputs": [
    {
     "data": {
      "text/plain": [
       "index\n",
       "1451779200000000000    19.731047\n",
       "1451779250000000000    21.646486\n",
       "1451779260000000000    19.322152\n",
       "1451779310000000000    23.306421\n",
       "1451779320000000000    18.885401\n",
       "Name: values, dtype: float64"
      ]
     },
     "execution_count": 15,
     "metadata": {},
     "output_type": "execute_result"
    }
   ],
   "source": [
    "data.head()"
   ]
  },
  {
   "cell_type": "markdown",
   "metadata": {},
   "source": [
    "But the index can be converted to date-time if desired."
   ]
  },
  {
   "cell_type": "code",
   "execution_count": 16,
   "metadata": {
    "collapsed": true
   },
   "outputs": [],
   "source": [
    "data_datetime = client.get(response[\"TimeSeriesId\"], convert_date=True)"
   ]
  },
  {
   "cell_type": "code",
   "execution_count": 17,
   "metadata": {
    "collapsed": false
   },
   "outputs": [
    {
     "data": {
      "text/plain": [
       "index\n",
       "2016-01-03 00:00:00    19.731047\n",
       "2016-01-03 00:00:50    21.646486\n",
       "2016-01-03 00:01:00    19.322152\n",
       "2016-01-03 00:01:50    23.306421\n",
       "2016-01-03 00:02:00    18.885401\n",
       "Name: values, dtype: float64"
      ]
     },
     "execution_count": 17,
     "metadata": {},
     "output_type": "execute_result"
    }
   ],
   "source": [
    "data_datetime.head()"
   ]
  },
  {
   "cell_type": "markdown",
   "metadata": {},
   "source": [
    "## Work with data"
   ]
  },
  {
   "cell_type": "code",
   "execution_count": 18,
   "metadata": {
    "collapsed": false
   },
   "outputs": [
    {
     "data": {
      "application/javascript": [
       "/* Put everything inside the global mpl namespace */\n",
       "window.mpl = {};\n",
       "\n",
       "\n",
       "mpl.get_websocket_type = function() {\n",
       "    if (typeof(WebSocket) !== 'undefined') {\n",
       "        return WebSocket;\n",
       "    } else if (typeof(MozWebSocket) !== 'undefined') {\n",
       "        return MozWebSocket;\n",
       "    } else {\n",
       "        alert('Your browser does not have WebSocket support.' +\n",
       "              'Please try Chrome, Safari or Firefox ≥ 6. ' +\n",
       "              'Firefox 4 and 5 are also supported but you ' +\n",
       "              'have to enable WebSockets in about:config.');\n",
       "    };\n",
       "}\n",
       "\n",
       "mpl.figure = function(figure_id, websocket, ondownload, parent_element) {\n",
       "    this.id = figure_id;\n",
       "\n",
       "    this.ws = websocket;\n",
       "\n",
       "    this.supports_binary = (this.ws.binaryType != undefined);\n",
       "\n",
       "    if (!this.supports_binary) {\n",
       "        var warnings = document.getElementById(\"mpl-warnings\");\n",
       "        if (warnings) {\n",
       "            warnings.style.display = 'block';\n",
       "            warnings.textContent = (\n",
       "                \"This browser does not support binary websocket messages. \" +\n",
       "                    \"Performance may be slow.\");\n",
       "        }\n",
       "    }\n",
       "\n",
       "    this.imageObj = new Image();\n",
       "\n",
       "    this.context = undefined;\n",
       "    this.message = undefined;\n",
       "    this.canvas = undefined;\n",
       "    this.rubberband_canvas = undefined;\n",
       "    this.rubberband_context = undefined;\n",
       "    this.format_dropdown = undefined;\n",
       "\n",
       "    this.image_mode = 'full';\n",
       "\n",
       "    this.root = $('<div/>');\n",
       "    this._root_extra_style(this.root)\n",
       "    this.root.attr('style', 'display: inline-block');\n",
       "\n",
       "    $(parent_element).append(this.root);\n",
       "\n",
       "    this._init_header(this);\n",
       "    this._init_canvas(this);\n",
       "    this._init_toolbar(this);\n",
       "\n",
       "    var fig = this;\n",
       "\n",
       "    this.waiting = false;\n",
       "\n",
       "    this.ws.onopen =  function () {\n",
       "            fig.send_message(\"supports_binary\", {value: fig.supports_binary});\n",
       "            fig.send_message(\"send_image_mode\", {});\n",
       "            if (mpl.ratio != 1) {\n",
       "                fig.send_message(\"set_dpi_ratio\", {'dpi_ratio': mpl.ratio});\n",
       "            }\n",
       "            fig.send_message(\"refresh\", {});\n",
       "        }\n",
       "\n",
       "    this.imageObj.onload = function() {\n",
       "            if (fig.image_mode == 'full') {\n",
       "                // Full images could contain transparency (where diff images\n",
       "                // almost always do), so we need to clear the canvas so that\n",
       "                // there is no ghosting.\n",
       "                fig.context.clearRect(0, 0, fig.canvas.width, fig.canvas.height);\n",
       "            }\n",
       "            fig.context.drawImage(fig.imageObj, 0, 0);\n",
       "        };\n",
       "\n",
       "    this.imageObj.onunload = function() {\n",
       "        this.ws.close();\n",
       "    }\n",
       "\n",
       "    this.ws.onmessage = this._make_on_message_function(this);\n",
       "\n",
       "    this.ondownload = ondownload;\n",
       "}\n",
       "\n",
       "mpl.figure.prototype._init_header = function() {\n",
       "    var titlebar = $(\n",
       "        '<div class=\"ui-dialog-titlebar ui-widget-header ui-corner-all ' +\n",
       "        'ui-helper-clearfix\"/>');\n",
       "    var titletext = $(\n",
       "        '<div class=\"ui-dialog-title\" style=\"width: 100%; ' +\n",
       "        'text-align: center; padding: 3px;\"/>');\n",
       "    titlebar.append(titletext)\n",
       "    this.root.append(titlebar);\n",
       "    this.header = titletext[0];\n",
       "}\n",
       "\n",
       "\n",
       "\n",
       "mpl.figure.prototype._canvas_extra_style = function(canvas_div) {\n",
       "\n",
       "}\n",
       "\n",
       "\n",
       "mpl.figure.prototype._root_extra_style = function(canvas_div) {\n",
       "\n",
       "}\n",
       "\n",
       "mpl.figure.prototype._init_canvas = function() {\n",
       "    var fig = this;\n",
       "\n",
       "    var canvas_div = $('<div/>');\n",
       "\n",
       "    canvas_div.attr('style', 'position: relative; clear: both; outline: 0');\n",
       "\n",
       "    function canvas_keyboard_event(event) {\n",
       "        return fig.key_event(event, event['data']);\n",
       "    }\n",
       "\n",
       "    canvas_div.keydown('key_press', canvas_keyboard_event);\n",
       "    canvas_div.keyup('key_release', canvas_keyboard_event);\n",
       "    this.canvas_div = canvas_div\n",
       "    this._canvas_extra_style(canvas_div)\n",
       "    this.root.append(canvas_div);\n",
       "\n",
       "    var canvas = $('<canvas/>');\n",
       "    canvas.addClass('mpl-canvas');\n",
       "    canvas.attr('style', \"left: 0; top: 0; z-index: 0; outline: 0\")\n",
       "\n",
       "    this.canvas = canvas[0];\n",
       "    this.context = canvas[0].getContext(\"2d\");\n",
       "\n",
       "    var backingStore = this.context.backingStorePixelRatio ||\n",
       "\tthis.context.webkitBackingStorePixelRatio ||\n",
       "\tthis.context.mozBackingStorePixelRatio ||\n",
       "\tthis.context.msBackingStorePixelRatio ||\n",
       "\tthis.context.oBackingStorePixelRatio ||\n",
       "\tthis.context.backingStorePixelRatio || 1;\n",
       "\n",
       "    mpl.ratio = (window.devicePixelRatio || 1) / backingStore;\n",
       "\n",
       "    var rubberband = $('<canvas/>');\n",
       "    rubberband.attr('style', \"position: absolute; left: 0; top: 0; z-index: 1;\")\n",
       "\n",
       "    var pass_mouse_events = true;\n",
       "\n",
       "    canvas_div.resizable({\n",
       "        start: function(event, ui) {\n",
       "            pass_mouse_events = false;\n",
       "        },\n",
       "        resize: function(event, ui) {\n",
       "            fig.request_resize(ui.size.width, ui.size.height);\n",
       "        },\n",
       "        stop: function(event, ui) {\n",
       "            pass_mouse_events = true;\n",
       "            fig.request_resize(ui.size.width, ui.size.height);\n",
       "        },\n",
       "    });\n",
       "\n",
       "    function mouse_event_fn(event) {\n",
       "        if (pass_mouse_events)\n",
       "            return fig.mouse_event(event, event['data']);\n",
       "    }\n",
       "\n",
       "    rubberband.mousedown('button_press', mouse_event_fn);\n",
       "    rubberband.mouseup('button_release', mouse_event_fn);\n",
       "    // Throttle sequential mouse events to 1 every 20ms.\n",
       "    rubberband.mousemove('motion_notify', mouse_event_fn);\n",
       "\n",
       "    rubberband.mouseenter('figure_enter', mouse_event_fn);\n",
       "    rubberband.mouseleave('figure_leave', mouse_event_fn);\n",
       "\n",
       "    canvas_div.on(\"wheel\", function (event) {\n",
       "        event = event.originalEvent;\n",
       "        event['data'] = 'scroll'\n",
       "        if (event.deltaY < 0) {\n",
       "            event.step = 1;\n",
       "        } else {\n",
       "            event.step = -1;\n",
       "        }\n",
       "        mouse_event_fn(event);\n",
       "    });\n",
       "\n",
       "    canvas_div.append(canvas);\n",
       "    canvas_div.append(rubberband);\n",
       "\n",
       "    this.rubberband = rubberband;\n",
       "    this.rubberband_canvas = rubberband[0];\n",
       "    this.rubberband_context = rubberband[0].getContext(\"2d\");\n",
       "    this.rubberband_context.strokeStyle = \"#000000\";\n",
       "\n",
       "    this._resize_canvas = function(width, height) {\n",
       "        // Keep the size of the canvas, canvas container, and rubber band\n",
       "        // canvas in synch.\n",
       "        canvas_div.css('width', width)\n",
       "        canvas_div.css('height', height)\n",
       "\n",
       "        canvas.attr('width', width * mpl.ratio);\n",
       "        canvas.attr('height', height * mpl.ratio);\n",
       "        canvas.attr('style', 'width: ' + width + 'px; height: ' + height + 'px;');\n",
       "\n",
       "        rubberband.attr('width', width);\n",
       "        rubberband.attr('height', height);\n",
       "    }\n",
       "\n",
       "    // Set the figure to an initial 600x600px, this will subsequently be updated\n",
       "    // upon first draw.\n",
       "    this._resize_canvas(600, 600);\n",
       "\n",
       "    // Disable right mouse context menu.\n",
       "    $(this.rubberband_canvas).bind(\"contextmenu\",function(e){\n",
       "        return false;\n",
       "    });\n",
       "\n",
       "    function set_focus () {\n",
       "        canvas.focus();\n",
       "        canvas_div.focus();\n",
       "    }\n",
       "\n",
       "    window.setTimeout(set_focus, 100);\n",
       "}\n",
       "\n",
       "mpl.figure.prototype._init_toolbar = function() {\n",
       "    var fig = this;\n",
       "\n",
       "    var nav_element = $('<div/>')\n",
       "    nav_element.attr('style', 'width: 100%');\n",
       "    this.root.append(nav_element);\n",
       "\n",
       "    // Define a callback function for later on.\n",
       "    function toolbar_event(event) {\n",
       "        return fig.toolbar_button_onclick(event['data']);\n",
       "    }\n",
       "    function toolbar_mouse_event(event) {\n",
       "        return fig.toolbar_button_onmouseover(event['data']);\n",
       "    }\n",
       "\n",
       "    for(var toolbar_ind in mpl.toolbar_items) {\n",
       "        var name = mpl.toolbar_items[toolbar_ind][0];\n",
       "        var tooltip = mpl.toolbar_items[toolbar_ind][1];\n",
       "        var image = mpl.toolbar_items[toolbar_ind][2];\n",
       "        var method_name = mpl.toolbar_items[toolbar_ind][3];\n",
       "\n",
       "        if (!name) {\n",
       "            // put a spacer in here.\n",
       "            continue;\n",
       "        }\n",
       "        var button = $('<button/>');\n",
       "        button.addClass('ui-button ui-widget ui-state-default ui-corner-all ' +\n",
       "                        'ui-button-icon-only');\n",
       "        button.attr('role', 'button');\n",
       "        button.attr('aria-disabled', 'false');\n",
       "        button.click(method_name, toolbar_event);\n",
       "        button.mouseover(tooltip, toolbar_mouse_event);\n",
       "\n",
       "        var icon_img = $('<span/>');\n",
       "        icon_img.addClass('ui-button-icon-primary ui-icon');\n",
       "        icon_img.addClass(image);\n",
       "        icon_img.addClass('ui-corner-all');\n",
       "\n",
       "        var tooltip_span = $('<span/>');\n",
       "        tooltip_span.addClass('ui-button-text');\n",
       "        tooltip_span.html(tooltip);\n",
       "\n",
       "        button.append(icon_img);\n",
       "        button.append(tooltip_span);\n",
       "\n",
       "        nav_element.append(button);\n",
       "    }\n",
       "\n",
       "    var fmt_picker_span = $('<span/>');\n",
       "\n",
       "    var fmt_picker = $('<select/>');\n",
       "    fmt_picker.addClass('mpl-toolbar-option ui-widget ui-widget-content');\n",
       "    fmt_picker_span.append(fmt_picker);\n",
       "    nav_element.append(fmt_picker_span);\n",
       "    this.format_dropdown = fmt_picker[0];\n",
       "\n",
       "    for (var ind in mpl.extensions) {\n",
       "        var fmt = mpl.extensions[ind];\n",
       "        var option = $(\n",
       "            '<option/>', {selected: fmt === mpl.default_extension}).html(fmt);\n",
       "        fmt_picker.append(option)\n",
       "    }\n",
       "\n",
       "    // Add hover states to the ui-buttons\n",
       "    $( \".ui-button\" ).hover(\n",
       "        function() { $(this).addClass(\"ui-state-hover\");},\n",
       "        function() { $(this).removeClass(\"ui-state-hover\");}\n",
       "    );\n",
       "\n",
       "    var status_bar = $('<span class=\"mpl-message\"/>');\n",
       "    nav_element.append(status_bar);\n",
       "    this.message = status_bar[0];\n",
       "}\n",
       "\n",
       "mpl.figure.prototype.request_resize = function(x_pixels, y_pixels) {\n",
       "    // Request matplotlib to resize the figure. Matplotlib will then trigger a resize in the client,\n",
       "    // which will in turn request a refresh of the image.\n",
       "    this.send_message('resize', {'width': x_pixels, 'height': y_pixels});\n",
       "}\n",
       "\n",
       "mpl.figure.prototype.send_message = function(type, properties) {\n",
       "    properties['type'] = type;\n",
       "    properties['figure_id'] = this.id;\n",
       "    this.ws.send(JSON.stringify(properties));\n",
       "}\n",
       "\n",
       "mpl.figure.prototype.send_draw_message = function() {\n",
       "    if (!this.waiting) {\n",
       "        this.waiting = true;\n",
       "        this.ws.send(JSON.stringify({type: \"draw\", figure_id: this.id}));\n",
       "    }\n",
       "}\n",
       "\n",
       "\n",
       "mpl.figure.prototype.handle_save = function(fig, msg) {\n",
       "    var format_dropdown = fig.format_dropdown;\n",
       "    var format = format_dropdown.options[format_dropdown.selectedIndex].value;\n",
       "    fig.ondownload(fig, format);\n",
       "}\n",
       "\n",
       "\n",
       "mpl.figure.prototype.handle_resize = function(fig, msg) {\n",
       "    var size = msg['size'];\n",
       "    if (size[0] != fig.canvas.width || size[1] != fig.canvas.height) {\n",
       "        fig._resize_canvas(size[0], size[1]);\n",
       "        fig.send_message(\"refresh\", {});\n",
       "    };\n",
       "}\n",
       "\n",
       "mpl.figure.prototype.handle_rubberband = function(fig, msg) {\n",
       "    var x0 = msg['x0'] / mpl.ratio;\n",
       "    var y0 = (fig.canvas.height - msg['y0']) / mpl.ratio;\n",
       "    var x1 = msg['x1'] / mpl.ratio;\n",
       "    var y1 = (fig.canvas.height - msg['y1']) / mpl.ratio;\n",
       "    x0 = Math.floor(x0) + 0.5;\n",
       "    y0 = Math.floor(y0) + 0.5;\n",
       "    x1 = Math.floor(x1) + 0.5;\n",
       "    y1 = Math.floor(y1) + 0.5;\n",
       "    var min_x = Math.min(x0, x1);\n",
       "    var min_y = Math.min(y0, y1);\n",
       "    var width = Math.abs(x1 - x0);\n",
       "    var height = Math.abs(y1 - y0);\n",
       "\n",
       "    fig.rubberband_context.clearRect(\n",
       "        0, 0, fig.canvas.width, fig.canvas.height);\n",
       "\n",
       "    fig.rubberband_context.strokeRect(min_x, min_y, width, height);\n",
       "}\n",
       "\n",
       "mpl.figure.prototype.handle_figure_label = function(fig, msg) {\n",
       "    // Updates the figure title.\n",
       "    fig.header.textContent = msg['label'];\n",
       "}\n",
       "\n",
       "mpl.figure.prototype.handle_cursor = function(fig, msg) {\n",
       "    var cursor = msg['cursor'];\n",
       "    switch(cursor)\n",
       "    {\n",
       "    case 0:\n",
       "        cursor = 'pointer';\n",
       "        break;\n",
       "    case 1:\n",
       "        cursor = 'default';\n",
       "        break;\n",
       "    case 2:\n",
       "        cursor = 'crosshair';\n",
       "        break;\n",
       "    case 3:\n",
       "        cursor = 'move';\n",
       "        break;\n",
       "    }\n",
       "    fig.rubberband_canvas.style.cursor = cursor;\n",
       "}\n",
       "\n",
       "mpl.figure.prototype.handle_message = function(fig, msg) {\n",
       "    fig.message.textContent = msg['message'];\n",
       "}\n",
       "\n",
       "mpl.figure.prototype.handle_draw = function(fig, msg) {\n",
       "    // Request the server to send over a new figure.\n",
       "    fig.send_draw_message();\n",
       "}\n",
       "\n",
       "mpl.figure.prototype.handle_image_mode = function(fig, msg) {\n",
       "    fig.image_mode = msg['mode'];\n",
       "}\n",
       "\n",
       "mpl.figure.prototype.updated_canvas_event = function() {\n",
       "    // Called whenever the canvas gets updated.\n",
       "    this.send_message(\"ack\", {});\n",
       "}\n",
       "\n",
       "// A function to construct a web socket function for onmessage handling.\n",
       "// Called in the figure constructor.\n",
       "mpl.figure.prototype._make_on_message_function = function(fig) {\n",
       "    return function socket_on_message(evt) {\n",
       "        if (evt.data instanceof Blob) {\n",
       "            /* FIXME: We get \"Resource interpreted as Image but\n",
       "             * transferred with MIME type text/plain:\" errors on\n",
       "             * Chrome.  But how to set the MIME type?  It doesn't seem\n",
       "             * to be part of the websocket stream */\n",
       "            evt.data.type = \"image/png\";\n",
       "\n",
       "            /* Free the memory for the previous frames */\n",
       "            if (fig.imageObj.src) {\n",
       "                (window.URL || window.webkitURL).revokeObjectURL(\n",
       "                    fig.imageObj.src);\n",
       "            }\n",
       "\n",
       "            fig.imageObj.src = (window.URL || window.webkitURL).createObjectURL(\n",
       "                evt.data);\n",
       "            fig.updated_canvas_event();\n",
       "            fig.waiting = false;\n",
       "            return;\n",
       "        }\n",
       "        else if (typeof evt.data === 'string' && evt.data.slice(0, 21) == \"data:image/png;base64\") {\n",
       "            fig.imageObj.src = evt.data;\n",
       "            fig.updated_canvas_event();\n",
       "            fig.waiting = false;\n",
       "            return;\n",
       "        }\n",
       "\n",
       "        var msg = JSON.parse(evt.data);\n",
       "        var msg_type = msg['type'];\n",
       "\n",
       "        // Call the  \"handle_{type}\" callback, which takes\n",
       "        // the figure and JSON message as its only arguments.\n",
       "        try {\n",
       "            var callback = fig[\"handle_\" + msg_type];\n",
       "        } catch (e) {\n",
       "            console.log(\"No handler for the '\" + msg_type + \"' message type: \", msg);\n",
       "            return;\n",
       "        }\n",
       "\n",
       "        if (callback) {\n",
       "            try {\n",
       "                // console.log(\"Handling '\" + msg_type + \"' message: \", msg);\n",
       "                callback(fig, msg);\n",
       "            } catch (e) {\n",
       "                console.log(\"Exception inside the 'handler_\" + msg_type + \"' callback:\", e, e.stack, msg);\n",
       "            }\n",
       "        }\n",
       "    };\n",
       "}\n",
       "\n",
       "// from http://stackoverflow.com/questions/1114465/getting-mouse-location-in-canvas\n",
       "mpl.findpos = function(e) {\n",
       "    //this section is from http://www.quirksmode.org/js/events_properties.html\n",
       "    var targ;\n",
       "    if (!e)\n",
       "        e = window.event;\n",
       "    if (e.target)\n",
       "        targ = e.target;\n",
       "    else if (e.srcElement)\n",
       "        targ = e.srcElement;\n",
       "    if (targ.nodeType == 3) // defeat Safari bug\n",
       "        targ = targ.parentNode;\n",
       "\n",
       "    // jQuery normalizes the pageX and pageY\n",
       "    // pageX,Y are the mouse positions relative to the document\n",
       "    // offset() returns the position of the element relative to the document\n",
       "    var x = e.pageX - $(targ).offset().left;\n",
       "    var y = e.pageY - $(targ).offset().top;\n",
       "\n",
       "    return {\"x\": x, \"y\": y};\n",
       "};\n",
       "\n",
       "/*\n",
       " * return a copy of an object with only non-object keys\n",
       " * we need this to avoid circular references\n",
       " * http://stackoverflow.com/a/24161582/3208463\n",
       " */\n",
       "function simpleKeys (original) {\n",
       "  return Object.keys(original).reduce(function (obj, key) {\n",
       "    if (typeof original[key] !== 'object')\n",
       "        obj[key] = original[key]\n",
       "    return obj;\n",
       "  }, {});\n",
       "}\n",
       "\n",
       "mpl.figure.prototype.mouse_event = function(event, name) {\n",
       "    var canvas_pos = mpl.findpos(event)\n",
       "\n",
       "    if (name === 'button_press')\n",
       "    {\n",
       "        this.canvas.focus();\n",
       "        this.canvas_div.focus();\n",
       "    }\n",
       "\n",
       "    var x = canvas_pos.x * mpl.ratio;\n",
       "    var y = canvas_pos.y * mpl.ratio;\n",
       "\n",
       "    this.send_message(name, {x: x, y: y, button: event.button,\n",
       "                             step: event.step,\n",
       "                             guiEvent: simpleKeys(event)});\n",
       "\n",
       "    /* This prevents the web browser from automatically changing to\n",
       "     * the text insertion cursor when the button is pressed.  We want\n",
       "     * to control all of the cursor setting manually through the\n",
       "     * 'cursor' event from matplotlib */\n",
       "    event.preventDefault();\n",
       "    return false;\n",
       "}\n",
       "\n",
       "mpl.figure.prototype._key_event_extra = function(event, name) {\n",
       "    // Handle any extra behaviour associated with a key event\n",
       "}\n",
       "\n",
       "mpl.figure.prototype.key_event = function(event, name) {\n",
       "\n",
       "    // Prevent repeat events\n",
       "    if (name == 'key_press')\n",
       "    {\n",
       "        if (event.which === this._key)\n",
       "            return;\n",
       "        else\n",
       "            this._key = event.which;\n",
       "    }\n",
       "    if (name == 'key_release')\n",
       "        this._key = null;\n",
       "\n",
       "    var value = '';\n",
       "    if (event.ctrlKey && event.which != 17)\n",
       "        value += \"ctrl+\";\n",
       "    if (event.altKey && event.which != 18)\n",
       "        value += \"alt+\";\n",
       "    if (event.shiftKey && event.which != 16)\n",
       "        value += \"shift+\";\n",
       "\n",
       "    value += 'k';\n",
       "    value += event.which.toString();\n",
       "\n",
       "    this._key_event_extra(event, name);\n",
       "\n",
       "    this.send_message(name, {key: value,\n",
       "                             guiEvent: simpleKeys(event)});\n",
       "    return false;\n",
       "}\n",
       "\n",
       "mpl.figure.prototype.toolbar_button_onclick = function(name) {\n",
       "    if (name == 'download') {\n",
       "        this.handle_save(this, null);\n",
       "    } else {\n",
       "        this.send_message(\"toolbar_button\", {name: name});\n",
       "    }\n",
       "};\n",
       "\n",
       "mpl.figure.prototype.toolbar_button_onmouseover = function(tooltip) {\n",
       "    this.message.textContent = tooltip;\n",
       "};\n",
       "mpl.toolbar_items = [[\"Home\", \"Reset original view\", \"fa fa-home icon-home\", \"home\"], [\"Back\", \"Back to  previous view\", \"fa fa-arrow-left icon-arrow-left\", \"back\"], [\"Forward\", \"Forward to next view\", \"fa fa-arrow-right icon-arrow-right\", \"forward\"], [\"\", \"\", \"\", \"\"], [\"Pan\", \"Pan axes with left mouse, zoom with right\", \"fa fa-arrows icon-move\", \"pan\"], [\"Zoom\", \"Zoom to rectangle\", \"fa fa-square-o icon-check-empty\", \"zoom\"], [\"\", \"\", \"\", \"\"], [\"Download\", \"Download plot\", \"fa fa-floppy-o icon-save\", \"download\"]];\n",
       "\n",
       "mpl.extensions = [\"eps\", \"jpeg\", \"pdf\", \"png\", \"ps\", \"raw\", \"svg\", \"tif\"];\n",
       "\n",
       "mpl.default_extension = \"png\";var comm_websocket_adapter = function(comm) {\n",
       "    // Create a \"websocket\"-like object which calls the given IPython comm\n",
       "    // object with the appropriate methods. Currently this is a non binary\n",
       "    // socket, so there is still some room for performance tuning.\n",
       "    var ws = {};\n",
       "\n",
       "    ws.close = function() {\n",
       "        comm.close()\n",
       "    };\n",
       "    ws.send = function(m) {\n",
       "        //console.log('sending', m);\n",
       "        comm.send(m);\n",
       "    };\n",
       "    // Register the callback with on_msg.\n",
       "    comm.on_msg(function(msg) {\n",
       "        //console.log('receiving', msg['content']['data'], msg);\n",
       "        // Pass the mpl event to the overriden (by mpl) onmessage function.\n",
       "        ws.onmessage(msg['content']['data'])\n",
       "    });\n",
       "    return ws;\n",
       "}\n",
       "\n",
       "mpl.mpl_figure_comm = function(comm, msg) {\n",
       "    // This is the function which gets called when the mpl process\n",
       "    // starts-up an IPython Comm through the \"matplotlib\" channel.\n",
       "\n",
       "    var id = msg.content.data.id;\n",
       "    // Get hold of the div created by the display call when the Comm\n",
       "    // socket was opened in Python.\n",
       "    var element = $(\"#\" + id);\n",
       "    var ws_proxy = comm_websocket_adapter(comm)\n",
       "\n",
       "    function ondownload(figure, format) {\n",
       "        window.open(figure.imageObj.src);\n",
       "    }\n",
       "\n",
       "    var fig = new mpl.figure(id, ws_proxy,\n",
       "                           ondownload,\n",
       "                           element.get(0));\n",
       "\n",
       "    // Call onopen now - mpl needs it, as it is assuming we've passed it a real\n",
       "    // web socket which is closed, not our websocket->open comm proxy.\n",
       "    ws_proxy.onopen();\n",
       "\n",
       "    fig.parent_element = element.get(0);\n",
       "    fig.cell_info = mpl.find_output_cell(\"<div id='\" + id + \"'></div>\");\n",
       "    if (!fig.cell_info) {\n",
       "        console.error(\"Failed to find cell for figure\", id, fig);\n",
       "        return;\n",
       "    }\n",
       "\n",
       "    var output_index = fig.cell_info[2]\n",
       "    var cell = fig.cell_info[0];\n",
       "\n",
       "};\n",
       "\n",
       "mpl.figure.prototype.handle_close = function(fig, msg) {\n",
       "    var width = fig.canvas.width/mpl.ratio\n",
       "    fig.root.unbind('remove')\n",
       "\n",
       "    // Update the output cell to use the data from the current canvas.\n",
       "    fig.push_to_output();\n",
       "    var dataURL = fig.canvas.toDataURL();\n",
       "    // Re-enable the keyboard manager in IPython - without this line, in FF,\n",
       "    // the notebook keyboard shortcuts fail.\n",
       "    IPython.keyboard_manager.enable()\n",
       "    $(fig.parent_element).html('<img src=\"' + dataURL + '\" width=\"' + width + '\">');\n",
       "    fig.close_ws(fig, msg);\n",
       "}\n",
       "\n",
       "mpl.figure.prototype.close_ws = function(fig, msg){\n",
       "    fig.send_message('closing', msg);\n",
       "    // fig.ws.close()\n",
       "}\n",
       "\n",
       "mpl.figure.prototype.push_to_output = function(remove_interactive) {\n",
       "    // Turn the data on the canvas into data in the output cell.\n",
       "    var width = this.canvas.width/mpl.ratio\n",
       "    var dataURL = this.canvas.toDataURL();\n",
       "    this.cell_info[1]['text/html'] = '<img src=\"' + dataURL + '\" width=\"' + width + '\">';\n",
       "}\n",
       "\n",
       "mpl.figure.prototype.updated_canvas_event = function() {\n",
       "    // Tell IPython that the notebook contents must change.\n",
       "    IPython.notebook.set_dirty(true);\n",
       "    this.send_message(\"ack\", {});\n",
       "    var fig = this;\n",
       "    // Wait a second, then push the new image to the DOM so\n",
       "    // that it is saved nicely (might be nice to debounce this).\n",
       "    setTimeout(function () { fig.push_to_output() }, 1000);\n",
       "}\n",
       "\n",
       "mpl.figure.prototype._init_toolbar = function() {\n",
       "    var fig = this;\n",
       "\n",
       "    var nav_element = $('<div/>')\n",
       "    nav_element.attr('style', 'width: 100%');\n",
       "    this.root.append(nav_element);\n",
       "\n",
       "    // Define a callback function for later on.\n",
       "    function toolbar_event(event) {\n",
       "        return fig.toolbar_button_onclick(event['data']);\n",
       "    }\n",
       "    function toolbar_mouse_event(event) {\n",
       "        return fig.toolbar_button_onmouseover(event['data']);\n",
       "    }\n",
       "\n",
       "    for(var toolbar_ind in mpl.toolbar_items){\n",
       "        var name = mpl.toolbar_items[toolbar_ind][0];\n",
       "        var tooltip = mpl.toolbar_items[toolbar_ind][1];\n",
       "        var image = mpl.toolbar_items[toolbar_ind][2];\n",
       "        var method_name = mpl.toolbar_items[toolbar_ind][3];\n",
       "\n",
       "        if (!name) { continue; };\n",
       "\n",
       "        var button = $('<button class=\"btn btn-default\" href=\"#\" title=\"' + name + '\"><i class=\"fa ' + image + ' fa-lg\"></i></button>');\n",
       "        button.click(method_name, toolbar_event);\n",
       "        button.mouseover(tooltip, toolbar_mouse_event);\n",
       "        nav_element.append(button);\n",
       "    }\n",
       "\n",
       "    // Add the status bar.\n",
       "    var status_bar = $('<span class=\"mpl-message\" style=\"text-align:right; float: right;\"/>');\n",
       "    nav_element.append(status_bar);\n",
       "    this.message = status_bar[0];\n",
       "\n",
       "    // Add the close button to the window.\n",
       "    var buttongrp = $('<div class=\"btn-group inline pull-right\"></div>');\n",
       "    var button = $('<button class=\"btn btn-mini btn-primary\" href=\"#\" title=\"Stop Interaction\"><i class=\"fa fa-power-off icon-remove icon-large\"></i></button>');\n",
       "    button.click(function (evt) { fig.handle_close(fig, {}); } );\n",
       "    button.mouseover('Stop Interaction', toolbar_mouse_event);\n",
       "    buttongrp.append(button);\n",
       "    var titlebar = this.root.find($('.ui-dialog-titlebar'));\n",
       "    titlebar.prepend(buttongrp);\n",
       "}\n",
       "\n",
       "mpl.figure.prototype._root_extra_style = function(el){\n",
       "    var fig = this\n",
       "    el.on(\"remove\", function(){\n",
       "\tfig.close_ws(fig, {});\n",
       "    });\n",
       "}\n",
       "\n",
       "mpl.figure.prototype._canvas_extra_style = function(el){\n",
       "    // this is important to make the div 'focusable\n",
       "    el.attr('tabindex', 0)\n",
       "    // reach out to IPython and tell the keyboard manager to turn it's self\n",
       "    // off when our div gets focus\n",
       "\n",
       "    // location in version 3\n",
       "    if (IPython.notebook.keyboard_manager) {\n",
       "        IPython.notebook.keyboard_manager.register_events(el);\n",
       "    }\n",
       "    else {\n",
       "        // location in version 2\n",
       "        IPython.keyboard_manager.register_events(el);\n",
       "    }\n",
       "\n",
       "}\n",
       "\n",
       "mpl.figure.prototype._key_event_extra = function(event, name) {\n",
       "    var manager = IPython.notebook.keyboard_manager;\n",
       "    if (!manager)\n",
       "        manager = IPython.keyboard_manager;\n",
       "\n",
       "    // Check for shift+enter\n",
       "    if (event.shiftKey && event.which == 13) {\n",
       "        this.canvas_div.blur();\n",
       "        // select the cell after this one\n",
       "        var index = IPython.notebook.find_cell_index(this.cell_info[0]);\n",
       "        IPython.notebook.select(index + 1);\n",
       "    }\n",
       "}\n",
       "\n",
       "mpl.figure.prototype.handle_save = function(fig, msg) {\n",
       "    fig.ondownload(fig, null);\n",
       "}\n",
       "\n",
       "\n",
       "mpl.find_output_cell = function(html_output) {\n",
       "    // Return the cell and output element which can be found *uniquely* in the notebook.\n",
       "    // Note - this is a bit hacky, but it is done because the \"notebook_saving.Notebook\"\n",
       "    // IPython event is triggered only after the cells have been serialised, which for\n",
       "    // our purposes (turning an active figure into a static one), is too late.\n",
       "    var cells = IPython.notebook.get_cells();\n",
       "    var ncells = cells.length;\n",
       "    for (var i=0; i<ncells; i++) {\n",
       "        var cell = cells[i];\n",
       "        if (cell.cell_type === 'code'){\n",
       "            for (var j=0; j<cell.output_area.outputs.length; j++) {\n",
       "                var data = cell.output_area.outputs[j];\n",
       "                if (data.data) {\n",
       "                    // IPython >= 3 moved mimebundle to data attribute of output\n",
       "                    data = data.data;\n",
       "                }\n",
       "                if (data['text/html'] == html_output) {\n",
       "                    return [cell, data, j];\n",
       "                }\n",
       "            }\n",
       "        }\n",
       "    }\n",
       "}\n",
       "\n",
       "// Register the function which deals with the matplotlib target/channel.\n",
       "// The kernel may be null if the page has been refreshed.\n",
       "if (IPython.notebook.kernel != null) {\n",
       "    IPython.notebook.kernel.comm_manager.register_target('matplotlib', mpl.mpl_figure_comm);\n",
       "}\n"
      ],
      "text/plain": [
       "<IPython.core.display.Javascript object>"
      ]
     },
     "metadata": {},
     "output_type": "display_data"
    },
    {
     "data": {
      "text/html": [
       "<img src=\"data:image/png;base64,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\" width=\"826.315799842581\">"
      ],
      "text/plain": [
       "<IPython.core.display.HTML object>"
      ]
     },
     "metadata": {},
     "output_type": "display_data"
    },
    {
     "data": {
      "text/plain": [
       "[<matplotlib.lines.Line2D at 0xb023ba8>]"
      ]
     },
     "execution_count": 18,
     "metadata": {},
     "output_type": "execute_result"
    }
   ],
   "source": [
    "plt.figure()\n",
    "plt.plot(data_datetime)"
   ]
  },
  {
   "cell_type": "markdown",
   "metadata": {},
   "source": [
    "# Delete data in the reservoir"
   ]
  },
  {
   "cell_type": "code",
   "execution_count": 19,
   "metadata": {
    "collapsed": true
   },
   "outputs": [],
   "source": [
    "client.delete(response[\"TimeSeriesId\"])"
   ]
  }
 ],
 "metadata": {
  "anaconda-cloud": {},
  "kernelspec": {
   "display_name": "Python [default]",
   "language": "python",
   "name": "python2"
  },
  "language_info": {
   "codemirror_mode": {
    "name": "ipython",
    "version": 2
   },
   "file_extension": ".py",
   "mimetype": "text/x-python",
   "name": "python",
   "nbconvert_exporter": "python",
   "pygments_lexer": "ipython2",
   "version": "2.7.13"
  }
 },
 "nbformat": 4,
 "nbformat_minor": 1
}
