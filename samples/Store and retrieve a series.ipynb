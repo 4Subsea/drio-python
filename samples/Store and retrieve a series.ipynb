{
 "cells": [
  {
   "cell_type": "code",
   "execution_count": 39,
   "metadata": {
    "collapsed": false
   },
   "outputs": [],
   "source": [
    "import numpy as np\n",
    "import pandas as pd\n",
    "import matplotlib.pyplot as plt\n",
    "%matplotlib notebook\n",
    "\n",
    "import timeseriesclient as tsc"
   ]
  },
  {
   "cell_type": "code",
   "execution_count": 19,
   "metadata": {
    "collapsed": true
   },
   "outputs": [],
   "source": [
    "tsc.globalsettings.environment.set_test()  # Work with test environment"
   ]
  },
  {
   "cell_type": "markdown",
   "metadata": {},
   "source": [
    "# Create series data"
   ]
  },
  {
   "cell_type": "markdown",
   "metadata": {},
   "source": [
    "The timeseriesclient work with Pandas Dataframe and Series object. Let's create a dummy series. "
   ]
  },
  {
   "cell_type": "code",
   "execution_count": 20,
   "metadata": {
    "collapsed": false
   },
   "outputs": [],
   "source": [
    "index = pd.date_range('2016-01-03', freq='min', periods=100)\n",
    "df_dummy = pd.DataFrame({'temp': 20. + np.random.randn(100)}, index=index)"
   ]
  },
  {
   "cell_type": "code",
   "execution_count": 21,
   "metadata": {
    "collapsed": false
   },
   "outputs": [
    {
     "data": {
      "text/html": [
       "<div>\n",
       "<table border=\"1\" class=\"dataframe\">\n",
       "  <thead>\n",
       "    <tr style=\"text-align: right;\">\n",
       "      <th></th>\n",
       "      <th>temp</th>\n",
       "    </tr>\n",
       "  </thead>\n",
       "  <tbody>\n",
       "    <tr>\n",
       "      <th>2016-01-03 00:00:00</th>\n",
       "      <td>20.221091</td>\n",
       "    </tr>\n",
       "    <tr>\n",
       "      <th>2016-01-03 00:01:00</th>\n",
       "      <td>21.611999</td>\n",
       "    </tr>\n",
       "    <tr>\n",
       "      <th>2016-01-03 00:02:00</th>\n",
       "      <td>20.470304</td>\n",
       "    </tr>\n",
       "    <tr>\n",
       "      <th>2016-01-03 00:03:00</th>\n",
       "      <td>20.395752</td>\n",
       "    </tr>\n",
       "    <tr>\n",
       "      <th>2016-01-03 00:04:00</th>\n",
       "      <td>20.371470</td>\n",
       "    </tr>\n",
       "  </tbody>\n",
       "</table>\n",
       "</div>"
      ],
      "text/plain": [
       "                          temp\n",
       "2016-01-03 00:00:00  20.221091\n",
       "2016-01-03 00:01:00  21.611999\n",
       "2016-01-03 00:02:00  20.470304\n",
       "2016-01-03 00:03:00  20.395752\n",
       "2016-01-03 00:04:00  20.371470"
      ]
     },
     "execution_count": 21,
     "metadata": {},
     "output_type": "execute_result"
    }
   ],
   "source": [
    "df_dummy.head()"
   ]
  },
  {
   "cell_type": "markdown",
   "metadata": {},
   "source": [
    "# Upload to the reservoir"
   ]
  },
  {
   "cell_type": "markdown",
   "metadata": {},
   "source": [
    "First, authenticate yourself towards the reservoir."
   ]
  },
  {
   "cell_type": "code",
   "execution_count": 23,
   "metadata": {
    "collapsed": false
   },
   "outputs": [
    {
     "name": "stdout",
     "output_type": "stream",
     "text": [
      "Password: ········\n"
     ]
    }
   ],
   "source": [
    "auth_key = tsc.Authenticator('ace@4subsea.com')"
   ]
  },
  {
   "cell_type": "markdown",
   "metadata": {},
   "source": [
    "Then initiate a client and use the authentication key."
   ]
  },
  {
   "cell_type": "code",
   "execution_count": 24,
   "metadata": {
    "collapsed": true
   },
   "outputs": [],
   "source": [
    "client = tsc.TimeSeriesClient(auth_key)"
   ]
  },
  {
   "cell_type": "markdown",
   "metadata": {},
   "source": [
    "Upload the DataFrame and store the response from the reservoir."
   ]
  },
  {
   "cell_type": "code",
   "execution_count": 25,
   "metadata": {
    "collapsed": true
   },
   "outputs": [],
   "source": [
    "response = client.create(df_dummy)"
   ]
  },
  {
   "cell_type": "code",
   "execution_count": 26,
   "metadata": {
    "collapsed": false
   },
   "outputs": [
    {
     "data": {
      "text/plain": [
       "{u'FileId': u'e44de8d2-f6c0-48c7-9f12-62850b4c9a1a',\n",
       " u'TimeOfFirstSample': 1451779200000000000L,\n",
       " u'TimeOfLastSample': 1451785140000000000L,\n",
       " u'TimeSeriesId': u'e9384a99-825f-4ba1-9c97-4cb6dfa31574'}"
      ]
     },
     "execution_count": 26,
     "metadata": {},
     "output_type": "execute_result"
    }
   ],
   "source": [
    "response"
   ]
  },
  {
   "cell_type": "markdown",
   "metadata": {},
   "source": [
    "The reservoir assigns a unique id - TimeSeriesId. This id can be used to make requests towards the reservoir."
   ]
  },
  {
   "cell_type": "markdown",
   "metadata": {},
   "source": [
    "# Series information"
   ]
  },
  {
   "cell_type": "markdown",
   "metadata": {},
   "source": [
    "Lets ask the reservoir about the newly created series data."
   ]
  },
  {
   "cell_type": "code",
   "execution_count": 27,
   "metadata": {
    "collapsed": true
   },
   "outputs": [],
   "source": [
    "info = client.info(response['TimeSeriesId'])"
   ]
  },
  {
   "cell_type": "code",
   "execution_count": 28,
   "metadata": {
    "collapsed": false
   },
   "outputs": [
    {
     "data": {
      "text/plain": [
       "{u'Created': u'2017-01-16T19:06:28.7801827+00:00',\n",
       " u'CreatedByEmail': u'ace@4subsea.com',\n",
       " u'LastModified': u'2017-01-16T19:06:28.7801827+00:00',\n",
       " u'LastModifiedByEmail': u'ace@4subsea.com',\n",
       " u'Metadata': {},\n",
       " u'TimeOfFirstSample': 1451779200000000000L,\n",
       " u'TimeOfLastSample': 1451785140000000000L,\n",
       " u'TimeSeriesId': u'e9384a99-825f-4ba1-9c97-4cb6dfa31574'}"
      ]
     },
     "execution_count": 28,
     "metadata": {},
     "output_type": "execute_result"
    }
   ],
   "source": [
    "info"
   ]
  },
  {
   "cell_type": "markdown",
   "metadata": {},
   "source": [
    "Note that the TimeOfFirstSample and TimeOfLastSample is stored as nanoseconds since POSIX epoch."
   ]
  },
  {
   "cell_type": "markdown",
   "metadata": {},
   "source": [
    "# Append more data"
   ]
  },
  {
   "cell_type": "code",
   "execution_count": 29,
   "metadata": {
    "collapsed": true
   },
   "outputs": [],
   "source": [
    "index = pd.date_range('2016-01-05', freq='min', periods=100)\n",
    "df_dummy_append = pd.DataFrame({'temp': 23. + np.random.randn(100)}, index=index)"
   ]
  },
  {
   "cell_type": "code",
   "execution_count": 30,
   "metadata": {
    "collapsed": false
   },
   "outputs": [
    {
     "data": {
      "text/plain": [
       "{u'FileId': u'3019c3ed-bc7d-4058-b3d1-4dde24bbc579',\n",
       " u'TimeOfFirstSample': 1451952000000000000L,\n",
       " u'TimeOfLastSample': 1451957940000000000L,\n",
       " u'TimeSeriesId': u'e9384a99-825f-4ba1-9c97-4cb6dfa31574'}"
      ]
     },
     "execution_count": 30,
     "metadata": {},
     "output_type": "execute_result"
    }
   ],
   "source": [
    "client.append(df_dummy_append, response['TimeSeriesId'])"
   ]
  },
  {
   "cell_type": "markdown",
   "metadata": {},
   "source": [
    "# Retrieve data back from the reservoir"
   ]
  },
  {
   "cell_type": "code",
   "execution_count": 31,
   "metadata": {
    "collapsed": true
   },
   "outputs": [],
   "source": [
    "data = client.get(response['TimeSeriesId'])"
   ]
  },
  {
   "cell_type": "code",
   "execution_count": 32,
   "metadata": {
    "collapsed": false
   },
   "outputs": [
    {
     "data": {
      "text/plain": [
       "time\n",
       "1451779200000000000    20.221091\n",
       "1451779260000000000    21.611999\n",
       "1451779320000000000    20.470304\n",
       "1451779380000000000    20.395752\n",
       "1451779440000000000    20.371470\n",
       "Name: values, dtype: float64"
      ]
     },
     "execution_count": 32,
     "metadata": {},
     "output_type": "execute_result"
    }
   ],
   "source": [
    "data.head()"
   ]
  },
  {
   "cell_type": "code",
   "execution_count": 33,
   "metadata": {
    "collapsed": true
   },
   "outputs": [],
   "source": [
    "data_datetime = client.get(response['TimeSeriesId'], convert_date=True)"
   ]
  },
  {
   "cell_type": "code",
   "execution_count": 37,
   "metadata": {
    "collapsed": false
   },
   "outputs": [
    {
     "data": {
      "text/plain": [
       "time\n",
       "2016-01-03 00:00:00    20.221091\n",
       "2016-01-03 00:01:00    21.611999\n",
       "2016-01-03 00:02:00    20.470304\n",
       "2016-01-03 00:03:00    20.395752\n",
       "2016-01-03 00:04:00    20.371470\n",
       "Name: values, dtype: float64"
      ]
     },
     "execution_count": 37,
     "metadata": {},
     "output_type": "execute_result"
    }
   ],
   "source": [
    "data_datetime.head()"
   ]
  },
  {
   "cell_type": "code",
   "execution_count": 45,
   "metadata": {
    "collapsed": false
   },
   "outputs": [
    {
     "data": {
      "application/javascript": [
       "/* Put everything inside the global mpl namespace */\n",
       "window.mpl = {};\n",
       "\n",
       "mpl.get_websocket_type = function() {\n",
       "    if (typeof(WebSocket) !== 'undefined') {\n",
       "        return WebSocket;\n",
       "    } else if (typeof(MozWebSocket) !== 'undefined') {\n",
       "        return MozWebSocket;\n",
       "    } else {\n",
       "        alert('Your browser does not have WebSocket support.' +\n",
       "              'Please try Chrome, Safari or Firefox ≥ 6. ' +\n",
       "              'Firefox 4 and 5 are also supported but you ' +\n",
       "              'have to enable WebSockets in about:config.');\n",
       "    };\n",
       "}\n",
       "\n",
       "mpl.figure = function(figure_id, websocket, ondownload, parent_element) {\n",
       "    this.id = figure_id;\n",
       "\n",
       "    this.ws = websocket;\n",
       "\n",
       "    this.supports_binary = (this.ws.binaryType != undefined);\n",
       "\n",
       "    if (!this.supports_binary) {\n",
       "        var warnings = document.getElementById(\"mpl-warnings\");\n",
       "        if (warnings) {\n",
       "            warnings.style.display = 'block';\n",
       "            warnings.textContent = (\n",
       "                \"This browser does not support binary websocket messages. \" +\n",
       "                    \"Performance may be slow.\");\n",
       "        }\n",
       "    }\n",
       "\n",
       "    this.imageObj = new Image();\n",
       "\n",
       "    this.context = undefined;\n",
       "    this.message = undefined;\n",
       "    this.canvas = undefined;\n",
       "    this.rubberband_canvas = undefined;\n",
       "    this.rubberband_context = undefined;\n",
       "    this.format_dropdown = undefined;\n",
       "\n",
       "    this.image_mode = 'full';\n",
       "\n",
       "    this.root = $('<div/>');\n",
       "    this._root_extra_style(this.root)\n",
       "    this.root.attr('style', 'display: inline-block');\n",
       "\n",
       "    $(parent_element).append(this.root);\n",
       "\n",
       "    this._init_header(this);\n",
       "    this._init_canvas(this);\n",
       "    this._init_toolbar(this);\n",
       "\n",
       "    var fig = this;\n",
       "\n",
       "    this.waiting = false;\n",
       "\n",
       "    this.ws.onopen =  function () {\n",
       "            fig.send_message(\"supports_binary\", {value: fig.supports_binary});\n",
       "            fig.send_message(\"send_image_mode\", {});\n",
       "            fig.send_message(\"refresh\", {});\n",
       "        }\n",
       "\n",
       "    this.imageObj.onload = function() {\n",
       "            if (fig.image_mode == 'full') {\n",
       "                // Full images could contain transparency (where diff images\n",
       "                // almost always do), so we need to clear the canvas so that\n",
       "                // there is no ghosting.\n",
       "                fig.context.clearRect(0, 0, fig.canvas.width, fig.canvas.height);\n",
       "            }\n",
       "            fig.context.drawImage(fig.imageObj, 0, 0);\n",
       "        };\n",
       "\n",
       "    this.imageObj.onunload = function() {\n",
       "        this.ws.close();\n",
       "    }\n",
       "\n",
       "    this.ws.onmessage = this._make_on_message_function(this);\n",
       "\n",
       "    this.ondownload = ondownload;\n",
       "}\n",
       "\n",
       "mpl.figure.prototype._init_header = function() {\n",
       "    var titlebar = $(\n",
       "        '<div class=\"ui-dialog-titlebar ui-widget-header ui-corner-all ' +\n",
       "        'ui-helper-clearfix\"/>');\n",
       "    var titletext = $(\n",
       "        '<div class=\"ui-dialog-title\" style=\"width: 100%; ' +\n",
       "        'text-align: center; padding: 3px;\"/>');\n",
       "    titlebar.append(titletext)\n",
       "    this.root.append(titlebar);\n",
       "    this.header = titletext[0];\n",
       "}\n",
       "\n",
       "\n",
       "\n",
       "mpl.figure.prototype._canvas_extra_style = function(canvas_div) {\n",
       "\n",
       "}\n",
       "\n",
       "\n",
       "mpl.figure.prototype._root_extra_style = function(canvas_div) {\n",
       "\n",
       "}\n",
       "\n",
       "mpl.figure.prototype._init_canvas = function() {\n",
       "    var fig = this;\n",
       "\n",
       "    var canvas_div = $('<div/>');\n",
       "\n",
       "    canvas_div.attr('style', 'position: relative; clear: both; outline: 0');\n",
       "\n",
       "    function canvas_keyboard_event(event) {\n",
       "        return fig.key_event(event, event['data']);\n",
       "    }\n",
       "\n",
       "    canvas_div.keydown('key_press', canvas_keyboard_event);\n",
       "    canvas_div.keyup('key_release', canvas_keyboard_event);\n",
       "    this.canvas_div = canvas_div\n",
       "    this._canvas_extra_style(canvas_div)\n",
       "    this.root.append(canvas_div);\n",
       "\n",
       "    var canvas = $('<canvas/>');\n",
       "    canvas.addClass('mpl-canvas');\n",
       "    canvas.attr('style', \"left: 0; top: 0; z-index: 0; outline: 0\")\n",
       "\n",
       "    this.canvas = canvas[0];\n",
       "    this.context = canvas[0].getContext(\"2d\");\n",
       "\n",
       "    var rubberband = $('<canvas/>');\n",
       "    rubberband.attr('style', \"position: absolute; left: 0; top: 0; z-index: 1;\")\n",
       "\n",
       "    var pass_mouse_events = true;\n",
       "\n",
       "    canvas_div.resizable({\n",
       "        start: function(event, ui) {\n",
       "            pass_mouse_events = false;\n",
       "        },\n",
       "        resize: function(event, ui) {\n",
       "            fig.request_resize(ui.size.width, ui.size.height);\n",
       "        },\n",
       "        stop: function(event, ui) {\n",
       "            pass_mouse_events = true;\n",
       "            fig.request_resize(ui.size.width, ui.size.height);\n",
       "        },\n",
       "    });\n",
       "\n",
       "    function mouse_event_fn(event) {\n",
       "        if (pass_mouse_events)\n",
       "            return fig.mouse_event(event, event['data']);\n",
       "    }\n",
       "\n",
       "    rubberband.mousedown('button_press', mouse_event_fn);\n",
       "    rubberband.mouseup('button_release', mouse_event_fn);\n",
       "    // Throttle sequential mouse events to 1 every 20ms.\n",
       "    rubberband.mousemove('motion_notify', mouse_event_fn);\n",
       "\n",
       "    rubberband.mouseenter('figure_enter', mouse_event_fn);\n",
       "    rubberband.mouseleave('figure_leave', mouse_event_fn);\n",
       "\n",
       "    canvas_div.on(\"wheel\", function (event) {\n",
       "        event = event.originalEvent;\n",
       "        event['data'] = 'scroll'\n",
       "        if (event.deltaY < 0) {\n",
       "            event.step = 1;\n",
       "        } else {\n",
       "            event.step = -1;\n",
       "        }\n",
       "        mouse_event_fn(event);\n",
       "    });\n",
       "\n",
       "    canvas_div.append(canvas);\n",
       "    canvas_div.append(rubberband);\n",
       "\n",
       "    this.rubberband = rubberband;\n",
       "    this.rubberband_canvas = rubberband[0];\n",
       "    this.rubberband_context = rubberband[0].getContext(\"2d\");\n",
       "    this.rubberband_context.strokeStyle = \"#000000\";\n",
       "\n",
       "    this._resize_canvas = function(width, height) {\n",
       "        // Keep the size of the canvas, canvas container, and rubber band\n",
       "        // canvas in synch.\n",
       "        canvas_div.css('width', width)\n",
       "        canvas_div.css('height', height)\n",
       "\n",
       "        canvas.attr('width', width);\n",
       "        canvas.attr('height', height);\n",
       "\n",
       "        rubberband.attr('width', width);\n",
       "        rubberband.attr('height', height);\n",
       "    }\n",
       "\n",
       "    // Set the figure to an initial 600x600px, this will subsequently be updated\n",
       "    // upon first draw.\n",
       "    this._resize_canvas(600, 600);\n",
       "\n",
       "    // Disable right mouse context menu.\n",
       "    $(this.rubberband_canvas).bind(\"contextmenu\",function(e){\n",
       "        return false;\n",
       "    });\n",
       "\n",
       "    function set_focus () {\n",
       "        canvas.focus();\n",
       "        canvas_div.focus();\n",
       "    }\n",
       "\n",
       "    window.setTimeout(set_focus, 100);\n",
       "}\n",
       "\n",
       "mpl.figure.prototype._init_toolbar = function() {\n",
       "    var fig = this;\n",
       "\n",
       "    var nav_element = $('<div/>')\n",
       "    nav_element.attr('style', 'width: 100%');\n",
       "    this.root.append(nav_element);\n",
       "\n",
       "    // Define a callback function for later on.\n",
       "    function toolbar_event(event) {\n",
       "        return fig.toolbar_button_onclick(event['data']);\n",
       "    }\n",
       "    function toolbar_mouse_event(event) {\n",
       "        return fig.toolbar_button_onmouseover(event['data']);\n",
       "    }\n",
       "\n",
       "    for(var toolbar_ind in mpl.toolbar_items) {\n",
       "        var name = mpl.toolbar_items[toolbar_ind][0];\n",
       "        var tooltip = mpl.toolbar_items[toolbar_ind][1];\n",
       "        var image = mpl.toolbar_items[toolbar_ind][2];\n",
       "        var method_name = mpl.toolbar_items[toolbar_ind][3];\n",
       "\n",
       "        if (!name) {\n",
       "            // put a spacer in here.\n",
       "            continue;\n",
       "        }\n",
       "        var button = $('<button/>');\n",
       "        button.addClass('ui-button ui-widget ui-state-default ui-corner-all ' +\n",
       "                        'ui-button-icon-only');\n",
       "        button.attr('role', 'button');\n",
       "        button.attr('aria-disabled', 'false');\n",
       "        button.click(method_name, toolbar_event);\n",
       "        button.mouseover(tooltip, toolbar_mouse_event);\n",
       "\n",
       "        var icon_img = $('<span/>');\n",
       "        icon_img.addClass('ui-button-icon-primary ui-icon');\n",
       "        icon_img.addClass(image);\n",
       "        icon_img.addClass('ui-corner-all');\n",
       "\n",
       "        var tooltip_span = $('<span/>');\n",
       "        tooltip_span.addClass('ui-button-text');\n",
       "        tooltip_span.html(tooltip);\n",
       "\n",
       "        button.append(icon_img);\n",
       "        button.append(tooltip_span);\n",
       "\n",
       "        nav_element.append(button);\n",
       "    }\n",
       "\n",
       "    var fmt_picker_span = $('<span/>');\n",
       "\n",
       "    var fmt_picker = $('<select/>');\n",
       "    fmt_picker.addClass('mpl-toolbar-option ui-widget ui-widget-content');\n",
       "    fmt_picker_span.append(fmt_picker);\n",
       "    nav_element.append(fmt_picker_span);\n",
       "    this.format_dropdown = fmt_picker[0];\n",
       "\n",
       "    for (var ind in mpl.extensions) {\n",
       "        var fmt = mpl.extensions[ind];\n",
       "        var option = $(\n",
       "            '<option/>', {selected: fmt === mpl.default_extension}).html(fmt);\n",
       "        fmt_picker.append(option)\n",
       "    }\n",
       "\n",
       "    // Add hover states to the ui-buttons\n",
       "    $( \".ui-button\" ).hover(\n",
       "        function() { $(this).addClass(\"ui-state-hover\");},\n",
       "        function() { $(this).removeClass(\"ui-state-hover\");}\n",
       "    );\n",
       "\n",
       "    var status_bar = $('<span class=\"mpl-message\"/>');\n",
       "    nav_element.append(status_bar);\n",
       "    this.message = status_bar[0];\n",
       "}\n",
       "\n",
       "mpl.figure.prototype.request_resize = function(x_pixels, y_pixels) {\n",
       "    // Request matplotlib to resize the figure. Matplotlib will then trigger a resize in the client,\n",
       "    // which will in turn request a refresh of the image.\n",
       "    this.send_message('resize', {'width': x_pixels, 'height': y_pixels});\n",
       "}\n",
       "\n",
       "mpl.figure.prototype.send_message = function(type, properties) {\n",
       "    properties['type'] = type;\n",
       "    properties['figure_id'] = this.id;\n",
       "    this.ws.send(JSON.stringify(properties));\n",
       "}\n",
       "\n",
       "mpl.figure.prototype.send_draw_message = function() {\n",
       "    if (!this.waiting) {\n",
       "        this.waiting = true;\n",
       "        this.ws.send(JSON.stringify({type: \"draw\", figure_id: this.id}));\n",
       "    }\n",
       "}\n",
       "\n",
       "\n",
       "mpl.figure.prototype.handle_save = function(fig, msg) {\n",
       "    var format_dropdown = fig.format_dropdown;\n",
       "    var format = format_dropdown.options[format_dropdown.selectedIndex].value;\n",
       "    fig.ondownload(fig, format);\n",
       "}\n",
       "\n",
       "\n",
       "mpl.figure.prototype.handle_resize = function(fig, msg) {\n",
       "    var size = msg['size'];\n",
       "    if (size[0] != fig.canvas.width || size[1] != fig.canvas.height) {\n",
       "        fig._resize_canvas(size[0], size[1]);\n",
       "        fig.send_message(\"refresh\", {});\n",
       "    };\n",
       "}\n",
       "\n",
       "mpl.figure.prototype.handle_rubberband = function(fig, msg) {\n",
       "    var x0 = msg['x0'];\n",
       "    var y0 = fig.canvas.height - msg['y0'];\n",
       "    var x1 = msg['x1'];\n",
       "    var y1 = fig.canvas.height - msg['y1'];\n",
       "    x0 = Math.floor(x0) + 0.5;\n",
       "    y0 = Math.floor(y0) + 0.5;\n",
       "    x1 = Math.floor(x1) + 0.5;\n",
       "    y1 = Math.floor(y1) + 0.5;\n",
       "    var min_x = Math.min(x0, x1);\n",
       "    var min_y = Math.min(y0, y1);\n",
       "    var width = Math.abs(x1 - x0);\n",
       "    var height = Math.abs(y1 - y0);\n",
       "\n",
       "    fig.rubberband_context.clearRect(\n",
       "        0, 0, fig.canvas.width, fig.canvas.height);\n",
       "\n",
       "    fig.rubberband_context.strokeRect(min_x, min_y, width, height);\n",
       "}\n",
       "\n",
       "mpl.figure.prototype.handle_figure_label = function(fig, msg) {\n",
       "    // Updates the figure title.\n",
       "    fig.header.textContent = msg['label'];\n",
       "}\n",
       "\n",
       "mpl.figure.prototype.handle_cursor = function(fig, msg) {\n",
       "    var cursor = msg['cursor'];\n",
       "    switch(cursor)\n",
       "    {\n",
       "    case 0:\n",
       "        cursor = 'pointer';\n",
       "        break;\n",
       "    case 1:\n",
       "        cursor = 'default';\n",
       "        break;\n",
       "    case 2:\n",
       "        cursor = 'crosshair';\n",
       "        break;\n",
       "    case 3:\n",
       "        cursor = 'move';\n",
       "        break;\n",
       "    }\n",
       "    fig.rubberband_canvas.style.cursor = cursor;\n",
       "}\n",
       "\n",
       "mpl.figure.prototype.handle_message = function(fig, msg) {\n",
       "    fig.message.textContent = msg['message'];\n",
       "}\n",
       "\n",
       "mpl.figure.prototype.handle_draw = function(fig, msg) {\n",
       "    // Request the server to send over a new figure.\n",
       "    fig.send_draw_message();\n",
       "}\n",
       "\n",
       "mpl.figure.prototype.handle_image_mode = function(fig, msg) {\n",
       "    fig.image_mode = msg['mode'];\n",
       "}\n",
       "\n",
       "mpl.figure.prototype.updated_canvas_event = function() {\n",
       "    // Called whenever the canvas gets updated.\n",
       "    this.send_message(\"ack\", {});\n",
       "}\n",
       "\n",
       "// A function to construct a web socket function for onmessage handling.\n",
       "// Called in the figure constructor.\n",
       "mpl.figure.prototype._make_on_message_function = function(fig) {\n",
       "    return function socket_on_message(evt) {\n",
       "        if (evt.data instanceof Blob) {\n",
       "            /* FIXME: We get \"Resource interpreted as Image but\n",
       "             * transferred with MIME type text/plain:\" errors on\n",
       "             * Chrome.  But how to set the MIME type?  It doesn't seem\n",
       "             * to be part of the websocket stream */\n",
       "            evt.data.type = \"image/png\";\n",
       "\n",
       "            /* Free the memory for the previous frames */\n",
       "            if (fig.imageObj.src) {\n",
       "                (window.URL || window.webkitURL).revokeObjectURL(\n",
       "                    fig.imageObj.src);\n",
       "            }\n",
       "\n",
       "            fig.imageObj.src = (window.URL || window.webkitURL).createObjectURL(\n",
       "                evt.data);\n",
       "            fig.updated_canvas_event();\n",
       "            fig.waiting = false;\n",
       "            return;\n",
       "        }\n",
       "        else if (typeof evt.data === 'string' && evt.data.slice(0, 21) == \"data:image/png;base64\") {\n",
       "            fig.imageObj.src = evt.data;\n",
       "            fig.updated_canvas_event();\n",
       "            fig.waiting = false;\n",
       "            return;\n",
       "        }\n",
       "\n",
       "        var msg = JSON.parse(evt.data);\n",
       "        var msg_type = msg['type'];\n",
       "\n",
       "        // Call the  \"handle_{type}\" callback, which takes\n",
       "        // the figure and JSON message as its only arguments.\n",
       "        try {\n",
       "            var callback = fig[\"handle_\" + msg_type];\n",
       "        } catch (e) {\n",
       "            console.log(\"No handler for the '\" + msg_type + \"' message type: \", msg);\n",
       "            return;\n",
       "        }\n",
       "\n",
       "        if (callback) {\n",
       "            try {\n",
       "                // console.log(\"Handling '\" + msg_type + \"' message: \", msg);\n",
       "                callback(fig, msg);\n",
       "            } catch (e) {\n",
       "                console.log(\"Exception inside the 'handler_\" + msg_type + \"' callback:\", e, e.stack, msg);\n",
       "            }\n",
       "        }\n",
       "    };\n",
       "}\n",
       "\n",
       "// from http://stackoverflow.com/questions/1114465/getting-mouse-location-in-canvas\n",
       "mpl.findpos = function(e) {\n",
       "    //this section is from http://www.quirksmode.org/js/events_properties.html\n",
       "    var targ;\n",
       "    if (!e)\n",
       "        e = window.event;\n",
       "    if (e.target)\n",
       "        targ = e.target;\n",
       "    else if (e.srcElement)\n",
       "        targ = e.srcElement;\n",
       "    if (targ.nodeType == 3) // defeat Safari bug\n",
       "        targ = targ.parentNode;\n",
       "\n",
       "    // jQuery normalizes the pageX and pageY\n",
       "    // pageX,Y are the mouse positions relative to the document\n",
       "    // offset() returns the position of the element relative to the document\n",
       "    var x = e.pageX - $(targ).offset().left;\n",
       "    var y = e.pageY - $(targ).offset().top;\n",
       "\n",
       "    return {\"x\": x, \"y\": y};\n",
       "};\n",
       "\n",
       "/*\n",
       " * return a copy of an object with only non-object keys\n",
       " * we need this to avoid circular references\n",
       " * http://stackoverflow.com/a/24161582/3208463\n",
       " */\n",
       "function simpleKeys (original) {\n",
       "  return Object.keys(original).reduce(function (obj, key) {\n",
       "    if (typeof original[key] !== 'object')\n",
       "        obj[key] = original[key]\n",
       "    return obj;\n",
       "  }, {});\n",
       "}\n",
       "\n",
       "mpl.figure.prototype.mouse_event = function(event, name) {\n",
       "    var canvas_pos = mpl.findpos(event)\n",
       "\n",
       "    if (name === 'button_press')\n",
       "    {\n",
       "        this.canvas.focus();\n",
       "        this.canvas_div.focus();\n",
       "    }\n",
       "\n",
       "    var x = canvas_pos.x;\n",
       "    var y = canvas_pos.y;\n",
       "\n",
       "    this.send_message(name, {x: x, y: y, button: event.button,\n",
       "                             step: event.step,\n",
       "                             guiEvent: simpleKeys(event)});\n",
       "\n",
       "    /* This prevents the web browser from automatically changing to\n",
       "     * the text insertion cursor when the button is pressed.  We want\n",
       "     * to control all of the cursor setting manually through the\n",
       "     * 'cursor' event from matplotlib */\n",
       "    event.preventDefault();\n",
       "    return false;\n",
       "}\n",
       "\n",
       "mpl.figure.prototype._key_event_extra = function(event, name) {\n",
       "    // Handle any extra behaviour associated with a key event\n",
       "}\n",
       "\n",
       "mpl.figure.prototype.key_event = function(event, name) {\n",
       "\n",
       "    // Prevent repeat events\n",
       "    if (name == 'key_press')\n",
       "    {\n",
       "        if (event.which === this._key)\n",
       "            return;\n",
       "        else\n",
       "            this._key = event.which;\n",
       "    }\n",
       "    if (name == 'key_release')\n",
       "        this._key = null;\n",
       "\n",
       "    var value = '';\n",
       "    if (event.ctrlKey && event.which != 17)\n",
       "        value += \"ctrl+\";\n",
       "    if (event.altKey && event.which != 18)\n",
       "        value += \"alt+\";\n",
       "    if (event.shiftKey && event.which != 16)\n",
       "        value += \"shift+\";\n",
       "\n",
       "    value += 'k';\n",
       "    value += event.which.toString();\n",
       "\n",
       "    this._key_event_extra(event, name);\n",
       "\n",
       "    this.send_message(name, {key: value,\n",
       "                             guiEvent: simpleKeys(event)});\n",
       "    return false;\n",
       "}\n",
       "\n",
       "mpl.figure.prototype.toolbar_button_onclick = function(name) {\n",
       "    if (name == 'download') {\n",
       "        this.handle_save(this, null);\n",
       "    } else {\n",
       "        this.send_message(\"toolbar_button\", {name: name});\n",
       "    }\n",
       "};\n",
       "\n",
       "mpl.figure.prototype.toolbar_button_onmouseover = function(tooltip) {\n",
       "    this.message.textContent = tooltip;\n",
       "};\n",
       "mpl.toolbar_items = [[\"Home\", \"Reset original view\", \"fa fa-home icon-home\", \"home\"], [\"Back\", \"Back to  previous view\", \"fa fa-arrow-left icon-arrow-left\", \"back\"], [\"Forward\", \"Forward to next view\", \"fa fa-arrow-right icon-arrow-right\", \"forward\"], [\"\", \"\", \"\", \"\"], [\"Pan\", \"Pan axes with left mouse, zoom with right\", \"fa fa-arrows icon-move\", \"pan\"], [\"Zoom\", \"Zoom to rectangle\", \"fa fa-square-o icon-check-empty\", \"zoom\"], [\"\", \"\", \"\", \"\"], [\"Download\", \"Download plot\", \"fa fa-floppy-o icon-save\", \"download\"]];\n",
       "\n",
       "mpl.extensions = [\"eps\", \"jpeg\", \"pdf\", \"png\", \"ps\", \"raw\", \"svg\", \"tif\"];\n",
       "\n",
       "mpl.default_extension = \"png\";var comm_websocket_adapter = function(comm) {\n",
       "    // Create a \"websocket\"-like object which calls the given IPython comm\n",
       "    // object with the appropriate methods. Currently this is a non binary\n",
       "    // socket, so there is still some room for performance tuning.\n",
       "    var ws = {};\n",
       "\n",
       "    ws.close = function() {\n",
       "        comm.close()\n",
       "    };\n",
       "    ws.send = function(m) {\n",
       "        //console.log('sending', m);\n",
       "        comm.send(m);\n",
       "    };\n",
       "    // Register the callback with on_msg.\n",
       "    comm.on_msg(function(msg) {\n",
       "        //console.log('receiving', msg['content']['data'], msg);\n",
       "        // Pass the mpl event to the overriden (by mpl) onmessage function.\n",
       "        ws.onmessage(msg['content']['data'])\n",
       "    });\n",
       "    return ws;\n",
       "}\n",
       "\n",
       "mpl.mpl_figure_comm = function(comm, msg) {\n",
       "    // This is the function which gets called when the mpl process\n",
       "    // starts-up an IPython Comm through the \"matplotlib\" channel.\n",
       "\n",
       "    var id = msg.content.data.id;\n",
       "    // Get hold of the div created by the display call when the Comm\n",
       "    // socket was opened in Python.\n",
       "    var element = $(\"#\" + id);\n",
       "    var ws_proxy = comm_websocket_adapter(comm)\n",
       "\n",
       "    function ondownload(figure, format) {\n",
       "        window.open(figure.imageObj.src);\n",
       "    }\n",
       "\n",
       "    var fig = new mpl.figure(id, ws_proxy,\n",
       "                           ondownload,\n",
       "                           element.get(0));\n",
       "\n",
       "    // Call onopen now - mpl needs it, as it is assuming we've passed it a real\n",
       "    // web socket which is closed, not our websocket->open comm proxy.\n",
       "    ws_proxy.onopen();\n",
       "\n",
       "    fig.parent_element = element.get(0);\n",
       "    fig.cell_info = mpl.find_output_cell(\"<div id='\" + id + \"'></div>\");\n",
       "    if (!fig.cell_info) {\n",
       "        console.error(\"Failed to find cell for figure\", id, fig);\n",
       "        return;\n",
       "    }\n",
       "\n",
       "    var output_index = fig.cell_info[2]\n",
       "    var cell = fig.cell_info[0];\n",
       "\n",
       "};\n",
       "\n",
       "mpl.figure.prototype.handle_close = function(fig, msg) {\n",
       "    fig.root.unbind('remove')\n",
       "\n",
       "    // Update the output cell to use the data from the current canvas.\n",
       "    fig.push_to_output();\n",
       "    var dataURL = fig.canvas.toDataURL();\n",
       "    // Re-enable the keyboard manager in IPython - without this line, in FF,\n",
       "    // the notebook keyboard shortcuts fail.\n",
       "    IPython.keyboard_manager.enable()\n",
       "    $(fig.parent_element).html('<img src=\"' + dataURL + '\">');\n",
       "    fig.close_ws(fig, msg);\n",
       "}\n",
       "\n",
       "mpl.figure.prototype.close_ws = function(fig, msg){\n",
       "    fig.send_message('closing', msg);\n",
       "    // fig.ws.close()\n",
       "}\n",
       "\n",
       "mpl.figure.prototype.push_to_output = function(remove_interactive) {\n",
       "    // Turn the data on the canvas into data in the output cell.\n",
       "    var dataURL = this.canvas.toDataURL();\n",
       "    this.cell_info[1]['text/html'] = '<img src=\"' + dataURL + '\">';\n",
       "}\n",
       "\n",
       "mpl.figure.prototype.updated_canvas_event = function() {\n",
       "    // Tell IPython that the notebook contents must change.\n",
       "    IPython.notebook.set_dirty(true);\n",
       "    this.send_message(\"ack\", {});\n",
       "    var fig = this;\n",
       "    // Wait a second, then push the new image to the DOM so\n",
       "    // that it is saved nicely (might be nice to debounce this).\n",
       "    setTimeout(function () { fig.push_to_output() }, 1000);\n",
       "}\n",
       "\n",
       "mpl.figure.prototype._init_toolbar = function() {\n",
       "    var fig = this;\n",
       "\n",
       "    var nav_element = $('<div/>')\n",
       "    nav_element.attr('style', 'width: 100%');\n",
       "    this.root.append(nav_element);\n",
       "\n",
       "    // Define a callback function for later on.\n",
       "    function toolbar_event(event) {\n",
       "        return fig.toolbar_button_onclick(event['data']);\n",
       "    }\n",
       "    function toolbar_mouse_event(event) {\n",
       "        return fig.toolbar_button_onmouseover(event['data']);\n",
       "    }\n",
       "\n",
       "    for(var toolbar_ind in mpl.toolbar_items){\n",
       "        var name = mpl.toolbar_items[toolbar_ind][0];\n",
       "        var tooltip = mpl.toolbar_items[toolbar_ind][1];\n",
       "        var image = mpl.toolbar_items[toolbar_ind][2];\n",
       "        var method_name = mpl.toolbar_items[toolbar_ind][3];\n",
       "\n",
       "        if (!name) { continue; };\n",
       "\n",
       "        var button = $('<button class=\"btn btn-default\" href=\"#\" title=\"' + name + '\"><i class=\"fa ' + image + ' fa-lg\"></i></button>');\n",
       "        button.click(method_name, toolbar_event);\n",
       "        button.mouseover(tooltip, toolbar_mouse_event);\n",
       "        nav_element.append(button);\n",
       "    }\n",
       "\n",
       "    // Add the status bar.\n",
       "    var status_bar = $('<span class=\"mpl-message\" style=\"text-align:right; float: right;\"/>');\n",
       "    nav_element.append(status_bar);\n",
       "    this.message = status_bar[0];\n",
       "\n",
       "    // Add the close button to the window.\n",
       "    var buttongrp = $('<div class=\"btn-group inline pull-right\"></div>');\n",
       "    var button = $('<button class=\"btn btn-mini btn-primary\" href=\"#\" title=\"Stop Interaction\"><i class=\"fa fa-power-off icon-remove icon-large\"></i></button>');\n",
       "    button.click(function (evt) { fig.handle_close(fig, {}); } );\n",
       "    button.mouseover('Stop Interaction', toolbar_mouse_event);\n",
       "    buttongrp.append(button);\n",
       "    var titlebar = this.root.find($('.ui-dialog-titlebar'));\n",
       "    titlebar.prepend(buttongrp);\n",
       "}\n",
       "\n",
       "mpl.figure.prototype._root_extra_style = function(el){\n",
       "    var fig = this\n",
       "    el.on(\"remove\", function(){\n",
       "\tfig.close_ws(fig, {});\n",
       "    });\n",
       "}\n",
       "\n",
       "mpl.figure.prototype._canvas_extra_style = function(el){\n",
       "    // this is important to make the div 'focusable\n",
       "    el.attr('tabindex', 0)\n",
       "    // reach out to IPython and tell the keyboard manager to turn it's self\n",
       "    // off when our div gets focus\n",
       "\n",
       "    // location in version 3\n",
       "    if (IPython.notebook.keyboard_manager) {\n",
       "        IPython.notebook.keyboard_manager.register_events(el);\n",
       "    }\n",
       "    else {\n",
       "        // location in version 2\n",
       "        IPython.keyboard_manager.register_events(el);\n",
       "    }\n",
       "\n",
       "}\n",
       "\n",
       "mpl.figure.prototype._key_event_extra = function(event, name) {\n",
       "    var manager = IPython.notebook.keyboard_manager;\n",
       "    if (!manager)\n",
       "        manager = IPython.keyboard_manager;\n",
       "\n",
       "    // Check for shift+enter\n",
       "    if (event.shiftKey && event.which == 13) {\n",
       "        this.canvas_div.blur();\n",
       "        // select the cell after this one\n",
       "        var index = IPython.notebook.find_cell_index(this.cell_info[0]);\n",
       "        IPython.notebook.select(index + 1);\n",
       "    }\n",
       "}\n",
       "\n",
       "mpl.figure.prototype.handle_save = function(fig, msg) {\n",
       "    fig.ondownload(fig, null);\n",
       "}\n",
       "\n",
       "\n",
       "mpl.find_output_cell = function(html_output) {\n",
       "    // Return the cell and output element which can be found *uniquely* in the notebook.\n",
       "    // Note - this is a bit hacky, but it is done because the \"notebook_saving.Notebook\"\n",
       "    // IPython event is triggered only after the cells have been serialised, which for\n",
       "    // our purposes (turning an active figure into a static one), is too late.\n",
       "    var cells = IPython.notebook.get_cells();\n",
       "    var ncells = cells.length;\n",
       "    for (var i=0; i<ncells; i++) {\n",
       "        var cell = cells[i];\n",
       "        if (cell.cell_type === 'code'){\n",
       "            for (var j=0; j<cell.output_area.outputs.length; j++) {\n",
       "                var data = cell.output_area.outputs[j];\n",
       "                if (data.data) {\n",
       "                    // IPython >= 3 moved mimebundle to data attribute of output\n",
       "                    data = data.data;\n",
       "                }\n",
       "                if (data['text/html'] == html_output) {\n",
       "                    return [cell, data, j];\n",
       "                }\n",
       "            }\n",
       "        }\n",
       "    }\n",
       "}\n",
       "\n",
       "// Register the function which deals with the matplotlib target/channel.\n",
       "// The kernel may be null if the page has been refreshed.\n",
       "if (IPython.notebook.kernel != null) {\n",
       "    IPython.notebook.kernel.comm_manager.register_target('matplotlib', mpl.mpl_figure_comm);\n",
       "}\n"
      ],
      "text/plain": [
       "<IPython.core.display.Javascript object>"
      ]
     },
     "metadata": {},
     "output_type": "display_data"
    },
    {
     "data": {
      "text/html": [
       "<img src=\"data:image/png;base64,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\">"
      ],
      "text/plain": [
       "<IPython.core.display.HTML object>"
      ]
     },
     "metadata": {},
     "output_type": "display_data"
    },
    {
     "data": {
      "text/plain": [
       "[<matplotlib.lines.Line2D at 0xb9b3cc0>]"
      ]
     },
     "execution_count": 45,
     "metadata": {},
     "output_type": "execute_result"
    }
   ],
   "source": [
    "plt.figure()\n",
    "plt.plot(data_datetime, 'x')"
   ]
  },
  {
   "cell_type": "markdown",
   "metadata": {},
   "source": [
    "# Delete data in the reservoir"
   ]
  },
  {
   "cell_type": "code",
   "execution_count": 36,
   "metadata": {
    "collapsed": true
   },
   "outputs": [],
   "source": [
    "client.delete(response['TimeSeriesId'])"
   ]
  },
  {
   "cell_type": "code",
   "execution_count": null,
   "metadata": {
    "collapsed": true
   },
   "outputs": [],
   "source": []
  }
 ],
 "metadata": {
  "anaconda-cloud": {},
  "kernelspec": {
   "display_name": "Python [default]",
   "language": "python",
   "name": "python2"
  },
  "language_info": {
   "codemirror_mode": {
    "name": "ipython",
    "version": 2
   },
   "file_extension": ".py",
   "mimetype": "text/x-python",
   "name": "python",
   "nbconvert_exporter": "python",
   "pygments_lexer": "ipython2",
   "version": "2.7.12"
  }
 },
 "nbformat": 4,
 "nbformat_minor": 1
}
