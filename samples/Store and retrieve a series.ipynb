{
 "cells": [
  {
   "cell_type": "code",
   "execution_count": 1,
   "metadata": {
    "collapsed": false
   },
   "outputs": [],
   "source": [
    "import numpy as np\n",
    "import pandas as pd\n",
    "import matplotlib.pyplot as plt\n",
    "import matplotlib as mpl\n",
    "\n",
    "%matplotlib notebook\n",
    "mpl.style.use(r'\\\\fil-ask-004\\python\\mplstyle\\4subsea.mplstyle')"
   ]
  },
  {
   "cell_type": "code",
   "execution_count": 2,
   "metadata": {
    "collapsed": true
   },
   "outputs": [],
   "source": [
    "import timeseriesclient as tsc"
   ]
  },
  {
   "cell_type": "code",
   "execution_count": 3,
   "metadata": {
    "collapsed": true
   },
   "outputs": [],
   "source": [
    "tsc.globalsettings.environment.set_test()  # Work with test environment"
   ]
  },
  {
   "cell_type": "markdown",
   "metadata": {},
   "source": [
    "# Create series data\n",
    "The `timeseriesclient` work with Pandas Dataframe and Series object. Let's create a dummy series. "
   ]
  },
  {
   "cell_type": "code",
   "execution_count": 4,
   "metadata": {
    "collapsed": false
   },
   "outputs": [],
   "source": [
    "index = pd.date_range('2016-01-03 00:00:00', freq='min', periods=100)\n",
    "df_dummy = pd.DataFrame({'temp': 20. + np.random.randn(100)}, index=index)"
   ]
  },
  {
   "cell_type": "code",
   "execution_count": 5,
   "metadata": {
    "collapsed": false
   },
   "outputs": [
    {
     "data": {
      "text/html": [
       "<div>\n",
       "<table border=\"1\" class=\"dataframe\">\n",
       "  <thead>\n",
       "    <tr style=\"text-align: right;\">\n",
       "      <th></th>\n",
       "      <th>temp</th>\n",
       "    </tr>\n",
       "  </thead>\n",
       "  <tbody>\n",
       "    <tr>\n",
       "      <th>2016-01-03 00:00:00</th>\n",
       "      <td>20.541108</td>\n",
       "    </tr>\n",
       "    <tr>\n",
       "      <th>2016-01-03 00:01:00</th>\n",
       "      <td>19.654093</td>\n",
       "    </tr>\n",
       "    <tr>\n",
       "      <th>2016-01-03 00:02:00</th>\n",
       "      <td>20.965756</td>\n",
       "    </tr>\n",
       "    <tr>\n",
       "      <th>2016-01-03 00:03:00</th>\n",
       "      <td>18.488304</td>\n",
       "    </tr>\n",
       "    <tr>\n",
       "      <th>2016-01-03 00:04:00</th>\n",
       "      <td>17.443641</td>\n",
       "    </tr>\n",
       "  </tbody>\n",
       "</table>\n",
       "</div>"
      ],
      "text/plain": [
       "                          temp\n",
       "2016-01-03 00:00:00  20.541108\n",
       "2016-01-03 00:01:00  19.654093\n",
       "2016-01-03 00:02:00  20.965756\n",
       "2016-01-03 00:03:00  18.488304\n",
       "2016-01-03 00:04:00  17.443641"
      ]
     },
     "execution_count": 5,
     "metadata": {},
     "output_type": "execute_result"
    }
   ],
   "source": [
    "df_dummy.head()"
   ]
  },
  {
   "cell_type": "markdown",
   "metadata": {},
   "source": [
    "# Upload to the reservoir"
   ]
  },
  {
   "cell_type": "markdown",
   "metadata": {},
   "source": [
    "First, authenticate yourself towards the reservoir."
   ]
  },
  {
   "cell_type": "code",
   "execution_count": 6,
   "metadata": {
    "collapsed": false
   },
   "outputs": [
    {
     "name": "stdout",
     "output_type": "stream",
     "text": [
      "Password: ········\n"
     ]
    }
   ],
   "source": [
    "auth_key = tsc.Authenticator('reservoir-integrationtest@4subsea.com')"
   ]
  },
  {
   "cell_type": "markdown",
   "metadata": {},
   "source": [
    "Then initiate a client and use the authentication key."
   ]
  },
  {
   "cell_type": "code",
   "execution_count": 7,
   "metadata": {
    "collapsed": true
   },
   "outputs": [],
   "source": [
    "client = tsc.TimeSeriesClient(auth_key)"
   ]
  },
  {
   "cell_type": "markdown",
   "metadata": {},
   "source": [
    "Upload the DataFrame and store the response from the reservoir."
   ]
  },
  {
   "cell_type": "code",
   "execution_count": 8,
   "metadata": {
    "collapsed": true
   },
   "outputs": [],
   "source": [
    "response = client.create(df_dummy)"
   ]
  },
  {
   "cell_type": "code",
   "execution_count": 9,
   "metadata": {
    "collapsed": false
   },
   "outputs": [
    {
     "data": {
      "text/plain": [
       "{u'FileId': u'299a9994-7e6e-4aeb-9420-efabeb9aaeaf',\n",
       " u'TimeOfFirstSample': 1451779200000000000L,\n",
       " u'TimeOfLastSample': 1451785140000000000L,\n",
       " u'TimeSeriesId': u'14783f40-ad25-4bba-b88c-0821a6380938'}"
      ]
     },
     "execution_count": 9,
     "metadata": {},
     "output_type": "execute_result"
    }
   ],
   "source": [
    "response"
   ]
  },
  {
   "cell_type": "markdown",
   "metadata": {},
   "source": [
    "The reservoir assigns a unique id - TimeSeriesId. This id can be used to make requests towards the reservoir."
   ]
  },
  {
   "cell_type": "markdown",
   "metadata": {},
   "source": [
    "# Series information"
   ]
  },
  {
   "cell_type": "markdown",
   "metadata": {},
   "source": [
    "Lets ask the reservoir about the newly created series data."
   ]
  },
  {
   "cell_type": "code",
   "execution_count": 10,
   "metadata": {
    "collapsed": true
   },
   "outputs": [],
   "source": [
    "info = client.info(response['TimeSeriesId'])"
   ]
  },
  {
   "cell_type": "code",
   "execution_count": 11,
   "metadata": {
    "collapsed": false
   },
   "outputs": [
    {
     "data": {
      "text/plain": [
       "{u'Created': u'2017-01-27T08:43:10.2682153+00:00',\n",
       " u'CreatedByEmail': u'reservoir-integrationtest@4subsea.com',\n",
       " u'LastModified': u'2017-01-27T08:43:10.2682153+00:00',\n",
       " u'LastModifiedByEmail': u'reservoir-integrationtest@4subsea.com',\n",
       " u'Metadata': [],\n",
       " u'TimeOfFirstSample': 1451779200000000000L,\n",
       " u'TimeOfLastSample': 1451785140000000000L,\n",
       " u'TimeSeriesId': u'14783f40-ad25-4bba-b88c-0821a6380938'}"
      ]
     },
     "execution_count": 11,
     "metadata": {},
     "output_type": "execute_result"
    }
   ],
   "source": [
    "info"
   ]
  },
  {
   "cell_type": "markdown",
   "metadata": {},
   "source": [
    "Note that the `TimeOfFirstSample` and `TimeOfLastSample` is stored as nanoseconds since POSIX epoch."
   ]
  },
  {
   "cell_type": "markdown",
   "metadata": {},
   "source": [
    "# Append more data"
   ]
  },
  {
   "cell_type": "markdown",
   "metadata": {},
   "source": [
    "You can always append more data to the same timeseries entry. The data may even overlap, which in that case the most recent entry overwrites."
   ]
  },
  {
   "cell_type": "code",
   "execution_count": 12,
   "metadata": {
    "collapsed": true
   },
   "outputs": [],
   "source": [
    "index = pd.date_range('2016-01-03 00:00:50', freq='min', periods=100)\n",
    "df_dummy_append = pd.DataFrame({'temp': 23. + np.random.randn(100)}, index=index)"
   ]
  },
  {
   "cell_type": "code",
   "execution_count": 13,
   "metadata": {
    "collapsed": false
   },
   "outputs": [
    {
     "data": {
      "text/plain": [
       "{u'FileId': u'66314a2a-4866-49b3-8dbe-11035192eefa',\n",
       " u'TimeOfFirstSample': 1451779250000000000L,\n",
       " u'TimeOfLastSample': 1451785190000000000L,\n",
       " u'TimeSeriesId': u'14783f40-ad25-4bba-b88c-0821a6380938'}"
      ]
     },
     "execution_count": 13,
     "metadata": {},
     "output_type": "execute_result"
    }
   ],
   "source": [
    "client.append(df_dummy_append, response['TimeSeriesId'])"
   ]
  },
  {
   "cell_type": "markdown",
   "metadata": {},
   "source": [
    "# Retrieve data back from the reservoir\n",
    "You can download data from the reservoir. Data is presented as Pandas Series object. The index is by default kept as integers."
   ]
  },
  {
   "cell_type": "code",
   "execution_count": 14,
   "metadata": {
    "collapsed": true
   },
   "outputs": [],
   "source": [
    "data = client.get(response['TimeSeriesId'])"
   ]
  },
  {
   "cell_type": "code",
   "execution_count": 15,
   "metadata": {
    "collapsed": false
   },
   "outputs": [
    {
     "data": {
      "text/plain": [
       "time\n",
       "1451779200000000000    20.541108\n",
       "1451779250000000000    23.338003\n",
       "1451779310000000000    21.624493\n",
       "1451779370000000000    22.588542\n",
       "1451779430000000000    22.732879\n",
       "Name: values, dtype: float64"
      ]
     },
     "execution_count": 15,
     "metadata": {},
     "output_type": "execute_result"
    }
   ],
   "source": [
    "data.head()"
   ]
  },
  {
   "cell_type": "markdown",
   "metadata": {},
   "source": [
    "But the index can be converted to date-time if desired."
   ]
  },
  {
   "cell_type": "code",
   "execution_count": 16,
   "metadata": {
    "collapsed": true
   },
   "outputs": [],
   "source": [
    "data_datetime = client.get(response['TimeSeriesId'], convert_date=True)"
   ]
  },
  {
   "cell_type": "code",
   "execution_count": 17,
   "metadata": {
    "collapsed": false
   },
   "outputs": [
    {
     "data": {
      "text/plain": [
       "time\n",
       "2016-01-03 00:00:00    20.541108\n",
       "2016-01-03 00:00:50    23.338003\n",
       "2016-01-03 00:01:50    21.624493\n",
       "2016-01-03 00:02:50    22.588542\n",
       "2016-01-03 00:03:50    22.732879\n",
       "Name: values, dtype: float64"
      ]
     },
     "execution_count": 17,
     "metadata": {},
     "output_type": "execute_result"
    }
   ],
   "source": [
    "data_datetime.head()"
   ]
  },
  {
   "cell_type": "markdown",
   "metadata": {},
   "source": [
    "## Work with data"
   ]
  },
  {
   "cell_type": "code",
   "execution_count": 21,
   "metadata": {
    "collapsed": false
   },
   "outputs": [
    {
     "data": {
      "application/javascript": [
       "/* Put everything inside the global mpl namespace */\n",
       "window.mpl = {};\n",
       "\n",
       "mpl.get_websocket_type = function() {\n",
       "    if (typeof(WebSocket) !== 'undefined') {\n",
       "        return WebSocket;\n",
       "    } else if (typeof(MozWebSocket) !== 'undefined') {\n",
       "        return MozWebSocket;\n",
       "    } else {\n",
       "        alert('Your browser does not have WebSocket support.' +\n",
       "              'Please try Chrome, Safari or Firefox ≥ 6. ' +\n",
       "              'Firefox 4 and 5 are also supported but you ' +\n",
       "              'have to enable WebSockets in about:config.');\n",
       "    };\n",
       "}\n",
       "\n",
       "mpl.figure = function(figure_id, websocket, ondownload, parent_element) {\n",
       "    this.id = figure_id;\n",
       "\n",
       "    this.ws = websocket;\n",
       "\n",
       "    this.supports_binary = (this.ws.binaryType != undefined);\n",
       "\n",
       "    if (!this.supports_binary) {\n",
       "        var warnings = document.getElementById(\"mpl-warnings\");\n",
       "        if (warnings) {\n",
       "            warnings.style.display = 'block';\n",
       "            warnings.textContent = (\n",
       "                \"This browser does not support binary websocket messages. \" +\n",
       "                    \"Performance may be slow.\");\n",
       "        }\n",
       "    }\n",
       "\n",
       "    this.imageObj = new Image();\n",
       "\n",
       "    this.context = undefined;\n",
       "    this.message = undefined;\n",
       "    this.canvas = undefined;\n",
       "    this.rubberband_canvas = undefined;\n",
       "    this.rubberband_context = undefined;\n",
       "    this.format_dropdown = undefined;\n",
       "\n",
       "    this.image_mode = 'full';\n",
       "\n",
       "    this.root = $('<div/>');\n",
       "    this._root_extra_style(this.root)\n",
       "    this.root.attr('style', 'display: inline-block');\n",
       "\n",
       "    $(parent_element).append(this.root);\n",
       "\n",
       "    this._init_header(this);\n",
       "    this._init_canvas(this);\n",
       "    this._init_toolbar(this);\n",
       "\n",
       "    var fig = this;\n",
       "\n",
       "    this.waiting = false;\n",
       "\n",
       "    this.ws.onopen =  function () {\n",
       "            fig.send_message(\"supports_binary\", {value: fig.supports_binary});\n",
       "            fig.send_message(\"send_image_mode\", {});\n",
       "            fig.send_message(\"refresh\", {});\n",
       "        }\n",
       "\n",
       "    this.imageObj.onload = function() {\n",
       "            if (fig.image_mode == 'full') {\n",
       "                // Full images could contain transparency (where diff images\n",
       "                // almost always do), so we need to clear the canvas so that\n",
       "                // there is no ghosting.\n",
       "                fig.context.clearRect(0, 0, fig.canvas.width, fig.canvas.height);\n",
       "            }\n",
       "            fig.context.drawImage(fig.imageObj, 0, 0);\n",
       "        };\n",
       "\n",
       "    this.imageObj.onunload = function() {\n",
       "        this.ws.close();\n",
       "    }\n",
       "\n",
       "    this.ws.onmessage = this._make_on_message_function(this);\n",
       "\n",
       "    this.ondownload = ondownload;\n",
       "}\n",
       "\n",
       "mpl.figure.prototype._init_header = function() {\n",
       "    var titlebar = $(\n",
       "        '<div class=\"ui-dialog-titlebar ui-widget-header ui-corner-all ' +\n",
       "        'ui-helper-clearfix\"/>');\n",
       "    var titletext = $(\n",
       "        '<div class=\"ui-dialog-title\" style=\"width: 100%; ' +\n",
       "        'text-align: center; padding: 3px;\"/>');\n",
       "    titlebar.append(titletext)\n",
       "    this.root.append(titlebar);\n",
       "    this.header = titletext[0];\n",
       "}\n",
       "\n",
       "\n",
       "\n",
       "mpl.figure.prototype._canvas_extra_style = function(canvas_div) {\n",
       "\n",
       "}\n",
       "\n",
       "\n",
       "mpl.figure.prototype._root_extra_style = function(canvas_div) {\n",
       "\n",
       "}\n",
       "\n",
       "mpl.figure.prototype._init_canvas = function() {\n",
       "    var fig = this;\n",
       "\n",
       "    var canvas_div = $('<div/>');\n",
       "\n",
       "    canvas_div.attr('style', 'position: relative; clear: both; outline: 0');\n",
       "\n",
       "    function canvas_keyboard_event(event) {\n",
       "        return fig.key_event(event, event['data']);\n",
       "    }\n",
       "\n",
       "    canvas_div.keydown('key_press', canvas_keyboard_event);\n",
       "    canvas_div.keyup('key_release', canvas_keyboard_event);\n",
       "    this.canvas_div = canvas_div\n",
       "    this._canvas_extra_style(canvas_div)\n",
       "    this.root.append(canvas_div);\n",
       "\n",
       "    var canvas = $('<canvas/>');\n",
       "    canvas.addClass('mpl-canvas');\n",
       "    canvas.attr('style', \"left: 0; top: 0; z-index: 0; outline: 0\")\n",
       "\n",
       "    this.canvas = canvas[0];\n",
       "    this.context = canvas[0].getContext(\"2d\");\n",
       "\n",
       "    var rubberband = $('<canvas/>');\n",
       "    rubberband.attr('style', \"position: absolute; left: 0; top: 0; z-index: 1;\")\n",
       "\n",
       "    var pass_mouse_events = true;\n",
       "\n",
       "    canvas_div.resizable({\n",
       "        start: function(event, ui) {\n",
       "            pass_mouse_events = false;\n",
       "        },\n",
       "        resize: function(event, ui) {\n",
       "            fig.request_resize(ui.size.width, ui.size.height);\n",
       "        },\n",
       "        stop: function(event, ui) {\n",
       "            pass_mouse_events = true;\n",
       "            fig.request_resize(ui.size.width, ui.size.height);\n",
       "        },\n",
       "    });\n",
       "\n",
       "    function mouse_event_fn(event) {\n",
       "        if (pass_mouse_events)\n",
       "            return fig.mouse_event(event, event['data']);\n",
       "    }\n",
       "\n",
       "    rubberband.mousedown('button_press', mouse_event_fn);\n",
       "    rubberband.mouseup('button_release', mouse_event_fn);\n",
       "    // Throttle sequential mouse events to 1 every 20ms.\n",
       "    rubberband.mousemove('motion_notify', mouse_event_fn);\n",
       "\n",
       "    rubberband.mouseenter('figure_enter', mouse_event_fn);\n",
       "    rubberband.mouseleave('figure_leave', mouse_event_fn);\n",
       "\n",
       "    canvas_div.on(\"wheel\", function (event) {\n",
       "        event = event.originalEvent;\n",
       "        event['data'] = 'scroll'\n",
       "        if (event.deltaY < 0) {\n",
       "            event.step = 1;\n",
       "        } else {\n",
       "            event.step = -1;\n",
       "        }\n",
       "        mouse_event_fn(event);\n",
       "    });\n",
       "\n",
       "    canvas_div.append(canvas);\n",
       "    canvas_div.append(rubberband);\n",
       "\n",
       "    this.rubberband = rubberband;\n",
       "    this.rubberband_canvas = rubberband[0];\n",
       "    this.rubberband_context = rubberband[0].getContext(\"2d\");\n",
       "    this.rubberband_context.strokeStyle = \"#000000\";\n",
       "\n",
       "    this._resize_canvas = function(width, height) {\n",
       "        // Keep the size of the canvas, canvas container, and rubber band\n",
       "        // canvas in synch.\n",
       "        canvas_div.css('width', width)\n",
       "        canvas_div.css('height', height)\n",
       "\n",
       "        canvas.attr('width', width);\n",
       "        canvas.attr('height', height);\n",
       "\n",
       "        rubberband.attr('width', width);\n",
       "        rubberband.attr('height', height);\n",
       "    }\n",
       "\n",
       "    // Set the figure to an initial 600x600px, this will subsequently be updated\n",
       "    // upon first draw.\n",
       "    this._resize_canvas(600, 600);\n",
       "\n",
       "    // Disable right mouse context menu.\n",
       "    $(this.rubberband_canvas).bind(\"contextmenu\",function(e){\n",
       "        return false;\n",
       "    });\n",
       "\n",
       "    function set_focus () {\n",
       "        canvas.focus();\n",
       "        canvas_div.focus();\n",
       "    }\n",
       "\n",
       "    window.setTimeout(set_focus, 100);\n",
       "}\n",
       "\n",
       "mpl.figure.prototype._init_toolbar = function() {\n",
       "    var fig = this;\n",
       "\n",
       "    var nav_element = $('<div/>')\n",
       "    nav_element.attr('style', 'width: 100%');\n",
       "    this.root.append(nav_element);\n",
       "\n",
       "    // Define a callback function for later on.\n",
       "    function toolbar_event(event) {\n",
       "        return fig.toolbar_button_onclick(event['data']);\n",
       "    }\n",
       "    function toolbar_mouse_event(event) {\n",
       "        return fig.toolbar_button_onmouseover(event['data']);\n",
       "    }\n",
       "\n",
       "    for(var toolbar_ind in mpl.toolbar_items) {\n",
       "        var name = mpl.toolbar_items[toolbar_ind][0];\n",
       "        var tooltip = mpl.toolbar_items[toolbar_ind][1];\n",
       "        var image = mpl.toolbar_items[toolbar_ind][2];\n",
       "        var method_name = mpl.toolbar_items[toolbar_ind][3];\n",
       "\n",
       "        if (!name) {\n",
       "            // put a spacer in here.\n",
       "            continue;\n",
       "        }\n",
       "        var button = $('<button/>');\n",
       "        button.addClass('ui-button ui-widget ui-state-default ui-corner-all ' +\n",
       "                        'ui-button-icon-only');\n",
       "        button.attr('role', 'button');\n",
       "        button.attr('aria-disabled', 'false');\n",
       "        button.click(method_name, toolbar_event);\n",
       "        button.mouseover(tooltip, toolbar_mouse_event);\n",
       "\n",
       "        var icon_img = $('<span/>');\n",
       "        icon_img.addClass('ui-button-icon-primary ui-icon');\n",
       "        icon_img.addClass(image);\n",
       "        icon_img.addClass('ui-corner-all');\n",
       "\n",
       "        var tooltip_span = $('<span/>');\n",
       "        tooltip_span.addClass('ui-button-text');\n",
       "        tooltip_span.html(tooltip);\n",
       "\n",
       "        button.append(icon_img);\n",
       "        button.append(tooltip_span);\n",
       "\n",
       "        nav_element.append(button);\n",
       "    }\n",
       "\n",
       "    var fmt_picker_span = $('<span/>');\n",
       "\n",
       "    var fmt_picker = $('<select/>');\n",
       "    fmt_picker.addClass('mpl-toolbar-option ui-widget ui-widget-content');\n",
       "    fmt_picker_span.append(fmt_picker);\n",
       "    nav_element.append(fmt_picker_span);\n",
       "    this.format_dropdown = fmt_picker[0];\n",
       "\n",
       "    for (var ind in mpl.extensions) {\n",
       "        var fmt = mpl.extensions[ind];\n",
       "        var option = $(\n",
       "            '<option/>', {selected: fmt === mpl.default_extension}).html(fmt);\n",
       "        fmt_picker.append(option)\n",
       "    }\n",
       "\n",
       "    // Add hover states to the ui-buttons\n",
       "    $( \".ui-button\" ).hover(\n",
       "        function() { $(this).addClass(\"ui-state-hover\");},\n",
       "        function() { $(this).removeClass(\"ui-state-hover\");}\n",
       "    );\n",
       "\n",
       "    var status_bar = $('<span class=\"mpl-message\"/>');\n",
       "    nav_element.append(status_bar);\n",
       "    this.message = status_bar[0];\n",
       "}\n",
       "\n",
       "mpl.figure.prototype.request_resize = function(x_pixels, y_pixels) {\n",
       "    // Request matplotlib to resize the figure. Matplotlib will then trigger a resize in the client,\n",
       "    // which will in turn request a refresh of the image.\n",
       "    this.send_message('resize', {'width': x_pixels, 'height': y_pixels});\n",
       "}\n",
       "\n",
       "mpl.figure.prototype.send_message = function(type, properties) {\n",
       "    properties['type'] = type;\n",
       "    properties['figure_id'] = this.id;\n",
       "    this.ws.send(JSON.stringify(properties));\n",
       "}\n",
       "\n",
       "mpl.figure.prototype.send_draw_message = function() {\n",
       "    if (!this.waiting) {\n",
       "        this.waiting = true;\n",
       "        this.ws.send(JSON.stringify({type: \"draw\", figure_id: this.id}));\n",
       "    }\n",
       "}\n",
       "\n",
       "\n",
       "mpl.figure.prototype.handle_save = function(fig, msg) {\n",
       "    var format_dropdown = fig.format_dropdown;\n",
       "    var format = format_dropdown.options[format_dropdown.selectedIndex].value;\n",
       "    fig.ondownload(fig, format);\n",
       "}\n",
       "\n",
       "\n",
       "mpl.figure.prototype.handle_resize = function(fig, msg) {\n",
       "    var size = msg['size'];\n",
       "    if (size[0] != fig.canvas.width || size[1] != fig.canvas.height) {\n",
       "        fig._resize_canvas(size[0], size[1]);\n",
       "        fig.send_message(\"refresh\", {});\n",
       "    };\n",
       "}\n",
       "\n",
       "mpl.figure.prototype.handle_rubberband = function(fig, msg) {\n",
       "    var x0 = msg['x0'];\n",
       "    var y0 = fig.canvas.height - msg['y0'];\n",
       "    var x1 = msg['x1'];\n",
       "    var y1 = fig.canvas.height - msg['y1'];\n",
       "    x0 = Math.floor(x0) + 0.5;\n",
       "    y0 = Math.floor(y0) + 0.5;\n",
       "    x1 = Math.floor(x1) + 0.5;\n",
       "    y1 = Math.floor(y1) + 0.5;\n",
       "    var min_x = Math.min(x0, x1);\n",
       "    var min_y = Math.min(y0, y1);\n",
       "    var width = Math.abs(x1 - x0);\n",
       "    var height = Math.abs(y1 - y0);\n",
       "\n",
       "    fig.rubberband_context.clearRect(\n",
       "        0, 0, fig.canvas.width, fig.canvas.height);\n",
       "\n",
       "    fig.rubberband_context.strokeRect(min_x, min_y, width, height);\n",
       "}\n",
       "\n",
       "mpl.figure.prototype.handle_figure_label = function(fig, msg) {\n",
       "    // Updates the figure title.\n",
       "    fig.header.textContent = msg['label'];\n",
       "}\n",
       "\n",
       "mpl.figure.prototype.handle_cursor = function(fig, msg) {\n",
       "    var cursor = msg['cursor'];\n",
       "    switch(cursor)\n",
       "    {\n",
       "    case 0:\n",
       "        cursor = 'pointer';\n",
       "        break;\n",
       "    case 1:\n",
       "        cursor = 'default';\n",
       "        break;\n",
       "    case 2:\n",
       "        cursor = 'crosshair';\n",
       "        break;\n",
       "    case 3:\n",
       "        cursor = 'move';\n",
       "        break;\n",
       "    }\n",
       "    fig.rubberband_canvas.style.cursor = cursor;\n",
       "}\n",
       "\n",
       "mpl.figure.prototype.handle_message = function(fig, msg) {\n",
       "    fig.message.textContent = msg['message'];\n",
       "}\n",
       "\n",
       "mpl.figure.prototype.handle_draw = function(fig, msg) {\n",
       "    // Request the server to send over a new figure.\n",
       "    fig.send_draw_message();\n",
       "}\n",
       "\n",
       "mpl.figure.prototype.handle_image_mode = function(fig, msg) {\n",
       "    fig.image_mode = msg['mode'];\n",
       "}\n",
       "\n",
       "mpl.figure.prototype.updated_canvas_event = function() {\n",
       "    // Called whenever the canvas gets updated.\n",
       "    this.send_message(\"ack\", {});\n",
       "}\n",
       "\n",
       "// A function to construct a web socket function for onmessage handling.\n",
       "// Called in the figure constructor.\n",
       "mpl.figure.prototype._make_on_message_function = function(fig) {\n",
       "    return function socket_on_message(evt) {\n",
       "        if (evt.data instanceof Blob) {\n",
       "            /* FIXME: We get \"Resource interpreted as Image but\n",
       "             * transferred with MIME type text/plain:\" errors on\n",
       "             * Chrome.  But how to set the MIME type?  It doesn't seem\n",
       "             * to be part of the websocket stream */\n",
       "            evt.data.type = \"image/png\";\n",
       "\n",
       "            /* Free the memory for the previous frames */\n",
       "            if (fig.imageObj.src) {\n",
       "                (window.URL || window.webkitURL).revokeObjectURL(\n",
       "                    fig.imageObj.src);\n",
       "            }\n",
       "\n",
       "            fig.imageObj.src = (window.URL || window.webkitURL).createObjectURL(\n",
       "                evt.data);\n",
       "            fig.updated_canvas_event();\n",
       "            fig.waiting = false;\n",
       "            return;\n",
       "        }\n",
       "        else if (typeof evt.data === 'string' && evt.data.slice(0, 21) == \"data:image/png;base64\") {\n",
       "            fig.imageObj.src = evt.data;\n",
       "            fig.updated_canvas_event();\n",
       "            fig.waiting = false;\n",
       "            return;\n",
       "        }\n",
       "\n",
       "        var msg = JSON.parse(evt.data);\n",
       "        var msg_type = msg['type'];\n",
       "\n",
       "        // Call the  \"handle_{type}\" callback, which takes\n",
       "        // the figure and JSON message as its only arguments.\n",
       "        try {\n",
       "            var callback = fig[\"handle_\" + msg_type];\n",
       "        } catch (e) {\n",
       "            console.log(\"No handler for the '\" + msg_type + \"' message type: \", msg);\n",
       "            return;\n",
       "        }\n",
       "\n",
       "        if (callback) {\n",
       "            try {\n",
       "                // console.log(\"Handling '\" + msg_type + \"' message: \", msg);\n",
       "                callback(fig, msg);\n",
       "            } catch (e) {\n",
       "                console.log(\"Exception inside the 'handler_\" + msg_type + \"' callback:\", e, e.stack, msg);\n",
       "            }\n",
       "        }\n",
       "    };\n",
       "}\n",
       "\n",
       "// from http://stackoverflow.com/questions/1114465/getting-mouse-location-in-canvas\n",
       "mpl.findpos = function(e) {\n",
       "    //this section is from http://www.quirksmode.org/js/events_properties.html\n",
       "    var targ;\n",
       "    if (!e)\n",
       "        e = window.event;\n",
       "    if (e.target)\n",
       "        targ = e.target;\n",
       "    else if (e.srcElement)\n",
       "        targ = e.srcElement;\n",
       "    if (targ.nodeType == 3) // defeat Safari bug\n",
       "        targ = targ.parentNode;\n",
       "\n",
       "    // jQuery normalizes the pageX and pageY\n",
       "    // pageX,Y are the mouse positions relative to the document\n",
       "    // offset() returns the position of the element relative to the document\n",
       "    var x = e.pageX - $(targ).offset().left;\n",
       "    var y = e.pageY - $(targ).offset().top;\n",
       "\n",
       "    return {\"x\": x, \"y\": y};\n",
       "};\n",
       "\n",
       "/*\n",
       " * return a copy of an object with only non-object keys\n",
       " * we need this to avoid circular references\n",
       " * http://stackoverflow.com/a/24161582/3208463\n",
       " */\n",
       "function simpleKeys (original) {\n",
       "  return Object.keys(original).reduce(function (obj, key) {\n",
       "    if (typeof original[key] !== 'object')\n",
       "        obj[key] = original[key]\n",
       "    return obj;\n",
       "  }, {});\n",
       "}\n",
       "\n",
       "mpl.figure.prototype.mouse_event = function(event, name) {\n",
       "    var canvas_pos = mpl.findpos(event)\n",
       "\n",
       "    if (name === 'button_press')\n",
       "    {\n",
       "        this.canvas.focus();\n",
       "        this.canvas_div.focus();\n",
       "    }\n",
       "\n",
       "    var x = canvas_pos.x;\n",
       "    var y = canvas_pos.y;\n",
       "\n",
       "    this.send_message(name, {x: x, y: y, button: event.button,\n",
       "                             step: event.step,\n",
       "                             guiEvent: simpleKeys(event)});\n",
       "\n",
       "    /* This prevents the web browser from automatically changing to\n",
       "     * the text insertion cursor when the button is pressed.  We want\n",
       "     * to control all of the cursor setting manually through the\n",
       "     * 'cursor' event from matplotlib */\n",
       "    event.preventDefault();\n",
       "    return false;\n",
       "}\n",
       "\n",
       "mpl.figure.prototype._key_event_extra = function(event, name) {\n",
       "    // Handle any extra behaviour associated with a key event\n",
       "}\n",
       "\n",
       "mpl.figure.prototype.key_event = function(event, name) {\n",
       "\n",
       "    // Prevent repeat events\n",
       "    if (name == 'key_press')\n",
       "    {\n",
       "        if (event.which === this._key)\n",
       "            return;\n",
       "        else\n",
       "            this._key = event.which;\n",
       "    }\n",
       "    if (name == 'key_release')\n",
       "        this._key = null;\n",
       "\n",
       "    var value = '';\n",
       "    if (event.ctrlKey && event.which != 17)\n",
       "        value += \"ctrl+\";\n",
       "    if (event.altKey && event.which != 18)\n",
       "        value += \"alt+\";\n",
       "    if (event.shiftKey && event.which != 16)\n",
       "        value += \"shift+\";\n",
       "\n",
       "    value += 'k';\n",
       "    value += event.which.toString();\n",
       "\n",
       "    this._key_event_extra(event, name);\n",
       "\n",
       "    this.send_message(name, {key: value,\n",
       "                             guiEvent: simpleKeys(event)});\n",
       "    return false;\n",
       "}\n",
       "\n",
       "mpl.figure.prototype.toolbar_button_onclick = function(name) {\n",
       "    if (name == 'download') {\n",
       "        this.handle_save(this, null);\n",
       "    } else {\n",
       "        this.send_message(\"toolbar_button\", {name: name});\n",
       "    }\n",
       "};\n",
       "\n",
       "mpl.figure.prototype.toolbar_button_onmouseover = function(tooltip) {\n",
       "    this.message.textContent = tooltip;\n",
       "};\n",
       "mpl.toolbar_items = [[\"Home\", \"Reset original view\", \"fa fa-home icon-home\", \"home\"], [\"Back\", \"Back to  previous view\", \"fa fa-arrow-left icon-arrow-left\", \"back\"], [\"Forward\", \"Forward to next view\", \"fa fa-arrow-right icon-arrow-right\", \"forward\"], [\"\", \"\", \"\", \"\"], [\"Pan\", \"Pan axes with left mouse, zoom with right\", \"fa fa-arrows icon-move\", \"pan\"], [\"Zoom\", \"Zoom to rectangle\", \"fa fa-square-o icon-check-empty\", \"zoom\"], [\"\", \"\", \"\", \"\"], [\"Download\", \"Download plot\", \"fa fa-floppy-o icon-save\", \"download\"]];\n",
       "\n",
       "mpl.extensions = [\"eps\", \"jpeg\", \"pdf\", \"png\", \"ps\", \"raw\", \"svg\", \"tif\"];\n",
       "\n",
       "mpl.default_extension = \"png\";var comm_websocket_adapter = function(comm) {\n",
       "    // Create a \"websocket\"-like object which calls the given IPython comm\n",
       "    // object with the appropriate methods. Currently this is a non binary\n",
       "    // socket, so there is still some room for performance tuning.\n",
       "    var ws = {};\n",
       "\n",
       "    ws.close = function() {\n",
       "        comm.close()\n",
       "    };\n",
       "    ws.send = function(m) {\n",
       "        //console.log('sending', m);\n",
       "        comm.send(m);\n",
       "    };\n",
       "    // Register the callback with on_msg.\n",
       "    comm.on_msg(function(msg) {\n",
       "        //console.log('receiving', msg['content']['data'], msg);\n",
       "        // Pass the mpl event to the overriden (by mpl) onmessage function.\n",
       "        ws.onmessage(msg['content']['data'])\n",
       "    });\n",
       "    return ws;\n",
       "}\n",
       "\n",
       "mpl.mpl_figure_comm = function(comm, msg) {\n",
       "    // This is the function which gets called when the mpl process\n",
       "    // starts-up an IPython Comm through the \"matplotlib\" channel.\n",
       "\n",
       "    var id = msg.content.data.id;\n",
       "    // Get hold of the div created by the display call when the Comm\n",
       "    // socket was opened in Python.\n",
       "    var element = $(\"#\" + id);\n",
       "    var ws_proxy = comm_websocket_adapter(comm)\n",
       "\n",
       "    function ondownload(figure, format) {\n",
       "        window.open(figure.imageObj.src);\n",
       "    }\n",
       "\n",
       "    var fig = new mpl.figure(id, ws_proxy,\n",
       "                           ondownload,\n",
       "                           element.get(0));\n",
       "\n",
       "    // Call onopen now - mpl needs it, as it is assuming we've passed it a real\n",
       "    // web socket which is closed, not our websocket->open comm proxy.\n",
       "    ws_proxy.onopen();\n",
       "\n",
       "    fig.parent_element = element.get(0);\n",
       "    fig.cell_info = mpl.find_output_cell(\"<div id='\" + id + \"'></div>\");\n",
       "    if (!fig.cell_info) {\n",
       "        console.error(\"Failed to find cell for figure\", id, fig);\n",
       "        return;\n",
       "    }\n",
       "\n",
       "    var output_index = fig.cell_info[2]\n",
       "    var cell = fig.cell_info[0];\n",
       "\n",
       "};\n",
       "\n",
       "mpl.figure.prototype.handle_close = function(fig, msg) {\n",
       "    fig.root.unbind('remove')\n",
       "\n",
       "    // Update the output cell to use the data from the current canvas.\n",
       "    fig.push_to_output();\n",
       "    var dataURL = fig.canvas.toDataURL();\n",
       "    // Re-enable the keyboard manager in IPython - without this line, in FF,\n",
       "    // the notebook keyboard shortcuts fail.\n",
       "    IPython.keyboard_manager.enable()\n",
       "    $(fig.parent_element).html('<img src=\"' + dataURL + '\">');\n",
       "    fig.close_ws(fig, msg);\n",
       "}\n",
       "\n",
       "mpl.figure.prototype.close_ws = function(fig, msg){\n",
       "    fig.send_message('closing', msg);\n",
       "    // fig.ws.close()\n",
       "}\n",
       "\n",
       "mpl.figure.prototype.push_to_output = function(remove_interactive) {\n",
       "    // Turn the data on the canvas into data in the output cell.\n",
       "    var dataURL = this.canvas.toDataURL();\n",
       "    this.cell_info[1]['text/html'] = '<img src=\"' + dataURL + '\">';\n",
       "}\n",
       "\n",
       "mpl.figure.prototype.updated_canvas_event = function() {\n",
       "    // Tell IPython that the notebook contents must change.\n",
       "    IPython.notebook.set_dirty(true);\n",
       "    this.send_message(\"ack\", {});\n",
       "    var fig = this;\n",
       "    // Wait a second, then push the new image to the DOM so\n",
       "    // that it is saved nicely (might be nice to debounce this).\n",
       "    setTimeout(function () { fig.push_to_output() }, 1000);\n",
       "}\n",
       "\n",
       "mpl.figure.prototype._init_toolbar = function() {\n",
       "    var fig = this;\n",
       "\n",
       "    var nav_element = $('<div/>')\n",
       "    nav_element.attr('style', 'width: 100%');\n",
       "    this.root.append(nav_element);\n",
       "\n",
       "    // Define a callback function for later on.\n",
       "    function toolbar_event(event) {\n",
       "        return fig.toolbar_button_onclick(event['data']);\n",
       "    }\n",
       "    function toolbar_mouse_event(event) {\n",
       "        return fig.toolbar_button_onmouseover(event['data']);\n",
       "    }\n",
       "\n",
       "    for(var toolbar_ind in mpl.toolbar_items){\n",
       "        var name = mpl.toolbar_items[toolbar_ind][0];\n",
       "        var tooltip = mpl.toolbar_items[toolbar_ind][1];\n",
       "        var image = mpl.toolbar_items[toolbar_ind][2];\n",
       "        var method_name = mpl.toolbar_items[toolbar_ind][3];\n",
       "\n",
       "        if (!name) { continue; };\n",
       "\n",
       "        var button = $('<button class=\"btn btn-default\" href=\"#\" title=\"' + name + '\"><i class=\"fa ' + image + ' fa-lg\"></i></button>');\n",
       "        button.click(method_name, toolbar_event);\n",
       "        button.mouseover(tooltip, toolbar_mouse_event);\n",
       "        nav_element.append(button);\n",
       "    }\n",
       "\n",
       "    // Add the status bar.\n",
       "    var status_bar = $('<span class=\"mpl-message\" style=\"text-align:right; float: right;\"/>');\n",
       "    nav_element.append(status_bar);\n",
       "    this.message = status_bar[0];\n",
       "\n",
       "    // Add the close button to the window.\n",
       "    var buttongrp = $('<div class=\"btn-group inline pull-right\"></div>');\n",
       "    var button = $('<button class=\"btn btn-mini btn-primary\" href=\"#\" title=\"Stop Interaction\"><i class=\"fa fa-power-off icon-remove icon-large\"></i></button>');\n",
       "    button.click(function (evt) { fig.handle_close(fig, {}); } );\n",
       "    button.mouseover('Stop Interaction', toolbar_mouse_event);\n",
       "    buttongrp.append(button);\n",
       "    var titlebar = this.root.find($('.ui-dialog-titlebar'));\n",
       "    titlebar.prepend(buttongrp);\n",
       "}\n",
       "\n",
       "mpl.figure.prototype._root_extra_style = function(el){\n",
       "    var fig = this\n",
       "    el.on(\"remove\", function(){\n",
       "\tfig.close_ws(fig, {});\n",
       "    });\n",
       "}\n",
       "\n",
       "mpl.figure.prototype._canvas_extra_style = function(el){\n",
       "    // this is important to make the div 'focusable\n",
       "    el.attr('tabindex', 0)\n",
       "    // reach out to IPython and tell the keyboard manager to turn it's self\n",
       "    // off when our div gets focus\n",
       "\n",
       "    // location in version 3\n",
       "    if (IPython.notebook.keyboard_manager) {\n",
       "        IPython.notebook.keyboard_manager.register_events(el);\n",
       "    }\n",
       "    else {\n",
       "        // location in version 2\n",
       "        IPython.keyboard_manager.register_events(el);\n",
       "    }\n",
       "\n",
       "}\n",
       "\n",
       "mpl.figure.prototype._key_event_extra = function(event, name) {\n",
       "    var manager = IPython.notebook.keyboard_manager;\n",
       "    if (!manager)\n",
       "        manager = IPython.keyboard_manager;\n",
       "\n",
       "    // Check for shift+enter\n",
       "    if (event.shiftKey && event.which == 13) {\n",
       "        this.canvas_div.blur();\n",
       "        // select the cell after this one\n",
       "        var index = IPython.notebook.find_cell_index(this.cell_info[0]);\n",
       "        IPython.notebook.select(index + 1);\n",
       "    }\n",
       "}\n",
       "\n",
       "mpl.figure.prototype.handle_save = function(fig, msg) {\n",
       "    fig.ondownload(fig, null);\n",
       "}\n",
       "\n",
       "\n",
       "mpl.find_output_cell = function(html_output) {\n",
       "    // Return the cell and output element which can be found *uniquely* in the notebook.\n",
       "    // Note - this is a bit hacky, but it is done because the \"notebook_saving.Notebook\"\n",
       "    // IPython event is triggered only after the cells have been serialised, which for\n",
       "    // our purposes (turning an active figure into a static one), is too late.\n",
       "    var cells = IPython.notebook.get_cells();\n",
       "    var ncells = cells.length;\n",
       "    for (var i=0; i<ncells; i++) {\n",
       "        var cell = cells[i];\n",
       "        if (cell.cell_type === 'code'){\n",
       "            for (var j=0; j<cell.output_area.outputs.length; j++) {\n",
       "                var data = cell.output_area.outputs[j];\n",
       "                if (data.data) {\n",
       "                    // IPython >= 3 moved mimebundle to data attribute of output\n",
       "                    data = data.data;\n",
       "                }\n",
       "                if (data['text/html'] == html_output) {\n",
       "                    return [cell, data, j];\n",
       "                }\n",
       "            }\n",
       "        }\n",
       "    }\n",
       "}\n",
       "\n",
       "// Register the function which deals with the matplotlib target/channel.\n",
       "// The kernel may be null if the page has been refreshed.\n",
       "if (IPython.notebook.kernel != null) {\n",
       "    IPython.notebook.kernel.comm_manager.register_target('matplotlib', mpl.mpl_figure_comm);\n",
       "}\n"
      ],
      "text/plain": [
       "<IPython.core.display.Javascript object>"
      ]
     },
     "metadata": {},
     "output_type": "display_data"
    },
    {
     "data": {
      "text/html": [
       "<img src=\"data:image/png;base64,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\">"
      ],
      "text/plain": [
       "<IPython.core.display.HTML object>"
      ]
     },
     "metadata": {},
     "output_type": "display_data"
    },
    {
     "data": {
      "text/plain": [
       "[<matplotlib.lines.Line2D at 0xb705e48>]"
      ]
     },
     "execution_count": 21,
     "metadata": {},
     "output_type": "execute_result"
    }
   ],
   "source": [
    "plt.figure()\n",
    "plt.plot(data_datetime)"
   ]
  },
  {
   "cell_type": "markdown",
   "metadata": {},
   "source": [
    "# Delete data in the reservoir"
   ]
  },
  {
   "cell_type": "code",
   "execution_count": 18,
   "metadata": {
    "collapsed": true
   },
   "outputs": [],
   "source": [
    "client.delete(response['TimeSeriesId'])"
   ]
  },
  {
   "cell_type": "code",
   "execution_count": null,
   "metadata": {
    "collapsed": true
   },
   "outputs": [],
   "source": []
  }
 ],
 "metadata": {
  "anaconda-cloud": {},
  "kernelspec": {
   "display_name": "Python [default]",
   "language": "python",
   "name": "python2"
  },
  "language_info": {
   "codemirror_mode": {
    "name": "ipython",
    "version": 2
   },
   "file_extension": ".py",
   "mimetype": "text/x-python",
   "name": "python",
   "nbconvert_exporter": "python",
   "pygments_lexer": "ipython2",
   "version": "2.7.13"
  }
 },
 "nbformat": 4,
 "nbformat_minor": 1
}
